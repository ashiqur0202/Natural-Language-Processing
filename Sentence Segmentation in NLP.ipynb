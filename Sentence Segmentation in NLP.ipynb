{
 "cells": [
  {
   "cell_type": "markdown",
   "id": "520571e2-ce0e-4f58-ba25-86ef1998e76a",
   "metadata": {},
   "source": [
    "__Sentence segmentation__\n",
    "\n",
    "Sentence segmentation, also known as sentence boundary disambiguation, is the process of identifying the boundaries between sentences in a text. In natural language processing (NLP), sentence segmentation is an essential step in many applications, such as text summarization, machine translation, and speech recognition.\n",
    "\n",
    "There are different techniques to perform sentence segmentation in NLP, including rule-based methods and statistical models. Rule-based methods rely on heuristics and linguistic rules to identify sentence boundaries based on features such as punctuation marks and capitalization. On the other hand, statistical models use machine learning algorithms to learn from annotated data and predict sentence boundaries based on various features such as sentence length and word frequency.\n",
    "\n",
    "Sentence segmentation is crucial because it helps to break down text into smaller units that can be analyzed and processed more efficiently. Moreover, it is necessary to avoid errors that can arise when analyzing or processing text at the wrong sentence level.\n",
    "\n",
    "In conclusion, sentence segmentation is a fundamental task in NLP that helps to improve the accuracy of many NLP applications. By identifying sentence boundaries accurately, we can process and analyze text more effectively, leading to better results and insights."
   ]
  },
  {
   "cell_type": "code",
   "execution_count": 1,
   "id": "8b319033-ab45-401a-904a-aaa2a842edae",
   "metadata": {
    "tags": []
   },
   "outputs": [],
   "source": [
    "import spacy \n",
    "nlp = spacy.load('en_core_web_sm')"
   ]
  },
  {
   "cell_type": "code",
   "execution_count": 2,
   "id": "2d03a74d-0c22-40b8-a02d-0031a38c62a5",
   "metadata": {
    "tags": []
   },
   "outputs": [
    {
     "name": "stdout",
     "output_type": "stream",
     "text": [
      "This is the first sentence.\n",
      "This is another sentence.\n",
      "This is the last sentence.\n"
     ]
    }
   ],
   "source": [
    "doc = nlp(u'This is the first sentence. This is another sentence. This is the last sentence.')\n",
    "\n",
    "for sent in doc.sents:\n",
    "    print(sent)"
   ]
  },
  {
   "cell_type": "code",
   "execution_count": 3,
   "id": "41d81f86-2eba-43d9-a589-954749a54aee",
   "metadata": {
    "tags": []
   },
   "outputs": [
    {
     "name": "stdout",
     "output_type": "stream",
     "text": [
      "is\n"
     ]
    }
   ],
   "source": [
    "print(doc[1])"
   ]
  },
  {
   "cell_type": "code",
   "execution_count": 4,
   "id": "0fd5b05f-f06b-44fc-b667-267930031d06",
   "metadata": {
    "tags": []
   },
   "outputs": [
    {
     "ename": "TypeError",
     "evalue": "'generator' object is not subscriptable",
     "output_type": "error",
     "traceback": [
      "\u001b[1;31m---------------------------------------------------------------------------\u001b[0m",
      "\u001b[1;31mTypeError\u001b[0m                                 Traceback (most recent call last)",
      "Cell \u001b[1;32mIn[4], line 1\u001b[0m\n\u001b[1;32m----> 1\u001b[0m \u001b[38;5;28mprint\u001b[39m(\u001b[43mdoc\u001b[49m\u001b[38;5;241;43m.\u001b[39;49m\u001b[43msents\u001b[49m\u001b[43m[\u001b[49m\u001b[38;5;241;43m1\u001b[39;49m\u001b[43m]\u001b[49m)\n",
      "\u001b[1;31mTypeError\u001b[0m: 'generator' object is not subscriptable"
     ]
    }
   ],
   "source": [
    "print(doc.sents[1])"
   ]
  },
  {
   "cell_type": "code",
   "execution_count": 5,
   "id": "8e3b2181-fa89-447f-9cd4-d35dd6497d41",
   "metadata": {
    "tags": []
   },
   "outputs": [
    {
     "data": {
      "text/plain": [
       "[This is the first sentence.,\n",
       " This is another sentence.,\n",
       " This is the last sentence.]"
      ]
     },
     "execution_count": 5,
     "metadata": {},
     "output_type": "execute_result"
    }
   ],
   "source": [
    "doc_sents = [sent for sent in doc.sents]\n",
    "doc_sents"
   ]
  },
  {
   "cell_type": "code",
   "execution_count": 6,
   "id": "9ca87ae8-c865-45e3-bc67-5a5e0cc10989",
   "metadata": {
    "tags": []
   },
   "outputs": [
    {
     "name": "stdout",
     "output_type": "stream",
     "text": [
      "is\n"
     ]
    }
   ],
   "source": [
    "print(doc[1])"
   ]
  },
  {
   "cell_type": "code",
   "execution_count": 9,
   "id": "5fc72338-9d22-47fb-94f2-0b0749cb4231",
   "metadata": {
    "tags": []
   },
   "outputs": [
    {
     "name": "stdout",
     "output_type": "stream",
     "text": [
      "is\n"
     ]
    }
   ],
   "source": [
    "print(doc[1])"
   ]
  },
  {
   "cell_type": "code",
   "execution_count": null,
   "id": "eda75096-dbc6-4586-80e6-6eef225071fd",
   "metadata": {},
   "outputs": [],
   "source": []
  }
 ],
 "metadata": {
  "kernelspec": {
   "display_name": "Python 3 (ipykernel)",
   "language": "python",
   "name": "python3"
  },
  "language_info": {
   "codemirror_mode": {
    "name": "ipython",
    "version": 3
   },
   "file_extension": ".py",
   "mimetype": "text/x-python",
   "name": "python",
   "nbconvert_exporter": "python",
   "pygments_lexer": "ipython3",
   "version": "3.11.1"
  }
 },
 "nbformat": 4,
 "nbformat_minor": 5
}
