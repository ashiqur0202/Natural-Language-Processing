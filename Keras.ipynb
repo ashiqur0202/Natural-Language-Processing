{
 "cells": [
  {
   "cell_type": "code",
   "execution_count": 1,
   "id": "8d5d8d48-7a2b-4465-830a-fd2ffd02bc6e",
   "metadata": {
    "tags": []
   },
   "outputs": [],
   "source": [
    "import numpy as np"
   ]
  },
  {
   "cell_type": "code",
   "execution_count": 2,
   "id": "745c1ebd-8417-4f7c-82cd-6490dfc93120",
   "metadata": {
    "tags": []
   },
   "outputs": [],
   "source": [
    "from sklearn.datasets import load_iris"
   ]
  },
  {
   "cell_type": "code",
   "execution_count": 3,
   "id": "93868f95-ea97-4bd7-9ab8-2cf1cfd3a337",
   "metadata": {
    "tags": []
   },
   "outputs": [],
   "source": [
    "iris = load_iris()"
   ]
  },
  {
   "cell_type": "code",
   "execution_count": 4,
   "id": "a7451888-9311-4128-8f49-57bf605bd311",
   "metadata": {
    "tags": []
   },
   "outputs": [
    {
     "data": {
      "text/plain": [
       "sklearn.utils._bunch.Bunch"
      ]
     },
     "execution_count": 4,
     "metadata": {},
     "output_type": "execute_result"
    }
   ],
   "source": [
    "type(iris)"
   ]
  },
  {
   "cell_type": "code",
   "execution_count": 7,
   "id": "aaa1f17b-4ae2-4810-b42a-8ee90ff6fe65",
   "metadata": {
    "tags": []
   },
   "outputs": [
    {
     "name": "stdout",
     "output_type": "stream",
     "text": [
      ".. _iris_dataset:\n",
      "\n",
      "Iris plants dataset\n",
      "--------------------\n",
      "\n",
      "**Data Set Characteristics:**\n",
      "\n",
      "    :Number of Instances: 150 (50 in each of three classes)\n",
      "    :Number of Attributes: 4 numeric, predictive attributes and the class\n",
      "    :Attribute Information:\n",
      "        - sepal length in cm\n",
      "        - sepal width in cm\n",
      "        - petal length in cm\n",
      "        - petal width in cm\n",
      "        - class:\n",
      "                - Iris-Setosa\n",
      "                - Iris-Versicolour\n",
      "                - Iris-Virginica\n",
      "                \n",
      "    :Summary Statistics:\n",
      "\n",
      "    ============== ==== ==== ======= ===== ====================\n",
      "                    Min  Max   Mean    SD   Class Correlation\n",
      "    ============== ==== ==== ======= ===== ====================\n",
      "    sepal length:   4.3  7.9   5.84   0.83    0.7826\n",
      "    sepal width:    2.0  4.4   3.05   0.43   -0.4194\n",
      "    petal length:   1.0  6.9   3.76   1.76    0.9490  (high!)\n",
      "    petal width:    0.1  2.5   1.20   0.76    0.9565  (high!)\n",
      "    ============== ==== ==== ======= ===== ====================\n",
      "\n",
      "    :Missing Attribute Values: None\n",
      "    :Class Distribution: 33.3% for each of 3 classes.\n",
      "    :Creator: R.A. Fisher\n",
      "    :Donor: Michael Marshall (MARSHALL%PLU@io.arc.nasa.gov)\n",
      "    :Date: July, 1988\n",
      "\n",
      "The famous Iris database, first used by Sir R.A. Fisher. The dataset is taken\n",
      "from Fisher's paper. Note that it's the same as in R, but not as in the UCI\n",
      "Machine Learning Repository, which has two wrong data points.\n",
      "\n",
      "This is perhaps the best known database to be found in the\n",
      "pattern recognition literature.  Fisher's paper is a classic in the field and\n",
      "is referenced frequently to this day.  (See Duda & Hart, for example.)  The\n",
      "data set contains 3 classes of 50 instances each, where each class refers to a\n",
      "type of iris plant.  One class is linearly separable from the other 2; the\n",
      "latter are NOT linearly separable from each other.\n",
      "\n",
      ".. topic:: References\n",
      "\n",
      "   - Fisher, R.A. \"The use of multiple measurements in taxonomic problems\"\n",
      "     Annual Eugenics, 7, Part II, 179-188 (1936); also in \"Contributions to\n",
      "     Mathematical Statistics\" (John Wiley, NY, 1950).\n",
      "   - Duda, R.O., & Hart, P.E. (1973) Pattern Classification and Scene Analysis.\n",
      "     (Q327.D83) John Wiley & Sons.  ISBN 0-471-22361-1.  See page 218.\n",
      "   - Dasarathy, B.V. (1980) \"Nosing Around the Neighborhood: A New System\n",
      "     Structure and Classification Rule for Recognition in Partially Exposed\n",
      "     Environments\".  IEEE Transactions on Pattern Analysis and Machine\n",
      "     Intelligence, Vol. PAMI-2, No. 1, 67-71.\n",
      "   - Gates, G.W. (1972) \"The Reduced Nearest Neighbor Rule\".  IEEE Transactions\n",
      "     on Information Theory, May 1972, 431-433.\n",
      "   - See also: 1988 MLC Proceedings, 54-64.  Cheeseman et al\"s AUTOCLASS II\n",
      "     conceptual clustering system finds 3 classes in the data.\n",
      "   - Many, many more ...\n"
     ]
    }
   ],
   "source": [
    "print(iris.DESCR)"
   ]
  },
  {
   "cell_type": "code",
   "execution_count": 11,
   "id": "8d487500-a82a-4d65-859e-8d9552aee615",
   "metadata": {
    "tags": []
   },
   "outputs": [],
   "source": [
    "X = iris.data"
   ]
  },
  {
   "cell_type": "code",
   "execution_count": 12,
   "id": "544face9-9a3e-497c-a789-c086e338d7f0",
   "metadata": {
    "tags": []
   },
   "outputs": [
    {
     "data": {
      "text/plain": [
       "array([[5.1, 3.5, 1.4, 0.2],\n",
       "       [4.9, 3. , 1.4, 0.2],\n",
       "       [4.7, 3.2, 1.3, 0.2],\n",
       "       [4.6, 3.1, 1.5, 0.2],\n",
       "       [5. , 3.6, 1.4, 0.2],\n",
       "       [5.4, 3.9, 1.7, 0.4],\n",
       "       [4.6, 3.4, 1.4, 0.3],\n",
       "       [5. , 3.4, 1.5, 0.2],\n",
       "       [4.4, 2.9, 1.4, 0.2],\n",
       "       [4.9, 3.1, 1.5, 0.1],\n",
       "       [5.4, 3.7, 1.5, 0.2],\n",
       "       [4.8, 3.4, 1.6, 0.2],\n",
       "       [4.8, 3. , 1.4, 0.1],\n",
       "       [4.3, 3. , 1.1, 0.1],\n",
       "       [5.8, 4. , 1.2, 0.2],\n",
       "       [5.7, 4.4, 1.5, 0.4],\n",
       "       [5.4, 3.9, 1.3, 0.4],\n",
       "       [5.1, 3.5, 1.4, 0.3],\n",
       "       [5.7, 3.8, 1.7, 0.3],\n",
       "       [5.1, 3.8, 1.5, 0.3],\n",
       "       [5.4, 3.4, 1.7, 0.2],\n",
       "       [5.1, 3.7, 1.5, 0.4],\n",
       "       [4.6, 3.6, 1. , 0.2],\n",
       "       [5.1, 3.3, 1.7, 0.5],\n",
       "       [4.8, 3.4, 1.9, 0.2],\n",
       "       [5. , 3. , 1.6, 0.2],\n",
       "       [5. , 3.4, 1.6, 0.4],\n",
       "       [5.2, 3.5, 1.5, 0.2],\n",
       "       [5.2, 3.4, 1.4, 0.2],\n",
       "       [4.7, 3.2, 1.6, 0.2],\n",
       "       [4.8, 3.1, 1.6, 0.2],\n",
       "       [5.4, 3.4, 1.5, 0.4],\n",
       "       [5.2, 4.1, 1.5, 0.1],\n",
       "       [5.5, 4.2, 1.4, 0.2],\n",
       "       [4.9, 3.1, 1.5, 0.2],\n",
       "       [5. , 3.2, 1.2, 0.2],\n",
       "       [5.5, 3.5, 1.3, 0.2],\n",
       "       [4.9, 3.6, 1.4, 0.1],\n",
       "       [4.4, 3. , 1.3, 0.2],\n",
       "       [5.1, 3.4, 1.5, 0.2],\n",
       "       [5. , 3.5, 1.3, 0.3],\n",
       "       [4.5, 2.3, 1.3, 0.3],\n",
       "       [4.4, 3.2, 1.3, 0.2],\n",
       "       [5. , 3.5, 1.6, 0.6],\n",
       "       [5.1, 3.8, 1.9, 0.4],\n",
       "       [4.8, 3. , 1.4, 0.3],\n",
       "       [5.1, 3.8, 1.6, 0.2],\n",
       "       [4.6, 3.2, 1.4, 0.2],\n",
       "       [5.3, 3.7, 1.5, 0.2],\n",
       "       [5. , 3.3, 1.4, 0.2],\n",
       "       [7. , 3.2, 4.7, 1.4],\n",
       "       [6.4, 3.2, 4.5, 1.5],\n",
       "       [6.9, 3.1, 4.9, 1.5],\n",
       "       [5.5, 2.3, 4. , 1.3],\n",
       "       [6.5, 2.8, 4.6, 1.5],\n",
       "       [5.7, 2.8, 4.5, 1.3],\n",
       "       [6.3, 3.3, 4.7, 1.6],\n",
       "       [4.9, 2.4, 3.3, 1. ],\n",
       "       [6.6, 2.9, 4.6, 1.3],\n",
       "       [5.2, 2.7, 3.9, 1.4],\n",
       "       [5. , 2. , 3.5, 1. ],\n",
       "       [5.9, 3. , 4.2, 1.5],\n",
       "       [6. , 2.2, 4. , 1. ],\n",
       "       [6.1, 2.9, 4.7, 1.4],\n",
       "       [5.6, 2.9, 3.6, 1.3],\n",
       "       [6.7, 3.1, 4.4, 1.4],\n",
       "       [5.6, 3. , 4.5, 1.5],\n",
       "       [5.8, 2.7, 4.1, 1. ],\n",
       "       [6.2, 2.2, 4.5, 1.5],\n",
       "       [5.6, 2.5, 3.9, 1.1],\n",
       "       [5.9, 3.2, 4.8, 1.8],\n",
       "       [6.1, 2.8, 4. , 1.3],\n",
       "       [6.3, 2.5, 4.9, 1.5],\n",
       "       [6.1, 2.8, 4.7, 1.2],\n",
       "       [6.4, 2.9, 4.3, 1.3],\n",
       "       [6.6, 3. , 4.4, 1.4],\n",
       "       [6.8, 2.8, 4.8, 1.4],\n",
       "       [6.7, 3. , 5. , 1.7],\n",
       "       [6. , 2.9, 4.5, 1.5],\n",
       "       [5.7, 2.6, 3.5, 1. ],\n",
       "       [5.5, 2.4, 3.8, 1.1],\n",
       "       [5.5, 2.4, 3.7, 1. ],\n",
       "       [5.8, 2.7, 3.9, 1.2],\n",
       "       [6. , 2.7, 5.1, 1.6],\n",
       "       [5.4, 3. , 4.5, 1.5],\n",
       "       [6. , 3.4, 4.5, 1.6],\n",
       "       [6.7, 3.1, 4.7, 1.5],\n",
       "       [6.3, 2.3, 4.4, 1.3],\n",
       "       [5.6, 3. , 4.1, 1.3],\n",
       "       [5.5, 2.5, 4. , 1.3],\n",
       "       [5.5, 2.6, 4.4, 1.2],\n",
       "       [6.1, 3. , 4.6, 1.4],\n",
       "       [5.8, 2.6, 4. , 1.2],\n",
       "       [5. , 2.3, 3.3, 1. ],\n",
       "       [5.6, 2.7, 4.2, 1.3],\n",
       "       [5.7, 3. , 4.2, 1.2],\n",
       "       [5.7, 2.9, 4.2, 1.3],\n",
       "       [6.2, 2.9, 4.3, 1.3],\n",
       "       [5.1, 2.5, 3. , 1.1],\n",
       "       [5.7, 2.8, 4.1, 1.3],\n",
       "       [6.3, 3.3, 6. , 2.5],\n",
       "       [5.8, 2.7, 5.1, 1.9],\n",
       "       [7.1, 3. , 5.9, 2.1],\n",
       "       [6.3, 2.9, 5.6, 1.8],\n",
       "       [6.5, 3. , 5.8, 2.2],\n",
       "       [7.6, 3. , 6.6, 2.1],\n",
       "       [4.9, 2.5, 4.5, 1.7],\n",
       "       [7.3, 2.9, 6.3, 1.8],\n",
       "       [6.7, 2.5, 5.8, 1.8],\n",
       "       [7.2, 3.6, 6.1, 2.5],\n",
       "       [6.5, 3.2, 5.1, 2. ],\n",
       "       [6.4, 2.7, 5.3, 1.9],\n",
       "       [6.8, 3. , 5.5, 2.1],\n",
       "       [5.7, 2.5, 5. , 2. ],\n",
       "       [5.8, 2.8, 5.1, 2.4],\n",
       "       [6.4, 3.2, 5.3, 2.3],\n",
       "       [6.5, 3. , 5.5, 1.8],\n",
       "       [7.7, 3.8, 6.7, 2.2],\n",
       "       [7.7, 2.6, 6.9, 2.3],\n",
       "       [6. , 2.2, 5. , 1.5],\n",
       "       [6.9, 3.2, 5.7, 2.3],\n",
       "       [5.6, 2.8, 4.9, 2. ],\n",
       "       [7.7, 2.8, 6.7, 2. ],\n",
       "       [6.3, 2.7, 4.9, 1.8],\n",
       "       [6.7, 3.3, 5.7, 2.1],\n",
       "       [7.2, 3.2, 6. , 1.8],\n",
       "       [6.2, 2.8, 4.8, 1.8],\n",
       "       [6.1, 3. , 4.9, 1.8],\n",
       "       [6.4, 2.8, 5.6, 2.1],\n",
       "       [7.2, 3. , 5.8, 1.6],\n",
       "       [7.4, 2.8, 6.1, 1.9],\n",
       "       [7.9, 3.8, 6.4, 2. ],\n",
       "       [6.4, 2.8, 5.6, 2.2],\n",
       "       [6.3, 2.8, 5.1, 1.5],\n",
       "       [6.1, 2.6, 5.6, 1.4],\n",
       "       [7.7, 3. , 6.1, 2.3],\n",
       "       [6.3, 3.4, 5.6, 2.4],\n",
       "       [6.4, 3.1, 5.5, 1.8],\n",
       "       [6. , 3. , 4.8, 1.8],\n",
       "       [6.9, 3.1, 5.4, 2.1],\n",
       "       [6.7, 3.1, 5.6, 2.4],\n",
       "       [6.9, 3.1, 5.1, 2.3],\n",
       "       [5.8, 2.7, 5.1, 1.9],\n",
       "       [6.8, 3.2, 5.9, 2.3],\n",
       "       [6.7, 3.3, 5.7, 2.5],\n",
       "       [6.7, 3. , 5.2, 2.3],\n",
       "       [6.3, 2.5, 5. , 1.9],\n",
       "       [6.5, 3. , 5.2, 2. ],\n",
       "       [6.2, 3.4, 5.4, 2.3],\n",
       "       [5.9, 3. , 5.1, 1.8]])"
      ]
     },
     "execution_count": 12,
     "metadata": {},
     "output_type": "execute_result"
    }
   ],
   "source": [
    "X"
   ]
  },
  {
   "cell_type": "code",
   "execution_count": 13,
   "id": "0cf6a356-7cbd-4493-9e57-8edf0264503f",
   "metadata": {
    "tags": []
   },
   "outputs": [],
   "source": [
    "y = iris.target"
   ]
  },
  {
   "cell_type": "code",
   "execution_count": 14,
   "id": "83a6d2e9-12b0-4edc-a011-2a2ad5e26f4e",
   "metadata": {
    "tags": []
   },
   "outputs": [
    {
     "data": {
      "text/plain": [
       "array([0, 0, 0, 0, 0, 0, 0, 0, 0, 0, 0, 0, 0, 0, 0, 0, 0, 0, 0, 0, 0, 0,\n",
       "       0, 0, 0, 0, 0, 0, 0, 0, 0, 0, 0, 0, 0, 0, 0, 0, 0, 0, 0, 0, 0, 0,\n",
       "       0, 0, 0, 0, 0, 0, 1, 1, 1, 1, 1, 1, 1, 1, 1, 1, 1, 1, 1, 1, 1, 1,\n",
       "       1, 1, 1, 1, 1, 1, 1, 1, 1, 1, 1, 1, 1, 1, 1, 1, 1, 1, 1, 1, 1, 1,\n",
       "       1, 1, 1, 1, 1, 1, 1, 1, 1, 1, 1, 1, 2, 2, 2, 2, 2, 2, 2, 2, 2, 2,\n",
       "       2, 2, 2, 2, 2, 2, 2, 2, 2, 2, 2, 2, 2, 2, 2, 2, 2, 2, 2, 2, 2, 2,\n",
       "       2, 2, 2, 2, 2, 2, 2, 2, 2, 2, 2, 2, 2, 2, 2, 2, 2, 2])"
      ]
     },
     "execution_count": 14,
     "metadata": {},
     "output_type": "execute_result"
    }
   ],
   "source": [
    "y"
   ]
  },
  {
   "cell_type": "code",
   "execution_count": 20,
   "id": "44d532b1-8c4c-4a75-bc1e-3cf57f34c5d9",
   "metadata": {
    "tags": []
   },
   "outputs": [],
   "source": [
    "# One hot encoding "
   ]
  },
  {
   "cell_type": "code",
   "execution_count": 16,
   "id": "d0ead370-0a37-4277-bda5-a4c881752c52",
   "metadata": {
    "tags": []
   },
   "outputs": [],
   "source": [
    "from keras.utils import to_categorical"
   ]
  },
  {
   "cell_type": "code",
   "execution_count": 17,
   "id": "61fcc6af-2194-4db0-9602-bb2901eb8ba8",
   "metadata": {
    "tags": []
   },
   "outputs": [],
   "source": [
    "y = to_categorical(y)"
   ]
  },
  {
   "cell_type": "code",
   "execution_count": 18,
   "id": "e9c8d36a-0e5c-4e75-a899-9042b13e3dc2",
   "metadata": {
    "tags": []
   },
   "outputs": [
    {
     "data": {
      "text/plain": [
       "array([[1., 0., 0.],\n",
       "       [1., 0., 0.],\n",
       "       [1., 0., 0.],\n",
       "       [1., 0., 0.],\n",
       "       [1., 0., 0.],\n",
       "       [1., 0., 0.],\n",
       "       [1., 0., 0.],\n",
       "       [1., 0., 0.],\n",
       "       [1., 0., 0.],\n",
       "       [1., 0., 0.],\n",
       "       [1., 0., 0.],\n",
       "       [1., 0., 0.],\n",
       "       [1., 0., 0.],\n",
       "       [1., 0., 0.],\n",
       "       [1., 0., 0.],\n",
       "       [1., 0., 0.],\n",
       "       [1., 0., 0.],\n",
       "       [1., 0., 0.],\n",
       "       [1., 0., 0.],\n",
       "       [1., 0., 0.],\n",
       "       [1., 0., 0.],\n",
       "       [1., 0., 0.],\n",
       "       [1., 0., 0.],\n",
       "       [1., 0., 0.],\n",
       "       [1., 0., 0.],\n",
       "       [1., 0., 0.],\n",
       "       [1., 0., 0.],\n",
       "       [1., 0., 0.],\n",
       "       [1., 0., 0.],\n",
       "       [1., 0., 0.],\n",
       "       [1., 0., 0.],\n",
       "       [1., 0., 0.],\n",
       "       [1., 0., 0.],\n",
       "       [1., 0., 0.],\n",
       "       [1., 0., 0.],\n",
       "       [1., 0., 0.],\n",
       "       [1., 0., 0.],\n",
       "       [1., 0., 0.],\n",
       "       [1., 0., 0.],\n",
       "       [1., 0., 0.],\n",
       "       [1., 0., 0.],\n",
       "       [1., 0., 0.],\n",
       "       [1., 0., 0.],\n",
       "       [1., 0., 0.],\n",
       "       [1., 0., 0.],\n",
       "       [1., 0., 0.],\n",
       "       [1., 0., 0.],\n",
       "       [1., 0., 0.],\n",
       "       [1., 0., 0.],\n",
       "       [1., 0., 0.],\n",
       "       [0., 1., 0.],\n",
       "       [0., 1., 0.],\n",
       "       [0., 1., 0.],\n",
       "       [0., 1., 0.],\n",
       "       [0., 1., 0.],\n",
       "       [0., 1., 0.],\n",
       "       [0., 1., 0.],\n",
       "       [0., 1., 0.],\n",
       "       [0., 1., 0.],\n",
       "       [0., 1., 0.],\n",
       "       [0., 1., 0.],\n",
       "       [0., 1., 0.],\n",
       "       [0., 1., 0.],\n",
       "       [0., 1., 0.],\n",
       "       [0., 1., 0.],\n",
       "       [0., 1., 0.],\n",
       "       [0., 1., 0.],\n",
       "       [0., 1., 0.],\n",
       "       [0., 1., 0.],\n",
       "       [0., 1., 0.],\n",
       "       [0., 1., 0.],\n",
       "       [0., 1., 0.],\n",
       "       [0., 1., 0.],\n",
       "       [0., 1., 0.],\n",
       "       [0., 1., 0.],\n",
       "       [0., 1., 0.],\n",
       "       [0., 1., 0.],\n",
       "       [0., 1., 0.],\n",
       "       [0., 1., 0.],\n",
       "       [0., 1., 0.],\n",
       "       [0., 1., 0.],\n",
       "       [0., 1., 0.],\n",
       "       [0., 1., 0.],\n",
       "       [0., 1., 0.],\n",
       "       [0., 1., 0.],\n",
       "       [0., 1., 0.],\n",
       "       [0., 1., 0.],\n",
       "       [0., 1., 0.],\n",
       "       [0., 1., 0.],\n",
       "       [0., 1., 0.],\n",
       "       [0., 1., 0.],\n",
       "       [0., 1., 0.],\n",
       "       [0., 1., 0.],\n",
       "       [0., 1., 0.],\n",
       "       [0., 1., 0.],\n",
       "       [0., 1., 0.],\n",
       "       [0., 1., 0.],\n",
       "       [0., 1., 0.],\n",
       "       [0., 1., 0.],\n",
       "       [0., 1., 0.],\n",
       "       [0., 0., 1.],\n",
       "       [0., 0., 1.],\n",
       "       [0., 0., 1.],\n",
       "       [0., 0., 1.],\n",
       "       [0., 0., 1.],\n",
       "       [0., 0., 1.],\n",
       "       [0., 0., 1.],\n",
       "       [0., 0., 1.],\n",
       "       [0., 0., 1.],\n",
       "       [0., 0., 1.],\n",
       "       [0., 0., 1.],\n",
       "       [0., 0., 1.],\n",
       "       [0., 0., 1.],\n",
       "       [0., 0., 1.],\n",
       "       [0., 0., 1.],\n",
       "       [0., 0., 1.],\n",
       "       [0., 0., 1.],\n",
       "       [0., 0., 1.],\n",
       "       [0., 0., 1.],\n",
       "       [0., 0., 1.],\n",
       "       [0., 0., 1.],\n",
       "       [0., 0., 1.],\n",
       "       [0., 0., 1.],\n",
       "       [0., 0., 1.],\n",
       "       [0., 0., 1.],\n",
       "       [0., 0., 1.],\n",
       "       [0., 0., 1.],\n",
       "       [0., 0., 1.],\n",
       "       [0., 0., 1.],\n",
       "       [0., 0., 1.],\n",
       "       [0., 0., 1.],\n",
       "       [0., 0., 1.],\n",
       "       [0., 0., 1.],\n",
       "       [0., 0., 1.],\n",
       "       [0., 0., 1.],\n",
       "       [0., 0., 1.],\n",
       "       [0., 0., 1.],\n",
       "       [0., 0., 1.],\n",
       "       [0., 0., 1.],\n",
       "       [0., 0., 1.],\n",
       "       [0., 0., 1.],\n",
       "       [0., 0., 1.],\n",
       "       [0., 0., 1.],\n",
       "       [0., 0., 1.],\n",
       "       [0., 0., 1.],\n",
       "       [0., 0., 1.],\n",
       "       [0., 0., 1.],\n",
       "       [0., 0., 1.],\n",
       "       [0., 0., 1.],\n",
       "       [0., 0., 1.]], dtype=float32)"
      ]
     },
     "execution_count": 18,
     "metadata": {},
     "output_type": "execute_result"
    }
   ],
   "source": [
    "y"
   ]
  },
  {
   "cell_type": "code",
   "execution_count": 19,
   "id": "7b5f1357-7870-49ea-8cb9-942175d34bf9",
   "metadata": {
    "tags": []
   },
   "outputs": [
    {
     "data": {
      "text/plain": [
       "(150, 3)"
      ]
     },
     "execution_count": 19,
     "metadata": {},
     "output_type": "execute_result"
    }
   ],
   "source": [
    "y.shape"
   ]
  },
  {
   "cell_type": "markdown",
   "id": "51b50e23-8060-4340-a677-1e1375154289",
   "metadata": {
    "tags": []
   },
   "source": [
    "### Split the data into train and test"
   ]
  },
  {
   "cell_type": "code",
   "execution_count": 23,
   "id": "0aa88d24-69f8-4755-9f48-651821b5996a",
   "metadata": {
    "tags": []
   },
   "outputs": [],
   "source": [
    "from sklearn.model_selection import train_test_split\n",
    "X_train, X_test, y_train, y_test = train_test_split(X, y, test_size=0.33, random_state=42)"
   ]
  },
  {
   "cell_type": "code",
   "execution_count": 26,
   "id": "31c269c0-1cf7-4f57-ab81-e16c155c340b",
   "metadata": {
    "tags": []
   },
   "outputs": [
    {
     "data": {
      "text/plain": [
       "array([[5.7, 2.9, 4.2, 1.3],\n",
       "       [7.6, 3. , 6.6, 2.1],\n",
       "       [5.6, 3. , 4.5, 1.5],\n",
       "       [5.1, 3.5, 1.4, 0.2],\n",
       "       [7.7, 2.8, 6.7, 2. ],\n",
       "       [5.8, 2.7, 4.1, 1. ],\n",
       "       [5.2, 3.4, 1.4, 0.2],\n",
       "       [5. , 3.5, 1.3, 0.3],\n",
       "       [5.1, 3.8, 1.9, 0.4],\n",
       "       [5. , 2. , 3.5, 1. ],\n",
       "       [6.3, 2.7, 4.9, 1.8],\n",
       "       [4.8, 3.4, 1.9, 0.2],\n",
       "       [5. , 3. , 1.6, 0.2],\n",
       "       [5.1, 3.3, 1.7, 0.5],\n",
       "       [5.6, 2.7, 4.2, 1.3],\n",
       "       [5.1, 3.4, 1.5, 0.2],\n",
       "       [5.7, 3. , 4.2, 1.2],\n",
       "       [7.7, 3.8, 6.7, 2.2],\n",
       "       [4.6, 3.2, 1.4, 0.2],\n",
       "       [6.2, 2.9, 4.3, 1.3],\n",
       "       [5.7, 2.5, 5. , 2. ],\n",
       "       [5.5, 4.2, 1.4, 0.2],\n",
       "       [6. , 3. , 4.8, 1.8],\n",
       "       [5.8, 2.7, 5.1, 1.9],\n",
       "       [6. , 2.2, 4. , 1. ],\n",
       "       [5.4, 3. , 4.5, 1.5],\n",
       "       [6.2, 3.4, 5.4, 2.3],\n",
       "       [5.5, 2.3, 4. , 1.3],\n",
       "       [5.4, 3.9, 1.7, 0.4],\n",
       "       [5. , 2.3, 3.3, 1. ],\n",
       "       [6.4, 2.7, 5.3, 1.9],\n",
       "       [5. , 3.3, 1.4, 0.2],\n",
       "       [5. , 3.2, 1.2, 0.2],\n",
       "       [5.5, 2.4, 3.8, 1.1],\n",
       "       [6.7, 3. , 5. , 1.7],\n",
       "       [4.9, 3.1, 1.5, 0.2],\n",
       "       [5.8, 2.8, 5.1, 2.4],\n",
       "       [5. , 3.4, 1.5, 0.2],\n",
       "       [5. , 3.5, 1.6, 0.6],\n",
       "       [5.9, 3.2, 4.8, 1.8],\n",
       "       [5.1, 2.5, 3. , 1.1],\n",
       "       [6.9, 3.2, 5.7, 2.3],\n",
       "       [6. , 2.7, 5.1, 1.6],\n",
       "       [6.1, 2.6, 5.6, 1.4],\n",
       "       [7.7, 3. , 6.1, 2.3],\n",
       "       [5.5, 2.5, 4. , 1.3],\n",
       "       [4.4, 2.9, 1.4, 0.2],\n",
       "       [4.3, 3. , 1.1, 0.1],\n",
       "       [6. , 2.2, 5. , 1.5],\n",
       "       [7.2, 3.2, 6. , 1.8],\n",
       "       [4.6, 3.1, 1.5, 0.2],\n",
       "       [5.1, 3.5, 1.4, 0.3],\n",
       "       [4.4, 3. , 1.3, 0.2],\n",
       "       [6.3, 2.5, 4.9, 1.5],\n",
       "       [6.3, 3.4, 5.6, 2.4],\n",
       "       [4.6, 3.4, 1.4, 0.3],\n",
       "       [6.8, 3. , 5.5, 2.1],\n",
       "       [6.3, 3.3, 6. , 2.5],\n",
       "       [4.7, 3.2, 1.3, 0.2],\n",
       "       [6.1, 2.9, 4.7, 1.4],\n",
       "       [6.5, 2.8, 4.6, 1.5],\n",
       "       [6.2, 2.8, 4.8, 1.8],\n",
       "       [7. , 3.2, 4.7, 1.4],\n",
       "       [6.4, 3.2, 5.3, 2.3],\n",
       "       [5.1, 3.8, 1.6, 0.2],\n",
       "       [6.9, 3.1, 5.4, 2.1],\n",
       "       [5.9, 3. , 4.2, 1.5],\n",
       "       [6.5, 3. , 5.2, 2. ],\n",
       "       [5.7, 2.6, 3.5, 1. ],\n",
       "       [5.2, 2.7, 3.9, 1.4],\n",
       "       [6.1, 3. , 4.6, 1.4],\n",
       "       [4.5, 2.3, 1.3, 0.3],\n",
       "       [6.6, 2.9, 4.6, 1.3],\n",
       "       [5.5, 2.6, 4.4, 1.2],\n",
       "       [5.3, 3.7, 1.5, 0.2],\n",
       "       [5.6, 3. , 4.1, 1.3],\n",
       "       [7.3, 2.9, 6.3, 1.8],\n",
       "       [6.7, 3.3, 5.7, 2.1],\n",
       "       [5.1, 3.7, 1.5, 0.4],\n",
       "       [4.9, 2.4, 3.3, 1. ],\n",
       "       [6.7, 3.3, 5.7, 2.5],\n",
       "       [7.2, 3. , 5.8, 1.6],\n",
       "       [4.9, 3.6, 1.4, 0.1],\n",
       "       [6.7, 3.1, 5.6, 2.4],\n",
       "       [4.9, 3. , 1.4, 0.2],\n",
       "       [6.9, 3.1, 4.9, 1.5],\n",
       "       [7.4, 2.8, 6.1, 1.9],\n",
       "       [6.3, 2.9, 5.6, 1.8],\n",
       "       [5.7, 2.8, 4.1, 1.3],\n",
       "       [6.5, 3. , 5.5, 1.8],\n",
       "       [6.3, 2.3, 4.4, 1.3],\n",
       "       [6.4, 2.9, 4.3, 1.3],\n",
       "       [5.6, 2.8, 4.9, 2. ],\n",
       "       [5.9, 3. , 5.1, 1.8],\n",
       "       [5.4, 3.4, 1.7, 0.2],\n",
       "       [6.1, 2.8, 4. , 1.3],\n",
       "       [4.9, 2.5, 4.5, 1.7],\n",
       "       [5.8, 4. , 1.2, 0.2],\n",
       "       [5.8, 2.6, 4. , 1.2],\n",
       "       [7.1, 3. , 5.9, 2.1]])"
      ]
     },
     "execution_count": 26,
     "metadata": {},
     "output_type": "execute_result"
    }
   ],
   "source": [
    "X_train"
   ]
  },
  {
   "cell_type": "code",
   "execution_count": 25,
   "id": "274c8f4b-e25f-4d54-af72-3ef416717b3b",
   "metadata": {
    "tags": []
   },
   "outputs": [
    {
     "data": {
      "text/plain": [
       "array([[6.1, 2.8, 4.7, 1.2],\n",
       "       [5.7, 3.8, 1.7, 0.3],\n",
       "       [7.7, 2.6, 6.9, 2.3],\n",
       "       [6. , 2.9, 4.5, 1.5],\n",
       "       [6.8, 2.8, 4.8, 1.4],\n",
       "       [5.4, 3.4, 1.5, 0.4],\n",
       "       [5.6, 2.9, 3.6, 1.3],\n",
       "       [6.9, 3.1, 5.1, 2.3],\n",
       "       [6.2, 2.2, 4.5, 1.5],\n",
       "       [5.8, 2.7, 3.9, 1.2],\n",
       "       [6.5, 3.2, 5.1, 2. ],\n",
       "       [4.8, 3. , 1.4, 0.1],\n",
       "       [5.5, 3.5, 1.3, 0.2],\n",
       "       [4.9, 3.1, 1.5, 0.1],\n",
       "       [5.1, 3.8, 1.5, 0.3],\n",
       "       [6.3, 3.3, 4.7, 1.6],\n",
       "       [6.5, 3. , 5.8, 2.2],\n",
       "       [5.6, 2.5, 3.9, 1.1],\n",
       "       [5.7, 2.8, 4.5, 1.3],\n",
       "       [6.4, 2.8, 5.6, 2.2],\n",
       "       [4.7, 3.2, 1.6, 0.2],\n",
       "       [6.1, 3. , 4.9, 1.8],\n",
       "       [5. , 3.4, 1.6, 0.4],\n",
       "       [6.4, 2.8, 5.6, 2.1],\n",
       "       [7.9, 3.8, 6.4, 2. ],\n",
       "       [6.7, 3. , 5.2, 2.3],\n",
       "       [6.7, 2.5, 5.8, 1.8],\n",
       "       [6.8, 3.2, 5.9, 2.3],\n",
       "       [4.8, 3. , 1.4, 0.3],\n",
       "       [4.8, 3.1, 1.6, 0.2],\n",
       "       [4.6, 3.6, 1. , 0.2],\n",
       "       [5.7, 4.4, 1.5, 0.4],\n",
       "       [6.7, 3.1, 4.4, 1.4],\n",
       "       [4.8, 3.4, 1.6, 0.2],\n",
       "       [4.4, 3.2, 1.3, 0.2],\n",
       "       [6.3, 2.5, 5. , 1.9],\n",
       "       [6.4, 3.2, 4.5, 1.5],\n",
       "       [5.2, 3.5, 1.5, 0.2],\n",
       "       [5. , 3.6, 1.4, 0.2],\n",
       "       [5.2, 4.1, 1.5, 0.1],\n",
       "       [5.8, 2.7, 5.1, 1.9],\n",
       "       [6. , 3.4, 4.5, 1.6],\n",
       "       [6.7, 3.1, 4.7, 1.5],\n",
       "       [5.4, 3.9, 1.3, 0.4],\n",
       "       [5.4, 3.7, 1.5, 0.2],\n",
       "       [5.5, 2.4, 3.7, 1. ],\n",
       "       [6.3, 2.8, 5.1, 1.5],\n",
       "       [6.4, 3.1, 5.5, 1.8],\n",
       "       [6.6, 3. , 4.4, 1.4],\n",
       "       [7.2, 3.6, 6.1, 2.5]])"
      ]
     },
     "execution_count": 25,
     "metadata": {},
     "output_type": "execute_result"
    }
   ],
   "source": [
    "X_test"
   ]
  },
  {
   "cell_type": "code",
   "execution_count": 27,
   "id": "15a1748b-4920-492a-8905-16f3cca48d9a",
   "metadata": {
    "tags": []
   },
   "outputs": [
    {
     "data": {
      "text/plain": [
       "array([[0., 1., 0.],\n",
       "       [0., 0., 1.],\n",
       "       [0., 1., 0.],\n",
       "       [1., 0., 0.],\n",
       "       [0., 0., 1.],\n",
       "       [0., 1., 0.],\n",
       "       [1., 0., 0.],\n",
       "       [1., 0., 0.],\n",
       "       [1., 0., 0.],\n",
       "       [0., 1., 0.],\n",
       "       [0., 0., 1.],\n",
       "       [1., 0., 0.],\n",
       "       [1., 0., 0.],\n",
       "       [1., 0., 0.],\n",
       "       [0., 1., 0.],\n",
       "       [1., 0., 0.],\n",
       "       [0., 1., 0.],\n",
       "       [0., 0., 1.],\n",
       "       [1., 0., 0.],\n",
       "       [0., 1., 0.],\n",
       "       [0., 0., 1.],\n",
       "       [1., 0., 0.],\n",
       "       [0., 0., 1.],\n",
       "       [0., 0., 1.],\n",
       "       [0., 1., 0.],\n",
       "       [0., 1., 0.],\n",
       "       [0., 0., 1.],\n",
       "       [0., 1., 0.],\n",
       "       [1., 0., 0.],\n",
       "       [0., 1., 0.],\n",
       "       [0., 0., 1.],\n",
       "       [1., 0., 0.],\n",
       "       [1., 0., 0.],\n",
       "       [0., 1., 0.],\n",
       "       [0., 1., 0.],\n",
       "       [1., 0., 0.],\n",
       "       [0., 0., 1.],\n",
       "       [1., 0., 0.],\n",
       "       [1., 0., 0.],\n",
       "       [0., 1., 0.],\n",
       "       [0., 1., 0.],\n",
       "       [0., 0., 1.],\n",
       "       [0., 1., 0.],\n",
       "       [0., 0., 1.],\n",
       "       [0., 0., 1.],\n",
       "       [0., 1., 0.],\n",
       "       [1., 0., 0.],\n",
       "       [1., 0., 0.],\n",
       "       [0., 0., 1.],\n",
       "       [0., 0., 1.],\n",
       "       [1., 0., 0.],\n",
       "       [1., 0., 0.],\n",
       "       [1., 0., 0.],\n",
       "       [0., 1., 0.],\n",
       "       [0., 0., 1.],\n",
       "       [1., 0., 0.],\n",
       "       [0., 0., 1.],\n",
       "       [0., 0., 1.],\n",
       "       [1., 0., 0.],\n",
       "       [0., 1., 0.],\n",
       "       [0., 1., 0.],\n",
       "       [0., 0., 1.],\n",
       "       [0., 1., 0.],\n",
       "       [0., 0., 1.],\n",
       "       [1., 0., 0.],\n",
       "       [0., 0., 1.],\n",
       "       [0., 1., 0.],\n",
       "       [0., 0., 1.],\n",
       "       [0., 1., 0.],\n",
       "       [0., 1., 0.],\n",
       "       [0., 1., 0.],\n",
       "       [1., 0., 0.],\n",
       "       [0., 1., 0.],\n",
       "       [0., 1., 0.],\n",
       "       [1., 0., 0.],\n",
       "       [0., 1., 0.],\n",
       "       [0., 0., 1.],\n",
       "       [0., 0., 1.],\n",
       "       [1., 0., 0.],\n",
       "       [0., 1., 0.],\n",
       "       [0., 0., 1.],\n",
       "       [0., 0., 1.],\n",
       "       [1., 0., 0.],\n",
       "       [0., 0., 1.],\n",
       "       [1., 0., 0.],\n",
       "       [0., 1., 0.],\n",
       "       [0., 0., 1.],\n",
       "       [0., 0., 1.],\n",
       "       [0., 1., 0.],\n",
       "       [0., 0., 1.],\n",
       "       [0., 1., 0.],\n",
       "       [0., 1., 0.],\n",
       "       [0., 0., 1.],\n",
       "       [0., 0., 1.],\n",
       "       [1., 0., 0.],\n",
       "       [0., 1., 0.],\n",
       "       [0., 0., 1.],\n",
       "       [1., 0., 0.],\n",
       "       [0., 1., 0.],\n",
       "       [0., 0., 1.]], dtype=float32)"
      ]
     },
     "execution_count": 27,
     "metadata": {},
     "output_type": "execute_result"
    }
   ],
   "source": [
    "y_train"
   ]
  },
  {
   "cell_type": "code",
   "execution_count": 28,
   "id": "0f46dea9-07bc-44cc-af60-5c297663efb1",
   "metadata": {
    "tags": []
   },
   "outputs": [
    {
     "data": {
      "text/plain": [
       "array([[0., 1., 0.],\n",
       "       [1., 0., 0.],\n",
       "       [0., 0., 1.],\n",
       "       [0., 1., 0.],\n",
       "       [0., 1., 0.],\n",
       "       [1., 0., 0.],\n",
       "       [0., 1., 0.],\n",
       "       [0., 0., 1.],\n",
       "       [0., 1., 0.],\n",
       "       [0., 1., 0.],\n",
       "       [0., 0., 1.],\n",
       "       [1., 0., 0.],\n",
       "       [1., 0., 0.],\n",
       "       [1., 0., 0.],\n",
       "       [1., 0., 0.],\n",
       "       [0., 1., 0.],\n",
       "       [0., 0., 1.],\n",
       "       [0., 1., 0.],\n",
       "       [0., 1., 0.],\n",
       "       [0., 0., 1.],\n",
       "       [1., 0., 0.],\n",
       "       [0., 0., 1.],\n",
       "       [1., 0., 0.],\n",
       "       [0., 0., 1.],\n",
       "       [0., 0., 1.],\n",
       "       [0., 0., 1.],\n",
       "       [0., 0., 1.],\n",
       "       [0., 0., 1.],\n",
       "       [1., 0., 0.],\n",
       "       [1., 0., 0.],\n",
       "       [1., 0., 0.],\n",
       "       [1., 0., 0.],\n",
       "       [0., 1., 0.],\n",
       "       [1., 0., 0.],\n",
       "       [1., 0., 0.],\n",
       "       [0., 0., 1.],\n",
       "       [0., 1., 0.],\n",
       "       [1., 0., 0.],\n",
       "       [1., 0., 0.],\n",
       "       [1., 0., 0.],\n",
       "       [0., 0., 1.],\n",
       "       [0., 1., 0.],\n",
       "       [0., 1., 0.],\n",
       "       [1., 0., 0.],\n",
       "       [1., 0., 0.],\n",
       "       [0., 1., 0.],\n",
       "       [0., 0., 1.],\n",
       "       [0., 0., 1.],\n",
       "       [0., 1., 0.],\n",
       "       [0., 0., 1.]], dtype=float32)"
      ]
     },
     "execution_count": 28,
     "metadata": {},
     "output_type": "execute_result"
    }
   ],
   "source": [
    "y_test"
   ]
  },
  {
   "cell_type": "markdown",
   "id": "9bd0d93e-f122-4a27-ba2e-f0560ff55909",
   "metadata": {
    "tags": []
   },
   "source": [
    "### Standardizing the data"
   ]
  },
  {
   "cell_type": "code",
   "execution_count": 30,
   "id": "d526f841-39a1-4283-b68a-9ec3d35d35fd",
   "metadata": {
    "tags": []
   },
   "outputs": [],
   "source": [
    "from sklearn.preprocessing import MinMaxScaler"
   ]
  },
  {
   "cell_type": "code",
   "execution_count": 54,
   "id": "f9e62e77-6631-4b11-947f-8e3bd712c5b9",
   "metadata": {
    "tags": []
   },
   "outputs": [],
   "source": [
    "scaler_object = MinMaxScaler()"
   ]
  },
  {
   "cell_type": "code",
   "execution_count": 55,
   "id": "aff03bdd-12e8-4483-84f3-c8cfa044f731",
   "metadata": {
    "tags": []
   },
   "outputs": [
    {
     "data": {
      "text/html": [
       "<style>#sk-container-id-2 {color: black;background-color: white;}#sk-container-id-2 pre{padding: 0;}#sk-container-id-2 div.sk-toggleable {background-color: white;}#sk-container-id-2 label.sk-toggleable__label {cursor: pointer;display: block;width: 100%;margin-bottom: 0;padding: 0.3em;box-sizing: border-box;text-align: center;}#sk-container-id-2 label.sk-toggleable__label-arrow:before {content: \"▸\";float: left;margin-right: 0.25em;color: #696969;}#sk-container-id-2 label.sk-toggleable__label-arrow:hover:before {color: black;}#sk-container-id-2 div.sk-estimator:hover label.sk-toggleable__label-arrow:before {color: black;}#sk-container-id-2 div.sk-toggleable__content {max-height: 0;max-width: 0;overflow: hidden;text-align: left;background-color: #f0f8ff;}#sk-container-id-2 div.sk-toggleable__content pre {margin: 0.2em;color: black;border-radius: 0.25em;background-color: #f0f8ff;}#sk-container-id-2 input.sk-toggleable__control:checked~div.sk-toggleable__content {max-height: 200px;max-width: 100%;overflow: auto;}#sk-container-id-2 input.sk-toggleable__control:checked~label.sk-toggleable__label-arrow:before {content: \"▾\";}#sk-container-id-2 div.sk-estimator input.sk-toggleable__control:checked~label.sk-toggleable__label {background-color: #d4ebff;}#sk-container-id-2 div.sk-label input.sk-toggleable__control:checked~label.sk-toggleable__label {background-color: #d4ebff;}#sk-container-id-2 input.sk-hidden--visually {border: 0;clip: rect(1px 1px 1px 1px);clip: rect(1px, 1px, 1px, 1px);height: 1px;margin: -1px;overflow: hidden;padding: 0;position: absolute;width: 1px;}#sk-container-id-2 div.sk-estimator {font-family: monospace;background-color: #f0f8ff;border: 1px dotted black;border-radius: 0.25em;box-sizing: border-box;margin-bottom: 0.5em;}#sk-container-id-2 div.sk-estimator:hover {background-color: #d4ebff;}#sk-container-id-2 div.sk-parallel-item::after {content: \"\";width: 100%;border-bottom: 1px solid gray;flex-grow: 1;}#sk-container-id-2 div.sk-label:hover label.sk-toggleable__label {background-color: #d4ebff;}#sk-container-id-2 div.sk-serial::before {content: \"\";position: absolute;border-left: 1px solid gray;box-sizing: border-box;top: 0;bottom: 0;left: 50%;z-index: 0;}#sk-container-id-2 div.sk-serial {display: flex;flex-direction: column;align-items: center;background-color: white;padding-right: 0.2em;padding-left: 0.2em;position: relative;}#sk-container-id-2 div.sk-item {position: relative;z-index: 1;}#sk-container-id-2 div.sk-parallel {display: flex;align-items: stretch;justify-content: center;background-color: white;position: relative;}#sk-container-id-2 div.sk-item::before, #sk-container-id-2 div.sk-parallel-item::before {content: \"\";position: absolute;border-left: 1px solid gray;box-sizing: border-box;top: 0;bottom: 0;left: 50%;z-index: -1;}#sk-container-id-2 div.sk-parallel-item {display: flex;flex-direction: column;z-index: 1;position: relative;background-color: white;}#sk-container-id-2 div.sk-parallel-item:first-child::after {align-self: flex-end;width: 50%;}#sk-container-id-2 div.sk-parallel-item:last-child::after {align-self: flex-start;width: 50%;}#sk-container-id-2 div.sk-parallel-item:only-child::after {width: 0;}#sk-container-id-2 div.sk-dashed-wrapped {border: 1px dashed gray;margin: 0 0.4em 0.5em 0.4em;box-sizing: border-box;padding-bottom: 0.4em;background-color: white;}#sk-container-id-2 div.sk-label label {font-family: monospace;font-weight: bold;display: inline-block;line-height: 1.2em;}#sk-container-id-2 div.sk-label-container {text-align: center;}#sk-container-id-2 div.sk-container {/* jupyter's `normalize.less` sets `[hidden] { display: none; }` but bootstrap.min.css set `[hidden] { display: none !important; }` so we also need the `!important` here to be able to override the default hidden behavior on the sphinx rendered scikit-learn.org. See: https://github.com/scikit-learn/scikit-learn/issues/21755 */display: inline-block !important;position: relative;}#sk-container-id-2 div.sk-text-repr-fallback {display: none;}</style><div id=\"sk-container-id-2\" class=\"sk-top-container\"><div class=\"sk-text-repr-fallback\"><pre>MinMaxScaler()</pre><b>In a Jupyter environment, please rerun this cell to show the HTML representation or trust the notebook. <br />On GitHub, the HTML representation is unable to render, please try loading this page with nbviewer.org.</b></div><div class=\"sk-container\" hidden><div class=\"sk-item\"><div class=\"sk-estimator sk-toggleable\"><input class=\"sk-toggleable__control sk-hidden--visually\" id=\"sk-estimator-id-2\" type=\"checkbox\" checked><label for=\"sk-estimator-id-2\" class=\"sk-toggleable__label sk-toggleable__label-arrow\">MinMaxScaler</label><div class=\"sk-toggleable__content\"><pre>MinMaxScaler()</pre></div></div></div></div></div>"
      ],
      "text/plain": [
       "MinMaxScaler()"
      ]
     },
     "execution_count": 55,
     "metadata": {},
     "output_type": "execute_result"
    }
   ],
   "source": [
    "scaler_object.fit(X_train)"
   ]
  },
  {
   "cell_type": "code",
   "execution_count": 56,
   "id": "03e36b4f-f0e5-4315-870b-4c8fc9386f6b",
   "metadata": {
    "tags": []
   },
   "outputs": [],
   "source": [
    "scaled_X_train = scaler_object.transform(X_train)"
   ]
  },
  {
   "cell_type": "code",
   "execution_count": 57,
   "id": "cfb8ecff-26f3-426c-90b3-37c776e3aeab",
   "metadata": {
    "tags": []
   },
   "outputs": [],
   "source": [
    "scaled_X_test = scaler_object.transform(X_test)"
   ]
  },
  {
   "cell_type": "code",
   "execution_count": 58,
   "id": "3a9bc1af-1c7b-44c9-a792-152dedfe7ab5",
   "metadata": {
    "tags": []
   },
   "outputs": [
    {
     "data": {
      "text/plain": [
       "7.7"
      ]
     },
     "execution_count": 58,
     "metadata": {},
     "output_type": "execute_result"
    }
   ],
   "source": [
    "X_train.max()"
   ]
  },
  {
   "cell_type": "code",
   "execution_count": 59,
   "id": "cce6de9d-fdf3-4823-ad7d-7e0ac90f97bb",
   "metadata": {
    "tags": []
   },
   "outputs": [
    {
     "data": {
      "text/plain": [
       "1.0"
      ]
     },
     "execution_count": 59,
     "metadata": {},
     "output_type": "execute_result"
    }
   ],
   "source": [
    "scaled_X_train.max()"
   ]
  },
  {
   "cell_type": "code",
   "execution_count": 60,
   "id": "d720b51a-5b87-4092-9f08-f4ceeb9fe509",
   "metadata": {
    "tags": []
   },
   "outputs": [
    {
     "data": {
      "text/plain": [
       "7.9"
      ]
     },
     "execution_count": 60,
     "metadata": {},
     "output_type": "execute_result"
    }
   ],
   "source": [
    "X_test.max()"
   ]
  },
  {
   "cell_type": "code",
   "execution_count": 61,
   "id": "2e47bf2e-e256-4099-beb6-f631ca6d7196",
   "metadata": {
    "tags": []
   },
   "outputs": [
    {
     "data": {
      "text/plain": [
       "1.0909090909090908"
      ]
     },
     "execution_count": 61,
     "metadata": {},
     "output_type": "execute_result"
    }
   ],
   "source": [
    "scaled_X_test.max()"
   ]
  },
  {
   "cell_type": "markdown",
   "id": "f1174e62-50f9-4863-8303-ceb9257e811a",
   "metadata": {},
   "source": [
    "### Model"
   ]
  },
  {
   "cell_type": "code",
   "execution_count": 62,
   "id": "f24c3122-93c7-4083-8db8-03e30a7787cd",
   "metadata": {
    "tags": []
   },
   "outputs": [],
   "source": [
    "from keras.models import Sequential\n",
    "from keras.layers import Dense"
   ]
  },
  {
   "cell_type": "code",
   "execution_count": 63,
   "id": "b97889e5-681f-4395-b033-e3ef7f764220",
   "metadata": {
    "tags": []
   },
   "outputs": [],
   "source": [
    "model = Sequential()"
   ]
  },
  {
   "cell_type": "code",
   "execution_count": 64,
   "id": "29c9582f-e5d5-48b1-b01e-7edfc9fda9b5",
   "metadata": {
    "tags": []
   },
   "outputs": [],
   "source": [
    "model.add(Dense(8, input_dim=4, activation='relu'))\n",
    "model.add(Dense(8, input_dim=4, activation='relu'))\n",
    "model.add(Dense(3, activation='softmax'))\n",
    "\n",
    "model.compile(loss='categorical_crossentropy', optimizer='adam', metrics=['accuracy'])"
   ]
  },
  {
   "cell_type": "code",
   "execution_count": 65,
   "id": "a01ef23d-76e8-4908-94d6-25929429255d",
   "metadata": {
    "tags": []
   },
   "outputs": [
    {
     "name": "stdout",
     "output_type": "stream",
     "text": [
      "Epoch 1/150\n",
      "4/4 - 1s - loss: 1.0940 - accuracy: 0.3500 - 609ms/epoch - 152ms/step\n",
      "Epoch 2/150\n",
      "4/4 - 0s - loss: 1.0865 - accuracy: 0.3500 - 15ms/epoch - 4ms/step\n",
      "Epoch 3/150\n",
      "4/4 - 0s - loss: 1.0791 - accuracy: 0.3500 - 9ms/epoch - 2ms/step\n",
      "Epoch 4/150\n",
      "4/4 - 0s - loss: 1.0714 - accuracy: 0.3500 - 8ms/epoch - 2ms/step\n",
      "Epoch 5/150\n",
      "4/4 - 0s - loss: 1.0626 - accuracy: 0.3500 - 10ms/epoch - 2ms/step\n",
      "Epoch 6/150\n",
      "4/4 - 0s - loss: 1.0542 - accuracy: 0.3500 - 12ms/epoch - 3ms/step\n",
      "Epoch 7/150\n",
      "4/4 - 0s - loss: 1.0461 - accuracy: 0.3500 - 11ms/epoch - 3ms/step\n",
      "Epoch 8/150\n",
      "4/4 - 0s - loss: 1.0358 - accuracy: 0.3500 - 10ms/epoch - 2ms/step\n",
      "Epoch 9/150\n",
      "4/4 - 0s - loss: 1.0264 - accuracy: 0.3300 - 13ms/epoch - 3ms/step\n",
      "Epoch 10/150\n",
      "4/4 - 0s - loss: 1.0175 - accuracy: 0.3300 - 12ms/epoch - 3ms/step\n",
      "Epoch 11/150\n",
      "4/4 - 0s - loss: 1.0088 - accuracy: 0.3300 - 13ms/epoch - 3ms/step\n",
      "Epoch 12/150\n",
      "4/4 - 0s - loss: 1.0000 - accuracy: 0.3200 - 10ms/epoch - 2ms/step\n",
      "Epoch 13/150\n",
      "4/4 - 0s - loss: 0.9920 - accuracy: 0.3300 - 11ms/epoch - 3ms/step\n",
      "Epoch 14/150\n",
      "4/4 - 0s - loss: 0.9845 - accuracy: 0.3500 - 9ms/epoch - 2ms/step\n",
      "Epoch 15/150\n",
      "4/4 - 0s - loss: 0.9771 - accuracy: 0.3800 - 9ms/epoch - 2ms/step\n",
      "Epoch 16/150\n",
      "4/4 - 0s - loss: 0.9702 - accuracy: 0.3600 - 9ms/epoch - 2ms/step\n",
      "Epoch 17/150\n",
      "4/4 - 0s - loss: 0.9627 - accuracy: 0.3800 - 8ms/epoch - 2ms/step\n",
      "Epoch 18/150\n",
      "4/4 - 0s - loss: 0.9559 - accuracy: 0.3500 - 9ms/epoch - 2ms/step\n",
      "Epoch 19/150\n",
      "4/4 - 0s - loss: 0.9495 - accuracy: 0.3600 - 8ms/epoch - 2ms/step\n",
      "Epoch 20/150\n",
      "4/4 - 0s - loss: 0.9432 - accuracy: 0.3500 - 8ms/epoch - 2ms/step\n",
      "Epoch 21/150\n",
      "4/4 - 0s - loss: 0.9373 - accuracy: 0.3400 - 9ms/epoch - 2ms/step\n",
      "Epoch 22/150\n",
      "4/4 - 0s - loss: 0.9308 - accuracy: 0.3400 - 9ms/epoch - 2ms/step\n",
      "Epoch 23/150\n",
      "4/4 - 0s - loss: 0.9245 - accuracy: 0.3400 - 8ms/epoch - 2ms/step\n",
      "Epoch 24/150\n",
      "4/4 - 0s - loss: 0.9185 - accuracy: 0.3400 - 9ms/epoch - 2ms/step\n",
      "Epoch 25/150\n",
      "4/4 - 0s - loss: 0.9125 - accuracy: 0.3400 - 10ms/epoch - 2ms/step\n",
      "Epoch 26/150\n",
      "4/4 - 0s - loss: 0.9061 - accuracy: 0.3400 - 7ms/epoch - 2ms/step\n",
      "Epoch 27/150\n",
      "4/4 - 0s - loss: 0.8999 - accuracy: 0.3500 - 9ms/epoch - 2ms/step\n",
      "Epoch 28/150\n",
      "4/4 - 0s - loss: 0.8939 - accuracy: 0.3700 - 9ms/epoch - 2ms/step\n",
      "Epoch 29/150\n",
      "4/4 - 0s - loss: 0.8881 - accuracy: 0.3800 - 7ms/epoch - 2ms/step\n",
      "Epoch 30/150\n",
      "4/4 - 0s - loss: 0.8819 - accuracy: 0.4100 - 12ms/epoch - 3ms/step\n",
      "Epoch 31/150\n",
      "4/4 - 0s - loss: 0.8755 - accuracy: 0.4500 - 16ms/epoch - 4ms/step\n",
      "Epoch 32/150\n",
      "4/4 - 0s - loss: 0.8692 - accuracy: 0.5100 - 9ms/epoch - 2ms/step\n",
      "Epoch 33/150\n",
      "4/4 - 0s - loss: 0.8631 - accuracy: 0.5200 - 8ms/epoch - 2ms/step\n",
      "Epoch 34/150\n",
      "4/4 - 0s - loss: 0.8567 - accuracy: 0.5500 - 9ms/epoch - 2ms/step\n",
      "Epoch 35/150\n",
      "4/4 - 0s - loss: 0.8505 - accuracy: 0.5600 - 7ms/epoch - 2ms/step\n",
      "Epoch 36/150\n",
      "4/4 - 0s - loss: 0.8444 - accuracy: 0.5800 - 8ms/epoch - 2ms/step\n",
      "Epoch 37/150\n",
      "4/4 - 0s - loss: 0.8379 - accuracy: 0.6000 - 8ms/epoch - 2ms/step\n",
      "Epoch 38/150\n",
      "4/4 - 0s - loss: 0.8317 - accuracy: 0.6400 - 11ms/epoch - 3ms/step\n",
      "Epoch 39/150\n",
      "4/4 - 0s - loss: 0.8256 - accuracy: 0.6400 - 8ms/epoch - 2ms/step\n",
      "Epoch 40/150\n",
      "4/4 - 0s - loss: 0.8190 - accuracy: 0.6400 - 9ms/epoch - 2ms/step\n",
      "Epoch 41/150\n",
      "4/4 - 0s - loss: 0.8128 - accuracy: 0.6300 - 7ms/epoch - 2ms/step\n",
      "Epoch 42/150\n",
      "4/4 - 0s - loss: 0.8064 - accuracy: 0.6300 - 8ms/epoch - 2ms/step\n",
      "Epoch 43/150\n",
      "4/4 - 0s - loss: 0.8004 - accuracy: 0.6300 - 8ms/epoch - 2ms/step\n",
      "Epoch 44/150\n",
      "4/4 - 0s - loss: 0.7944 - accuracy: 0.6300 - 9ms/epoch - 2ms/step\n",
      "Epoch 45/150\n",
      "4/4 - 0s - loss: 0.7886 - accuracy: 0.6300 - 7ms/epoch - 2ms/step\n",
      "Epoch 46/150\n",
      "4/4 - 0s - loss: 0.7819 - accuracy: 0.6400 - 8ms/epoch - 2ms/step\n",
      "Epoch 47/150\n",
      "4/4 - 0s - loss: 0.7754 - accuracy: 0.6500 - 8ms/epoch - 2ms/step\n",
      "Epoch 48/150\n",
      "4/4 - 0s - loss: 0.7688 - accuracy: 0.6500 - 7ms/epoch - 2ms/step\n",
      "Epoch 49/150\n",
      "4/4 - 0s - loss: 0.7625 - accuracy: 0.6500 - 8ms/epoch - 2ms/step\n",
      "Epoch 50/150\n",
      "4/4 - 0s - loss: 0.7557 - accuracy: 0.6600 - 8ms/epoch - 2ms/step\n",
      "Epoch 51/150\n",
      "4/4 - 0s - loss: 0.7490 - accuracy: 0.6700 - 8ms/epoch - 2ms/step\n",
      "Epoch 52/150\n",
      "4/4 - 0s - loss: 0.7430 - accuracy: 0.6700 - 10ms/epoch - 2ms/step\n",
      "Epoch 53/150\n",
      "4/4 - 0s - loss: 0.7361 - accuracy: 0.6700 - 8ms/epoch - 2ms/step\n",
      "Epoch 54/150\n",
      "4/4 - 0s - loss: 0.7299 - accuracy: 0.6900 - 9ms/epoch - 2ms/step\n",
      "Epoch 55/150\n",
      "4/4 - 0s - loss: 0.7240 - accuracy: 0.7200 - 7ms/epoch - 2ms/step\n",
      "Epoch 56/150\n",
      "4/4 - 0s - loss: 0.7176 - accuracy: 0.7600 - 9ms/epoch - 2ms/step\n",
      "Epoch 57/150\n",
      "4/4 - 0s - loss: 0.7126 - accuracy: 0.8100 - 7ms/epoch - 2ms/step\n",
      "Epoch 58/150\n",
      "4/4 - 0s - loss: 0.7071 - accuracy: 0.8400 - 7ms/epoch - 2ms/step\n",
      "Epoch 59/150\n",
      "4/4 - 0s - loss: 0.7008 - accuracy: 0.8400 - 8ms/epoch - 2ms/step\n",
      "Epoch 60/150\n",
      "4/4 - 0s - loss: 0.6944 - accuracy: 0.8100 - 9ms/epoch - 2ms/step\n",
      "Epoch 61/150\n",
      "4/4 - 0s - loss: 0.6882 - accuracy: 0.8000 - 8ms/epoch - 2ms/step\n",
      "Epoch 62/150\n",
      "4/4 - 0s - loss: 0.6822 - accuracy: 0.8000 - 8ms/epoch - 2ms/step\n",
      "Epoch 63/150\n",
      "4/4 - 0s - loss: 0.6768 - accuracy: 0.8200 - 12ms/epoch - 3ms/step\n",
      "Epoch 64/150\n",
      "4/4 - 0s - loss: 0.6718 - accuracy: 0.8400 - 8ms/epoch - 2ms/step\n",
      "Epoch 65/150\n",
      "4/4 - 0s - loss: 0.6662 - accuracy: 0.8800 - 10ms/epoch - 2ms/step\n",
      "Epoch 66/150\n",
      "4/4 - 0s - loss: 0.6608 - accuracy: 0.8600 - 7ms/epoch - 2ms/step\n",
      "Epoch 67/150\n",
      "4/4 - 0s - loss: 0.6545 - accuracy: 0.8500 - 9ms/epoch - 2ms/step\n",
      "Epoch 68/150\n",
      "4/4 - 0s - loss: 0.6484 - accuracy: 0.8200 - 10ms/epoch - 2ms/step\n",
      "Epoch 69/150\n",
      "4/4 - 0s - loss: 0.6429 - accuracy: 0.7900 - 8ms/epoch - 2ms/step\n",
      "Epoch 70/150\n",
      "4/4 - 0s - loss: 0.6371 - accuracy: 0.7200 - 8ms/epoch - 2ms/step\n",
      "Epoch 71/150\n",
      "4/4 - 0s - loss: 0.6324 - accuracy: 0.7200 - 7ms/epoch - 2ms/step\n",
      "Epoch 72/150\n",
      "4/4 - 0s - loss: 0.6266 - accuracy: 0.7000 - 9ms/epoch - 2ms/step\n",
      "Epoch 73/150\n",
      "4/4 - 0s - loss: 0.6212 - accuracy: 0.7000 - 8ms/epoch - 2ms/step\n",
      "Epoch 74/150\n",
      "4/4 - 0s - loss: 0.6161 - accuracy: 0.7000 - 8ms/epoch - 2ms/step\n",
      "Epoch 75/150\n",
      "4/4 - 0s - loss: 0.6105 - accuracy: 0.7000 - 7ms/epoch - 2ms/step\n",
      "Epoch 76/150\n",
      "4/4 - 0s - loss: 0.6047 - accuracy: 0.7000 - 8ms/epoch - 2ms/step\n",
      "Epoch 77/150\n",
      "4/4 - 0s - loss: 0.5989 - accuracy: 0.7000 - 8ms/epoch - 2ms/step\n",
      "Epoch 78/150\n",
      "4/4 - 0s - loss: 0.5930 - accuracy: 0.7400 - 8ms/epoch - 2ms/step\n",
      "Epoch 79/150\n",
      "4/4 - 0s - loss: 0.5880 - accuracy: 0.7700 - 9ms/epoch - 2ms/step\n",
      "Epoch 80/150\n",
      "4/4 - 0s - loss: 0.5832 - accuracy: 0.8000 - 8ms/epoch - 2ms/step\n",
      "Epoch 81/150\n",
      "4/4 - 0s - loss: 0.5780 - accuracy: 0.8000 - 7ms/epoch - 2ms/step\n",
      "Epoch 82/150\n",
      "4/4 - 0s - loss: 0.5730 - accuracy: 0.8000 - 7ms/epoch - 2ms/step\n",
      "Epoch 83/150\n",
      "4/4 - 0s - loss: 0.5681 - accuracy: 0.8000 - 10ms/epoch - 2ms/step\n",
      "Epoch 84/150\n",
      "4/4 - 0s - loss: 0.5633 - accuracy: 0.8000 - 8ms/epoch - 2ms/step\n",
      "Epoch 85/150\n",
      "4/4 - 0s - loss: 0.5586 - accuracy: 0.8000 - 9ms/epoch - 2ms/step\n",
      "Epoch 86/150\n",
      "4/4 - 0s - loss: 0.5539 - accuracy: 0.7900 - 7ms/epoch - 2ms/step\n",
      "Epoch 87/150\n",
      "4/4 - 0s - loss: 0.5491 - accuracy: 0.8000 - 9ms/epoch - 2ms/step\n",
      "Epoch 88/150\n",
      "4/4 - 0s - loss: 0.5439 - accuracy: 0.8200 - 9ms/epoch - 2ms/step\n",
      "Epoch 89/150\n",
      "4/4 - 0s - loss: 0.5389 - accuracy: 0.8400 - 8ms/epoch - 2ms/step\n",
      "Epoch 90/150\n",
      "4/4 - 0s - loss: 0.5340 - accuracy: 0.8500 - 8ms/epoch - 2ms/step\n",
      "Epoch 91/150\n",
      "4/4 - 0s - loss: 0.5294 - accuracy: 0.8800 - 8ms/epoch - 2ms/step\n",
      "Epoch 92/150\n",
      "4/4 - 0s - loss: 0.5249 - accuracy: 0.8900 - 10ms/epoch - 2ms/step\n",
      "Epoch 93/150\n",
      "4/4 - 0s - loss: 0.5203 - accuracy: 0.8900 - 9ms/epoch - 2ms/step\n",
      "Epoch 94/150\n",
      "4/4 - 0s - loss: 0.5158 - accuracy: 0.9000 - 11ms/epoch - 3ms/step\n",
      "Epoch 95/150\n",
      "4/4 - 0s - loss: 0.5113 - accuracy: 0.9000 - 9ms/epoch - 2ms/step\n",
      "Epoch 96/150\n",
      "4/4 - 0s - loss: 0.5071 - accuracy: 0.9000 - 9ms/epoch - 2ms/step\n",
      "Epoch 97/150\n",
      "4/4 - 0s - loss: 0.5025 - accuracy: 0.9000 - 8ms/epoch - 2ms/step\n",
      "Epoch 98/150\n",
      "4/4 - 0s - loss: 0.4983 - accuracy: 0.9000 - 9ms/epoch - 2ms/step\n",
      "Epoch 99/150\n",
      "4/4 - 0s - loss: 0.4943 - accuracy: 0.9000 - 37ms/epoch - 9ms/step\n",
      "Epoch 100/150\n",
      "4/4 - 0s - loss: 0.4902 - accuracy: 0.9000 - 11ms/epoch - 3ms/step\n",
      "Epoch 101/150\n",
      "4/4 - 0s - loss: 0.4864 - accuracy: 0.9000 - 42ms/epoch - 10ms/step\n",
      "Epoch 102/150\n",
      "4/4 - 0s - loss: 0.4825 - accuracy: 0.9000 - 8ms/epoch - 2ms/step\n",
      "Epoch 103/150\n",
      "4/4 - 0s - loss: 0.4778 - accuracy: 0.9000 - 7ms/epoch - 2ms/step\n",
      "Epoch 104/150\n",
      "4/4 - 0s - loss: 0.4732 - accuracy: 0.9000 - 9ms/epoch - 2ms/step\n",
      "Epoch 105/150\n",
      "4/4 - 0s - loss: 0.4693 - accuracy: 0.9000 - 7ms/epoch - 2ms/step\n",
      "Epoch 106/150\n",
      "4/4 - 0s - loss: 0.4651 - accuracy: 0.9000 - 10ms/epoch - 2ms/step\n",
      "Epoch 107/150\n",
      "4/4 - 0s - loss: 0.4616 - accuracy: 0.9000 - 9ms/epoch - 2ms/step\n",
      "Epoch 108/150\n",
      "4/4 - 0s - loss: 0.4585 - accuracy: 0.9000 - 8ms/epoch - 2ms/step\n",
      "Epoch 109/150\n",
      "4/4 - 0s - loss: 0.4558 - accuracy: 0.8800 - 7ms/epoch - 2ms/step\n",
      "Epoch 110/150\n",
      "4/4 - 0s - loss: 0.4521 - accuracy: 0.8700 - 8ms/epoch - 2ms/step\n",
      "Epoch 111/150\n",
      "4/4 - 0s - loss: 0.4478 - accuracy: 0.9000 - 10ms/epoch - 2ms/step\n",
      "Epoch 112/150\n",
      "4/4 - 0s - loss: 0.4444 - accuracy: 0.8900 - 8ms/epoch - 2ms/step\n",
      "Epoch 113/150\n",
      "4/4 - 0s - loss: 0.4409 - accuracy: 0.9000 - 8ms/epoch - 2ms/step\n",
      "Epoch 114/150\n",
      "4/4 - 0s - loss: 0.4374 - accuracy: 0.9000 - 8ms/epoch - 2ms/step\n",
      "Epoch 115/150\n",
      "4/4 - 0s - loss: 0.4331 - accuracy: 0.9000 - 9ms/epoch - 2ms/step\n",
      "Epoch 116/150\n",
      "4/4 - 0s - loss: 0.4294 - accuracy: 0.9000 - 8ms/epoch - 2ms/step\n",
      "Epoch 117/150\n",
      "4/4 - 0s - loss: 0.4252 - accuracy: 0.9300 - 11ms/epoch - 3ms/step\n",
      "Epoch 118/150\n",
      "4/4 - 0s - loss: 0.4217 - accuracy: 0.9300 - 9ms/epoch - 2ms/step\n",
      "Epoch 119/150\n",
      "4/4 - 0s - loss: 0.4179 - accuracy: 0.9400 - 9ms/epoch - 2ms/step\n",
      "Epoch 120/150\n",
      "4/4 - 0s - loss: 0.4144 - accuracy: 0.9400 - 13ms/epoch - 3ms/step\n",
      "Epoch 121/150\n",
      "4/4 - 0s - loss: 0.4108 - accuracy: 0.9400 - 9ms/epoch - 2ms/step\n",
      "Epoch 122/150\n",
      "4/4 - 0s - loss: 0.4074 - accuracy: 0.9400 - 8ms/epoch - 2ms/step\n",
      "Epoch 123/150\n",
      "4/4 - 0s - loss: 0.4035 - accuracy: 0.9400 - 9ms/epoch - 2ms/step\n",
      "Epoch 124/150\n",
      "4/4 - 0s - loss: 0.4019 - accuracy: 0.9400 - 10ms/epoch - 2ms/step\n",
      "Epoch 125/150\n",
      "4/4 - 0s - loss: 0.3977 - accuracy: 0.9200 - 8ms/epoch - 2ms/step\n",
      "Epoch 126/150\n",
      "4/4 - 0s - loss: 0.3949 - accuracy: 0.9200 - 9ms/epoch - 2ms/step\n",
      "Epoch 127/150\n",
      "4/4 - 0s - loss: 0.3918 - accuracy: 0.9200 - 9ms/epoch - 2ms/step\n",
      "Epoch 128/150\n",
      "4/4 - 0s - loss: 0.3883 - accuracy: 0.9300 - 8ms/epoch - 2ms/step\n",
      "Epoch 129/150\n",
      "4/4 - 0s - loss: 0.3847 - accuracy: 0.9400 - 10ms/epoch - 2ms/step\n",
      "Epoch 130/150\n",
      "4/4 - 0s - loss: 0.3813 - accuracy: 0.9400 - 8ms/epoch - 2ms/step\n",
      "Epoch 131/150\n",
      "4/4 - 0s - loss: 0.3783 - accuracy: 0.9500 - 7ms/epoch - 2ms/step\n",
      "Epoch 132/150\n",
      "4/4 - 0s - loss: 0.3755 - accuracy: 0.9500 - 10ms/epoch - 2ms/step\n",
      "Epoch 133/150\n",
      "4/4 - 0s - loss: 0.3724 - accuracy: 0.9500 - 10ms/epoch - 2ms/step\n",
      "Epoch 134/150\n",
      "4/4 - 0s - loss: 0.3690 - accuracy: 0.9500 - 9ms/epoch - 2ms/step\n",
      "Epoch 135/150\n",
      "4/4 - 0s - loss: 0.3656 - accuracy: 0.9500 - 8ms/epoch - 2ms/step\n",
      "Epoch 136/150\n",
      "4/4 - 0s - loss: 0.3622 - accuracy: 0.9500 - 10ms/epoch - 2ms/step\n",
      "Epoch 137/150\n",
      "4/4 - 0s - loss: 0.3595 - accuracy: 0.9500 - 8ms/epoch - 2ms/step\n",
      "Epoch 138/150\n",
      "4/4 - 0s - loss: 0.3567 - accuracy: 0.9500 - 8ms/epoch - 2ms/step\n",
      "Epoch 139/150\n",
      "4/4 - 0s - loss: 0.3537 - accuracy: 0.9400 - 11ms/epoch - 3ms/step\n",
      "Epoch 140/150\n",
      "4/4 - 0s - loss: 0.3523 - accuracy: 0.9300 - 8ms/epoch - 2ms/step\n",
      "Epoch 141/150\n",
      "4/4 - 0s - loss: 0.3503 - accuracy: 0.9300 - 9ms/epoch - 2ms/step\n",
      "Epoch 142/150\n",
      "4/4 - 0s - loss: 0.3478 - accuracy: 0.9300 - 9ms/epoch - 2ms/step\n",
      "Epoch 143/150\n",
      "4/4 - 0s - loss: 0.3450 - accuracy: 0.9300 - 8ms/epoch - 2ms/step\n",
      "Epoch 144/150\n",
      "4/4 - 0s - loss: 0.3413 - accuracy: 0.9300 - 11ms/epoch - 3ms/step\n",
      "Epoch 145/150\n",
      "4/4 - 0s - loss: 0.3380 - accuracy: 0.9300 - 8ms/epoch - 2ms/step\n",
      "Epoch 146/150\n",
      "4/4 - 0s - loss: 0.3333 - accuracy: 0.9400 - 8ms/epoch - 2ms/step\n",
      "Epoch 147/150\n",
      "4/4 - 0s - loss: 0.3305 - accuracy: 0.9500 - 7ms/epoch - 2ms/step\n",
      "Epoch 148/150\n",
      "4/4 - 0s - loss: 0.3281 - accuracy: 0.9500 - 9ms/epoch - 2ms/step\n",
      "Epoch 149/150\n",
      "4/4 - 0s - loss: 0.3256 - accuracy: 0.9600 - 7ms/epoch - 2ms/step\n",
      "Epoch 150/150\n",
      "4/4 - 0s - loss: 0.3224 - accuracy: 0.9500 - 8ms/epoch - 2ms/step\n"
     ]
    },
    {
     "data": {
      "text/plain": [
       "<keras.callbacks.History at 0x1c284b2ef50>"
      ]
     },
     "execution_count": 65,
     "metadata": {},
     "output_type": "execute_result"
    }
   ],
   "source": [
    "model.fit(scaled_X_train,y_train, epochs=150, verbose=2)"
   ]
  },
  {
   "cell_type": "code",
   "execution_count": 66,
   "id": "59b7d610-fdf0-4c37-a487-9c7ac7a1f852",
   "metadata": {
    "tags": []
   },
   "outputs": [
    {
     "name": "stdout",
     "output_type": "stream",
     "text": [
      "2/2 [==============================] - 0s 4ms/step\n"
     ]
    },
    {
     "data": {
      "text/plain": [
       "array([[3.7337776e-02, 6.4776599e-01, 3.1489626e-01],\n",
       "       [9.2232847e-01, 7.5812779e-02, 1.8587328e-03],\n",
       "       [6.5921493e-05, 7.6797903e-02, 9.2313623e-01],\n",
       "       [2.5301296e-02, 5.7796013e-01, 3.9673859e-01],\n",
       "       [1.2792593e-02, 5.3655183e-01, 4.5065558e-01],\n",
       "       [8.8882852e-01, 1.0708155e-01, 4.0898803e-03],\n",
       "       [1.1037192e-01, 6.7922252e-01, 2.1040559e-01],\n",
       "       [9.3985972e-04, 2.1203138e-01, 7.8702879e-01],\n",
       "       [4.0204730e-03, 2.8499505e-01, 7.1098441e-01],\n",
       "       [6.9654010e-02, 6.6275638e-01, 2.6758966e-01],\n",
       "       [4.6183839e-03, 3.8631657e-01, 6.0906506e-01],\n",
       "       [9.0122843e-01, 9.4061680e-02, 4.7099353e-03],\n",
       "       [9.2044723e-01, 7.7059947e-02, 2.4928628e-03],\n",
       "       [9.0692657e-01, 8.9045964e-02, 4.0274146e-03],\n",
       "       [9.3734187e-01, 6.1227847e-02, 1.4302785e-03],\n",
       "       [3.0876579e-02, 6.6143799e-01, 3.0768546e-01],\n",
       "       [6.3662132e-04, 1.7513730e-01, 8.2422608e-01],\n",
       "       [6.8876058e-02, 6.4032036e-01, 2.9080355e-01],\n",
       "       [4.2670574e-02, 6.2887007e-01, 3.2845935e-01],\n",
       "       [4.7580549e-04, 1.4161475e-01, 8.5790950e-01],\n",
       "       [9.1255689e-01, 8.3953746e-02, 3.4894180e-03],\n",
       "       [8.4149577e-03, 4.3135878e-01, 5.6022626e-01],\n",
       "       [9.0409720e-01, 9.2487417e-02, 3.4153687e-03],\n",
       "       [6.8237208e-04, 1.6785963e-01, 8.3145797e-01],\n",
       "       [2.4276669e-03, 4.6908757e-01, 5.2848476e-01],\n",
       "       [7.2291523e-04, 1.8031806e-01, 8.1895906e-01],\n",
       "       [7.1181339e-04, 1.7260741e-01, 8.2668084e-01],\n",
       "       [5.7735469e-04, 1.8579756e-01, 8.1362510e-01],\n",
       "       [8.8385224e-01, 1.1022154e-01, 5.9262570e-03],\n",
       "       [8.9960992e-01, 9.5930845e-02, 4.4592591e-03],\n",
       "       [9.3028861e-01, 6.7881078e-02, 1.8302666e-03],\n",
       "       [9.5349169e-01, 4.5890223e-02, 6.1813305e-04],\n",
       "       [3.5482973e-02, 6.8736476e-01, 2.7715218e-01],\n",
       "       [9.2235243e-01, 7.5114511e-02, 2.5331404e-03],\n",
       "       [9.1270661e-01, 8.3873458e-02, 3.4198617e-03],\n",
       "       [1.2455616e-03, 1.9199482e-01, 8.0675960e-01],\n",
       "       [3.6563177e-02, 6.7921168e-01, 2.8422511e-01],\n",
       "       [9.2376697e-01, 7.3913127e-02, 2.3198694e-03],\n",
       "       [9.3014753e-01, 6.7972288e-02, 1.8801952e-03],\n",
       "       [9.4913960e-01, 5.0076660e-02, 7.8375702e-04],\n",
       "       [2.7075601e-03, 2.5527835e-01, 7.4201411e-01],\n",
       "       [5.2194204e-02, 7.0450336e-01, 2.4330242e-01],\n",
       "       [2.1270782e-02, 6.2400317e-01, 3.5472608e-01],\n",
       "       [9.3745482e-01, 6.1167128e-02, 1.3779751e-03],\n",
       "       [9.3169117e-01, 6.6598222e-02, 1.7106484e-03],\n",
       "       [9.1166541e-02, 6.4424241e-01, 2.6459107e-01],\n",
       "       [9.8167704e-03, 4.6807942e-01, 5.2210379e-01],\n",
       "       [5.0359010e-03, 4.0288162e-01, 5.9208250e-01],\n",
       "       [3.1003729e-02, 6.5586495e-01, 3.1313130e-01],\n",
       "       [5.4138718e-04, 2.1256317e-01, 7.8689539e-01]], dtype=float32)"
      ]
     },
     "execution_count": 66,
     "metadata": {},
     "output_type": "execute_result"
    }
   ],
   "source": [
    "model.predict(scaled_X_test)"
   ]
  },
  {
   "cell_type": "code",
   "execution_count": null,
   "id": "77fb4594-0922-4e33-b913-ef40bcf80b3f",
   "metadata": {},
   "outputs": [],
   "source": []
  },
  {
   "cell_type": "code",
   "execution_count": null,
   "id": "0ed83e8d-981c-479a-8aaf-cf3779b6dac2",
   "metadata": {},
   "outputs": [],
   "source": []
  },
  {
   "cell_type": "markdown",
   "id": "c5f6d6cf-de61-487b-ad1d-d0340dcda764",
   "metadata": {},
   "source": [
    "### Evaluating model performance"
   ]
  },
  {
   "cell_type": "code",
   "execution_count": 67,
   "id": "9e0b5907-c953-4357-8256-b8a49904ae88",
   "metadata": {
    "tags": []
   },
   "outputs": [
    {
     "data": {
      "text/plain": [
       "['loss', 'accuracy']"
      ]
     },
     "execution_count": 67,
     "metadata": {},
     "output_type": "execute_result"
    }
   ],
   "source": [
    "model.metrics_names"
   ]
  },
  {
   "cell_type": "code",
   "execution_count": 69,
   "id": "9e5a7475-8499-4236-a242-51b2a845ce59",
   "metadata": {
    "tags": []
   },
   "outputs": [
    {
     "name": "stdout",
     "output_type": "stream",
     "text": [
      "2/2 [==============================] - 0s 4ms/step - loss: 0.2823 - accuracy: 0.9800\n"
     ]
    },
    {
     "data": {
      "text/plain": [
       "[0.28228169679641724, 0.9800000190734863]"
      ]
     },
     "execution_count": 69,
     "metadata": {},
     "output_type": "execute_result"
    }
   ],
   "source": [
    "model.evaluate(x=scaled_X_test, y = y_test)"
   ]
  },
  {
   "cell_type": "code",
   "execution_count": 70,
   "id": "b8c487ab-0d33-4423-9d56-9b4a340d72fb",
   "metadata": {
    "tags": []
   },
   "outputs": [],
   "source": [
    "from sklearn.metrics import confusion_matrix, classification_report"
   ]
  },
  {
   "cell_type": "code",
   "execution_count": 71,
   "id": "c7ea9929-9519-443b-b929-60cfeed448ff",
   "metadata": {
    "tags": []
   },
   "outputs": [
    {
     "name": "stdout",
     "output_type": "stream",
     "text": [
      "2/2 [==============================] - 0s 2ms/step\n"
     ]
    }
   ],
   "source": [
    "predictions = model.predict(scaled_X_test)"
   ]
  },
  {
   "cell_type": "code",
   "execution_count": 72,
   "id": "8de98a4a-03ff-4fcd-8755-f6318cef1ea5",
   "metadata": {
    "tags": []
   },
   "outputs": [
    {
     "data": {
      "text/plain": [
       "array([[3.7337776e-02, 6.4776599e-01, 3.1489626e-01],\n",
       "       [9.2232847e-01, 7.5812779e-02, 1.8587328e-03],\n",
       "       [6.5921493e-05, 7.6797903e-02, 9.2313623e-01],\n",
       "       [2.5301296e-02, 5.7796013e-01, 3.9673859e-01],\n",
       "       [1.2792593e-02, 5.3655183e-01, 4.5065558e-01],\n",
       "       [8.8882852e-01, 1.0708155e-01, 4.0898803e-03],\n",
       "       [1.1037192e-01, 6.7922252e-01, 2.1040559e-01],\n",
       "       [9.3985972e-04, 2.1203138e-01, 7.8702879e-01],\n",
       "       [4.0204730e-03, 2.8499505e-01, 7.1098441e-01],\n",
       "       [6.9654010e-02, 6.6275638e-01, 2.6758966e-01],\n",
       "       [4.6183839e-03, 3.8631657e-01, 6.0906506e-01],\n",
       "       [9.0122843e-01, 9.4061680e-02, 4.7099353e-03],\n",
       "       [9.2044723e-01, 7.7059947e-02, 2.4928628e-03],\n",
       "       [9.0692657e-01, 8.9045964e-02, 4.0274146e-03],\n",
       "       [9.3734187e-01, 6.1227847e-02, 1.4302785e-03],\n",
       "       [3.0876579e-02, 6.6143799e-01, 3.0768546e-01],\n",
       "       [6.3662132e-04, 1.7513730e-01, 8.2422608e-01],\n",
       "       [6.8876058e-02, 6.4032036e-01, 2.9080355e-01],\n",
       "       [4.2670574e-02, 6.2887007e-01, 3.2845935e-01],\n",
       "       [4.7580549e-04, 1.4161475e-01, 8.5790950e-01],\n",
       "       [9.1255689e-01, 8.3953746e-02, 3.4894180e-03],\n",
       "       [8.4149577e-03, 4.3135878e-01, 5.6022626e-01],\n",
       "       [9.0409720e-01, 9.2487417e-02, 3.4153687e-03],\n",
       "       [6.8237208e-04, 1.6785963e-01, 8.3145797e-01],\n",
       "       [2.4276669e-03, 4.6908757e-01, 5.2848476e-01],\n",
       "       [7.2291523e-04, 1.8031806e-01, 8.1895906e-01],\n",
       "       [7.1181339e-04, 1.7260741e-01, 8.2668084e-01],\n",
       "       [5.7735469e-04, 1.8579756e-01, 8.1362510e-01],\n",
       "       [8.8385224e-01, 1.1022154e-01, 5.9262570e-03],\n",
       "       [8.9960992e-01, 9.5930845e-02, 4.4592591e-03],\n",
       "       [9.3028861e-01, 6.7881078e-02, 1.8302666e-03],\n",
       "       [9.5349169e-01, 4.5890223e-02, 6.1813305e-04],\n",
       "       [3.5482973e-02, 6.8736476e-01, 2.7715218e-01],\n",
       "       [9.2235243e-01, 7.5114511e-02, 2.5331404e-03],\n",
       "       [9.1270661e-01, 8.3873458e-02, 3.4198617e-03],\n",
       "       [1.2455616e-03, 1.9199482e-01, 8.0675960e-01],\n",
       "       [3.6563177e-02, 6.7921168e-01, 2.8422511e-01],\n",
       "       [9.2376697e-01, 7.3913127e-02, 2.3198694e-03],\n",
       "       [9.3014753e-01, 6.7972288e-02, 1.8801952e-03],\n",
       "       [9.4913960e-01, 5.0076660e-02, 7.8375702e-04],\n",
       "       [2.7075601e-03, 2.5527835e-01, 7.4201411e-01],\n",
       "       [5.2194204e-02, 7.0450336e-01, 2.4330242e-01],\n",
       "       [2.1270782e-02, 6.2400317e-01, 3.5472608e-01],\n",
       "       [9.3745482e-01, 6.1167128e-02, 1.3779751e-03],\n",
       "       [9.3169117e-01, 6.6598222e-02, 1.7106484e-03],\n",
       "       [9.1166541e-02, 6.4424241e-01, 2.6459107e-01],\n",
       "       [9.8167704e-03, 4.6807942e-01, 5.2210379e-01],\n",
       "       [5.0359010e-03, 4.0288162e-01, 5.9208250e-01],\n",
       "       [3.1003729e-02, 6.5586495e-01, 3.1313130e-01],\n",
       "       [5.4138718e-04, 2.1256317e-01, 7.8689539e-01]], dtype=float32)"
      ]
     },
     "execution_count": 72,
     "metadata": {},
     "output_type": "execute_result"
    }
   ],
   "source": [
    "predictions"
   ]
  },
  {
   "cell_type": "code",
   "execution_count": 73,
   "id": "f2eddf56-7d16-4b33-8aed-e9ad2e6dd874",
   "metadata": {
    "tags": []
   },
   "outputs": [
    {
     "data": {
      "text/plain": [
       "array([1, 0, 2, 1, 1, 0, 1, 2, 1, 1, 2, 0, 0, 0, 0, 1, 2, 1, 1, 2, 0, 2,\n",
       "       0, 2, 2, 2, 2, 2, 0, 0, 0, 0, 1, 0, 0, 2, 1, 0, 0, 0, 2, 1, 1, 0,\n",
       "       0, 1, 2, 2, 1, 2], dtype=int64)"
      ]
     },
     "execution_count": 73,
     "metadata": {},
     "output_type": "execute_result"
    }
   ],
   "source": [
    "y_test.argmax(axis=1)"
   ]
  }
 ],
 "metadata": {
  "kernelspec": {
   "display_name": "Python 3 (ipykernel)",
   "language": "python",
   "name": "python3"
  },
  "language_info": {
   "codemirror_mode": {
    "name": "ipython",
    "version": 3
   },
   "file_extension": ".py",
   "mimetype": "text/x-python",
   "name": "python",
   "nbconvert_exporter": "python",
   "pygments_lexer": "ipython3",
   "version": "3.11.1"
  }
 },
 "nbformat": 4,
 "nbformat_minor": 5
}
