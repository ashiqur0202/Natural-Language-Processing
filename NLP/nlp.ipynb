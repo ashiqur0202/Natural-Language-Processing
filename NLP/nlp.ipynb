{
 "cells": [
  {
   "cell_type": "code",
   "execution_count": null,
   "metadata": {},
   "outputs": [],
   "source": [
    "Tokenization, Lemmatization, Steamming\n",
    "BOW, TFIDF, Uniqu\n",
    "Word2Vec, Avgword2vec\n",
    "RNN, lastm rnn, gru rnn\n",
    "word embedding\n",
    "transf o remel\n",
    "bert"
   ]
  }
 ],
 "metadata": {
  "language_info": {
   "name": "python"
  }
 },
 "nbformat": 4,
 "nbformat_minor": 2
}
