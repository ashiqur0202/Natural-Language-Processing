{
 "cells": [
  {
   "cell_type": "markdown",
   "id": "3dd15976-bfca-4106-abe6-17cdf17c3b69",
   "metadata": {},
   "source": [
    "__N-grams__\n",
    "\n",
    "N-grams are contiguous sequences of N words from a given text. They are a common technique used in NLP for feature extraction and text analysis. N-grams can be used for a variety of tasks, including language modeling, text classification, and information retrieval.\n",
    "\n",
    "To generate N-grams, we simply slide a window of N words over the text and extract the sequence of words within the window. For example, given the sentence \"The quick brown fox jumps over the lazy dog\", some 2-grams (or bigrams) would be \"The quick\", \"quick brown\", \"brown fox\", \"fox jumps\", \"jumps over\", \"over the\", \"the lazy\", and \"lazy dog\".\n",
    "\n",
    "N-grams are used in many NLP applications, including:\n",
    "\n",
    "Language modeling: predicting the probability of the next word in a sequence based on the previous words.\n",
    "\n",
    "Machine translation: converting text from one language to another.\n",
    "\n",
    "Sentiment analysis: analyzing the sentiment of a given text.\n",
    "\n",
    "Text classification: categorizing a given text into different categories or classes."
   ]
  },
  {
   "cell_type": "markdown",
   "id": "cd24ad96-555e-4a16-8d00-bcce7ae060f5",
   "metadata": {},
   "source": [
    "Title: Understanding N-grams in Natural Language Processing\n",
    "\n",
    "N-grams are an important concept in natural language processing (NLP) that refer to contiguous sequences of n words from a given text. These sequences can be used to extract useful information from text data, such as identifying common phrases or patterns.\n",
    "\n",
    "In NLP, N-grams are often used for tasks like text classification, sentiment analysis, and language modeling. For example, by analyzing the most frequent N-grams in a given text, we can identify the most common phrases or expressions used by the author. This information can be useful in a variety of contexts, from marketing research to social media monitoring.\n",
    "\n",
    "The choice of N-gram size (the value of n) depends on the specific task and the characteristics of the text data. For example, for tasks that require a more detailed analysis of the text, such as language modeling, a larger N-gram size may be appropriate. On the other hand, for tasks that require a more general understanding of the text, a smaller N-gram size may be more appropriate.\n",
    "\n",
    "Overall, N-grams are a powerful tool in NLP that can help us extract valuable insights from text data. By understanding how they work and when to use them, we can improve our ability to analyze and understand natural language.\n",
    "\n",
    "#NLP #NGrams #DataAnalysis #MachineLearning"
   ]
  },
  {
   "cell_type": "code",
   "execution_count": 1,
   "id": "a232e0ae-e074-47fc-b804-168755c32be4",
   "metadata": {
    "tags": []
   },
   "outputs": [
    {
     "name": "stdout",
     "output_type": "stream",
     "text": [
      "[('The', 'quick'), ('quick', 'brown'), ('brown', 'fox'), ('fox', 'jumps'), ('jumps', 'over'), ('over', 'the'), ('the', 'lazy'), ('lazy', 'dog')]\n",
      "[('The', 'quick', 'brown'), ('quick', 'brown', 'fox'), ('brown', 'fox', 'jumps'), ('fox', 'jumps', 'over'), ('jumps', 'over', 'the'), ('over', 'the', 'lazy'), ('the', 'lazy', 'dog')]\n"
     ]
    }
   ],
   "source": [
    "import nltk\n",
    "from nltk import ngrams\n",
    "\n",
    "sentence = \"The quick brown fox jumps over the lazy dog\"\n",
    "tokens = nltk.word_tokenize(sentence)\n",
    "bigrams = list(ngrams(tokens, 2))\n",
    "trigrams = list(ngrams(tokens, 3))\n",
    "print(bigrams)\n",
    "print(trigrams)\n"
   ]
  }
 ],
 "metadata": {
  "kernelspec": {
   "display_name": "Python 3 (ipykernel)",
   "language": "python",
   "name": "python3"
  },
  "language_info": {
   "codemirror_mode": {
    "name": "ipython",
    "version": 3
   },
   "file_extension": ".py",
   "mimetype": "text/x-python",
   "name": "python",
   "nbconvert_exporter": "python",
   "pygments_lexer": "ipython3",
   "version": "3.11.1"
  }
 },
 "nbformat": 4,
 "nbformat_minor": 5
}
