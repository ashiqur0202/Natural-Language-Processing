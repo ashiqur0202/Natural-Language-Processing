{
 "cells": [
  {
   "cell_type": "markdown",
   "id": "ae306983-f0d4-4f91-b037-a4a2dca156bb",
   "metadata": {},
   "source": [
    "__Stopwords__\n",
    "\n",
    "In Natural Language Processing, stopwords refer to common words that are often removed from text data during preprocessing to reduce the noise and size of the data. These are typically high-frequency words such as articles (e.g., 'the', 'a', 'an'), conjunctions (e.g., 'and', 'or', 'but'), prepositions (e.g., 'in', 'on', 'at'), pronouns (e.g., 'he', 'she', 'it'), and other words that do not carry significant meaning on their own.\n",
    "\n",
    "Stopwords are removed from text data because they can have a negative impact on downstream NLP tasks such as text classification, sentiment analysis, and information retrieval. This is because these words can make it harder for NLP models to identify the most important words in a sentence, and can also lead to noisy and irrelevant results.\n",
    "\n",
    "Stopwords can be language-specific, and different languages may have different sets of stopwords. Some NLP libraries like NLTK and spaCy provide pre-defined sets of stopwords for different languages, which can be used to remove these words from text data during preprocessing."
   ]
  },
  {
   "cell_type": "code",
   "execution_count": null,
   "id": "526cd06b-91fc-4fd9-87ae-1c3d2e7a734a",
   "metadata": {
    "tags": []
   },
   "outputs": [],
   "source": [
    "# Perform standard imports\n",
    "import spacy\n",
    "nlp = spacy.load('en_core_web_sm')"
   ]
  },
  {
   "cell_type": "code",
   "execution_count": null,
   "id": "a2101543-64fd-4231-ade3-01e084871d73",
   "metadata": {
    "tags": []
   },
   "outputs": [],
   "source": [
    "import nltk"
   ]
  },
  {
   "cell_type": "code",
   "execution_count": null,
   "id": "d649ba8c-9b9d-4374-931f-7ab6799ea975",
   "metadata": {
    "tags": []
   },
   "outputs": [],
   "source": [
    "# Print the set of spacy's default stop waords\n",
    "print(nlp.Defaults.stop_words)"
   ]
  },
  {
   "cell_type": "code",
   "execution_count": null,
   "id": "39fbc30e-bfde-4b6a-ad03-6d68d29eb17e",
   "metadata": {
    "tags": []
   },
   "outputs": [],
   "source": [
    "len(nlp.Defaults.stop_words)"
   ]
  },
  {
   "cell_type": "code",
   "execution_count": null,
   "id": "1220a8e2-1e1d-49ae-b84d-c0f1d8057ce2",
   "metadata": {
    "tags": []
   },
   "outputs": [],
   "source": [
    "# To see if a word is a stop word"
   ]
  },
  {
   "cell_type": "code",
   "execution_count": null,
   "id": "c0e7c498-963b-4360-a2d8-4fedbcb0d640",
   "metadata": {
    "tags": []
   },
   "outputs": [],
   "source": [
    "nlp.vocab['myself'].is_stop"
   ]
  },
  {
   "cell_type": "code",
   "execution_count": null,
   "id": "0f30676c-f38b-4c5f-9da7-f94321a619c0",
   "metadata": {
    "tags": []
   },
   "outputs": [],
   "source": [
    "nlp.vocab['mystery'].is_stop"
   ]
  },
  {
   "cell_type": "code",
   "execution_count": null,
   "id": "583a6d2c-0961-44e4-8ecb-968d13736c03",
   "metadata": {
    "tags": []
   },
   "outputs": [],
   "source": [
    "# Add the word to the set of stop words. use lowercase!\n",
    "nlp.Defaults.stop_words.add('mystery')"
   ]
  },
  {
   "cell_type": "code",
   "execution_count": null,
   "id": "023759a9-2051-4968-9f61-ecd65360f269",
   "metadata": {
    "tags": []
   },
   "outputs": [],
   "source": [
    "# Set the stop_word tag on the lexeme\n",
    "nlp.vocab['mystery'].is_stop = True"
   ]
  },
  {
   "cell_type": "code",
   "execution_count": null,
   "id": "bd4781c9-7b23-4301-8528-3013b0ace9e1",
   "metadata": {
    "tags": []
   },
   "outputs": [],
   "source": [
    "len(nlp.Defaults.stop_words)"
   ]
  },
  {
   "cell_type": "code",
   "execution_count": null,
   "id": "245bf53f-78ed-4a37-ad20-9d888e5188dc",
   "metadata": {
    "tags": []
   },
   "outputs": [],
   "source": [
    "nlp.vocab['mystery'].is_stop"
   ]
  },
  {
   "cell_type": "code",
   "execution_count": null,
   "id": "2f96db86-4296-4a40-9103-4d6df6610de9",
   "metadata": {
    "tags": []
   },
   "outputs": [],
   "source": [
    "# Remove a stop word\n",
    "nlp.Defaults.stop_words.remove('beyond')\n",
    "\n",
    "# Remove the stop_word tag from the lexeme\n",
    "nlp.vocab['beyond'].is_stop=False"
   ]
  },
  {
   "cell_type": "code",
   "execution_count": null,
   "id": "f03d4583-b983-4e79-a970-a60aed21cbd4",
   "metadata": {
    "tags": []
   },
   "outputs": [],
   "source": [
    "len(nlp.Defaults.stop_words)"
   ]
  },
  {
   "cell_type": "code",
   "execution_count": null,
   "id": "fff36944-d4ed-4458-b057-63f02b44eebe",
   "metadata": {
    "tags": []
   },
   "outputs": [],
   "source": [
    "nlp.vocab['beyond'].is_stop"
   ]
  },
  {
   "cell_type": "code",
   "execution_count": null,
   "id": "2eb8e235-7369-4f8d-a090-405b53de5d39",
   "metadata": {
    "tags": []
   },
   "outputs": [],
   "source": [
    "import string\n",
    "import re\n",
    "import nltk\n",
    "nltk.download('punkt')\n",
    "from nltk import word_tokenize,sent_tokenize\n",
    "from nltk.corpus import stopwords\n",
    "\n",
    "# load data\n",
    "text = 'The Quick brown for jump over the lazy dog!'"
   ]
  },
  {
   "cell_type": "code",
   "execution_count": null,
   "id": "f208daf3-08d0-4529-b59d-6014f2740f8f",
   "metadata": {
    "tags": []
   },
   "outputs": [],
   "source": [
    "# Split into words\n",
    "tokens = word_tokenize(text)\n",
    "print(tokens)"
   ]
  },
  {
   "cell_type": "code",
   "execution_count": null,
   "id": "2392c654-02c2-44ae-be9f-72eaa06446ab",
   "metadata": {
    "tags": []
   },
   "outputs": [],
   "source": [
    "# Convert to lower case\n",
    "tokens = [w.lower() for w in tokens]\n",
    "print(tokens)"
   ]
  },
  {
   "cell_type": "code",
   "execution_count": null,
   "id": "21e8ec88-5963-4d33-b6d6-eb28b9c54203",
   "metadata": {
    "tags": []
   },
   "outputs": [],
   "source": [
    "# Prepare regex for char filtering\n",
    "re_punc = re.compile('[%s]' % re.escape(string.punctuation))\n",
    "print(re_punc)"
   ]
  },
  {
   "cell_type": "code",
   "execution_count": null,
   "id": "9778d486-ab3b-4de2-a2b1-2b33bbc8c3cc",
   "metadata": {
    "tags": []
   },
   "outputs": [],
   "source": [
    "# Remove punctuation from each word\n",
    "stripped = [re_punc.sub('', w) for w in tokens]\n",
    "print(stripped)"
   ]
  },
  {
   "cell_type": "code",
   "execution_count": null,
   "id": "e63c143a-8190-44fa-9134-e2a2ec940584",
   "metadata": {
    "tags": []
   },
   "outputs": [],
   "source": [
    "# Remove remaining tokens that are not alphabetic\n",
    "words = [word for word in stripped if word.isalpha()]\n",
    "print(words)"
   ]
  },
  {
   "cell_type": "code",
   "execution_count": null,
   "id": "15778a0a-921c-43bc-9bb0-f2365041df0b",
   "metadata": {
    "tags": []
   },
   "outputs": [],
   "source": [
    "# filter out non-stop words\n",
    "stop_words=set(stopwords.words('english'))\n",
    "words = [w for w in words if not w in stop_words]\n",
    "print(words)"
   ]
  },
  {
   "cell_type": "code",
   "execution_count": null,
   "id": "e54637c7-4de5-4bf2-a0f0-09526cd42487",
   "metadata": {
    "tags": []
   },
   "outputs": [],
   "source": [
    "nlp.vocab['quick'].is_stop"
   ]
  },
  {
   "cell_type": "code",
   "execution_count": null,
   "id": "99dd1ac9-03bc-4a4d-9b63-06b1ea985d06",
   "metadata": {
    "tags": []
   },
   "outputs": [],
   "source": [
    "nlp.vocab['brown'].is_stop"
   ]
  },
  {
   "cell_type": "code",
   "execution_count": null,
   "id": "9dc9d7cc-013e-4bc4-93be-a2cedd432ee2",
   "metadata": {
    "tags": []
   },
   "outputs": [],
   "source": [
    "nlp.vocab['jump'].is_stop"
   ]
  }
 ],
 "metadata": {
  "kernelspec": {
   "display_name": "Python 3 (ipykernel)",
   "language": "python",
   "name": "python3"
  },
  "language_info": {
   "codemirror_mode": {
    "name": "ipython",
    "version": 3
   },
   "file_extension": ".py",
   "mimetype": "text/x-python",
   "name": "python",
   "nbconvert_exporter": "python",
   "pygments_lexer": "ipython3",
   "version": "3.11.1"
  }
 },
 "nbformat": 4,
 "nbformat_minor": 5
}
