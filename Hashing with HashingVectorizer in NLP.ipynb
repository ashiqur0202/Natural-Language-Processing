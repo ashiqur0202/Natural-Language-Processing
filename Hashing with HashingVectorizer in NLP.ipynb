{
 "cells": [
  {
   "cell_type": "markdown",
   "id": "9228a3cd-2767-473c-a221-73392b09a99d",
   "metadata": {},
   "source": [
    "__Hashing with HashingVectorizer in NLP__\n",
    "\n",
    "HashingVectorizer is a method of feature extraction in NLP that uses a hash function to transform text into numerical features. This is useful when working with large datasets because it has a lower memory footprint than other methods like CountVectorizer and TfidfVectorizer."
   ]
  },
  {
   "cell_type": "markdown",
   "id": "ec88b129-0725-42ba-ad12-5ec5e15667e1",
   "metadata": {},
   "source": [
    "__CountVectorizer:__ A vectorizer that converts text to a matrix of token counts.\n",
    "\n",
    "__TfidfVectorizer:__ A vectorizer that converts text to a matrix of TF-IDF features.\n",
    "\n",
    "__HashingVectorizer:__ A vectorizer that converts text to a matrix of hashed features.\n",
    "\n",
    "__Word2Vec:__ A neural network-based vectorizer that learns word embeddings from a corpus of text.\n",
    "\n",
    "__GloVe:__ A pre-trained vectorizer that creates word embeddings based on co-occurrence statistics.\n",
    "\n",
    "__Doc2Vec:__ A neural network-based vectorizer that learns document embeddings from a corpus of text."
   ]
  },
  {
   "cell_type": "markdown",
   "id": "970fa9cd-5a31-4b32-82df-8430196da43b",
   "metadata": {},
   "source": [
    "### Count Vectorizer "
   ]
  },
  {
   "cell_type": "code",
   "execution_count": 2,
   "id": "3d8f7ecd-1f1f-4005-8ed1-3d7fa570b6f8",
   "metadata": {
    "tags": []
   },
   "outputs": [
    {
     "name": "stdout",
     "output_type": "stream",
     "text": [
      "{'this': 8, 'is': 3, 'the': 6, 'first': 2, 'document': 1, 'second': 5, 'and': 0, 'third': 7, 'one': 4}\n",
      "[[0 1 1 1 0 0 1 0 1]\n",
      " [0 1 0 1 0 2 1 0 1]\n",
      " [1 0 0 0 1 0 1 1 0]\n",
      " [0 1 1 1 0 0 1 0 1]]\n"
     ]
    }
   ],
   "source": [
    "from sklearn.feature_extraction.text import CountVectorizer\n",
    "\n",
    "# Example documents\n",
    "documents = [\"This is the first document.\", \"This is the second second document.\", \"And the third one.\", \"Is this the first document?\"]\n",
    "\n",
    "# Create the CountVectorizer object\n",
    "vectorizer = CountVectorizer()\n",
    "\n",
    "# Fit the CountVectorizer object on the documents\n",
    "matrix = vectorizer.fit_transform(documents)\n",
    "\n",
    "# Get feature names from vocabulary_\n",
    "feature_names = vectorizer.vocabulary_\n",
    "\n",
    "# Print feature names and their corresponding indices\n",
    "print(feature_names)\n",
    "\n",
    "# Print the matrix of token counts\n",
    "print(matrix.toarray())\n"
   ]
  },
  {
   "cell_type": "markdown",
   "id": "c4760b59-84f7-4b98-802a-6478fad9b044",
   "metadata": {
    "tags": []
   },
   "source": [
    "### Tfidf Vectorizer "
   ]
  },
  {
   "cell_type": "code",
   "execution_count": 4,
   "id": "6a890d86-b02f-4d40-8deb-a0e4c7464a25",
   "metadata": {
    "tags": []
   },
   "outputs": [
    {
     "name": "stdout",
     "output_type": "stream",
     "text": [
      "[[0.         0.43877674 0.54197657 0.43877674 0.         0.\n",
      "  0.35872874 0.         0.43877674]\n",
      " [0.         0.27230147 0.         0.27230147 0.         0.85322574\n",
      "  0.22262429 0.         0.27230147]\n",
      " [0.55280532 0.         0.         0.         0.55280532 0.\n",
      "  0.28847675 0.55280532 0.        ]\n",
      " [0.         0.43877674 0.54197657 0.43877674 0.         0.\n",
      "  0.35872874 0.         0.43877674]]\n",
      "{'this': 8, 'is': 3, 'the': 6, 'first': 2, 'document': 1, 'second': 5, 'and': 0, 'third': 7, 'one': 4}\n"
     ]
    }
   ],
   "source": [
    "from sklearn.feature_extraction.text import TfidfVectorizer\n",
    "\n",
    "# Define the corpus of text documents\n",
    "corpus = ['This is the first document.', \n",
    "          'This is the second second document.', \n",
    "          'And the third one.', \n",
    "          'Is this the first document?']\n",
    "\n",
    "# Create a TfidfVectorizer object\n",
    "tfidf_vectorizer = TfidfVectorizer()\n",
    "\n",
    "# Fit and transform the vectorizer on the corpus of text documents\n",
    "tfidf_matrix = tfidf_vectorizer.fit_transform(corpus)\n",
    "\n",
    "# Get feature names from the vectorizer's vocabulary_\n",
    "feature_names = tfidf_vectorizer.vocabulary_\n",
    "\n",
    "# Print the matrix of TF-IDF scores\n",
    "print(tfidf_matrix.toarray())\n",
    "\n",
    "# Print the feature names\n",
    "print(feature_names)\n"
   ]
  },
  {
   "cell_type": "markdown",
   "id": "39d85f17-fbb4-4a58-8b04-6e3c7a0bc55e",
   "metadata": {},
   "source": [
    "### Hashing Vectorizer"
   ]
  },
  {
   "cell_type": "code",
   "execution_count": 5,
   "id": "425b4bff-08a8-4437-b6e7-2fde4e7dc1f8",
   "metadata": {
    "tags": []
   },
   "outputs": [
    {
     "name": "stdout",
     "output_type": "stream",
     "text": [
      "[[ 0.          0.          0.          0.          0.33333333  0.\n",
      "   0.          0.         -0.66666667  0.66666667]\n",
      " [-0.30151134  0.          0.          0.          0.          0.\n",
      "   0.60302269  0.30151134 -0.60302269  0.30151134]\n",
      " [ 0.37796447  0.37796447  0.         -0.37796447  0.          0.\n",
      "   0.          0.         -0.75592895  0.        ]]\n"
     ]
    }
   ],
   "source": [
    "from sklearn.feature_extraction.text import HashingVectorizer\n",
    "\n",
    "# Sample documents\n",
    "doc1 = \"The cat in the hat.\"\n",
    "doc2 = \"The cat is out of the bag.\"\n",
    "doc3 = \"The dog ate my homework.\"\n",
    "\n",
    "# Create HashingVectorizer object\n",
    "vectorizer = HashingVectorizer(n_features=10)\n",
    "\n",
    "# Vectorize the documents\n",
    "X = vectorizer.transform([doc1, doc2, doc3])\n",
    "\n",
    "# Print the feature vectors\n",
    "print(X.toarray())\n"
   ]
  }
 ],
 "metadata": {
  "kernelspec": {
   "display_name": "Python 3 (ipykernel)",
   "language": "python",
   "name": "python3"
  },
  "language_info": {
   "codemirror_mode": {
    "name": "ipython",
    "version": 3
   },
   "file_extension": ".py",
   "mimetype": "text/x-python",
   "name": "python",
   "nbconvert_exporter": "python",
   "pygments_lexer": "ipython3",
   "version": "3.11.1"
  }
 },
 "nbformat": 4,
 "nbformat_minor": 5
}
