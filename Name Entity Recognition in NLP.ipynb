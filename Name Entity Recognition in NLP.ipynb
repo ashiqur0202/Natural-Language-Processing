{
 "cells": [
  {
   "cell_type": "markdown",
   "id": "17d4642c-0c84-49a0-a677-b7d50fc13d94",
   "metadata": {},
   "source": [
    "__Named Entity Recognition __\n",
    "\n",
    "Named Entity Recognition (NER) is a sub-task of Natural Language Processing (NLP) that aims to extract entities such as names of people, organizations, locations, dates, etc. from text. It involves identifying and classifying named entities in unstructured text into pre-defined categories.\n",
    "\n",
    "NER is an essential component of many NLP applications, including chatbots, sentiment analysis, recommender systems, and machine translation, among others. It helps in better understanding the meaning of text and extracting useful insights.\n",
    "\n",
    "For example, in a sentence like \"John works at Google and lives in San Francisco,\" NER can extract the entities \"John\" as a person, \"Google\" as an organization, and \"San Francisco\" as a location.\n",
    "\n",
    "NER is accomplished by using machine learning algorithms such as Conditional Random Fields (CRFs) and Recurrent Neural Networks (RNNs) to label the entities in text. These algorithms are trained on large datasets that are manually annotated with named entities.\n",
    "\n",
    "Overall, NER is a critical tool for extracting meaningful information from unstructured text, and it has numerous applications across various industries. "
   ]
  },
  {
   "cell_type": "code",
   "execution_count": 1,
   "id": "91bb3fe2-ed9b-4173-a61f-afba3e52b8e4",
   "metadata": {
    "tags": []
   },
   "outputs": [],
   "source": [
    "# Perform standard imports\n",
    "import spacy\n",
    "nlp = spacy.load('en_core_web_sm')"
   ]
  },
  {
   "cell_type": "code",
   "execution_count": 2,
   "id": "6964c2f7-2339-490a-bd75-ac76b07b1508",
   "metadata": {
    "tags": []
   },
   "outputs": [],
   "source": [
    "# Write a function to display basic entity info\n",
    "def show_ents(doc):\n",
    "    if doc.ents:\n",
    "        for ent in doc.ents:\n",
    "            print(ent.text+' - '+ent.label_+' - '+str(spacy.explain(ent.label_)))\n",
    "        else:\n",
    "            print('No named entities found.')"
   ]
  },
  {
   "cell_type": "code",
   "execution_count": 3,
   "id": "c1892006-20ee-4c25-81ad-5fbb0fece6f4",
   "metadata": {
    "tags": []
   },
   "outputs": [],
   "source": [
    "doc = nlp(u'Hi, everyone in Ashiqur Rahman')"
   ]
  },
  {
   "cell_type": "code",
   "execution_count": 4,
   "id": "4b6d44d5-0a95-454d-925c-53f801c96c53",
   "metadata": {
    "tags": []
   },
   "outputs": [
    {
     "name": "stdout",
     "output_type": "stream",
     "text": [
      "Ashiqur Rahman - GPE - Countries, cities, states\n",
      "No named entities found.\n"
     ]
    }
   ],
   "source": [
    "show_ents(doc)"
   ]
  },
  {
   "cell_type": "code",
   "execution_count": 5,
   "id": "bf678d3b-3cde-42b5-9224-da962541f3bc",
   "metadata": {
    "tags": []
   },
   "outputs": [
    {
     "name": "stdout",
     "output_type": "stream",
     "text": [
      "Bangladesh - GPE - Countries, cities, states\n",
      "Canada - GPE - Countries, cities, states\n",
      "next month - DATE - Absolute or relative dates or periods\n",
      "No named entities found.\n"
     ]
    }
   ],
   "source": [
    "doc2 = nlp(u'May i go to Bangladesh or Canada, next month to see the virous report?')\n",
    "show_ents(doc2)"
   ]
  },
  {
   "cell_type": "markdown",
   "id": "b17c3ff2-cfc6-4a99-aa94-bb35ba7a51d0",
   "metadata": {},
   "source": [
    "### Adding named entity to a span"
   ]
  },
  {
   "cell_type": "code",
   "execution_count": 7,
   "id": "85bdfa90-8deb-428e-8bc4-8f06cc44247f",
   "metadata": {
    "tags": []
   },
   "outputs": [
    {
     "name": "stdout",
     "output_type": "stream",
     "text": [
      "u.k - GPE - Countries, cities, states\n",
      "$6 million - MONEY - Monetary values, including unit\n",
      "No named entities found.\n"
     ]
    }
   ],
   "source": [
    "doc = nlp(u'Ashiqur to build a u.k factory for $6 million')\n",
    "show_ents(doc)"
   ]
  },
  {
   "cell_type": "code",
   "execution_count": 8,
   "id": "2fd30ef8-54d9-471e-903f-2621eee8a7d5",
   "metadata": {
    "tags": []
   },
   "outputs": [],
   "source": [
    "from spacy.tokens import Span\n",
    "\n",
    "# Get the hash value of the org entity label\n",
    "org = doc.vocab.strings[u'PERSON']\n",
    "\n",
    "#Create a span for the new entity\n",
    "new_ent = Span(doc, 0,1, label=org)\n",
    "\n",
    "# Add the entity to the existing doc object\n",
    "doc.ents = list(doc.ents)+[new_ent]"
   ]
  },
  {
   "cell_type": "code",
   "execution_count": 9,
   "id": "493a6a0c-3c63-487f-80f2-60d1e3bacb71",
   "metadata": {
    "tags": []
   },
   "outputs": [
    {
     "name": "stdout",
     "output_type": "stream",
     "text": [
      "Ashiqur - PERSON - People, including fictional\n",
      "u.k - GPE - Countries, cities, states\n",
      "$6 million - MONEY - Monetary values, including unit\n",
      "No named entities found.\n"
     ]
    }
   ],
   "source": [
    "show_ents(doc)"
   ]
  },
  {
   "cell_type": "markdown",
   "id": "649ad161-cb1e-4182-80f0-a97aa0b61c00",
   "metadata": {},
   "source": [
    "### Visualizing named entities\n"
   ]
  },
  {
   "cell_type": "code",
   "execution_count": 10,
   "id": "06bda0bc-d9a9-47a0-84ed-a760afbd0b81",
   "metadata": {
    "tags": []
   },
   "outputs": [],
   "source": [
    "import spacy\n",
    "nlp = spacy.load('en_core_web_sm')"
   ]
  },
  {
   "cell_type": "code",
   "execution_count": 11,
   "id": "4f5be718-33e3-4879-81fd-79dfcadfc29b",
   "metadata": {
    "tags": []
   },
   "outputs": [],
   "source": [
    "from spacy import displacy"
   ]
  },
  {
   "cell_type": "code",
   "execution_count": 12,
   "id": "232c6757-31d8-4549-a98f-cf35b00ab473",
   "metadata": {
    "tags": []
   },
   "outputs": [
    {
     "data": {
      "text/html": [
       "<span class=\"tex2jax_ignore\"><div class=\"entities\" style=\"line-height: 2.5; direction: ltr\">Over \n",
       "<mark class=\"entity\" style=\"background: #bfe1d9; padding: 0.45em 0.6em; margin: 0 0.25em; line-height: 1; border-radius: 0.35em;\">\n",
       "    the last quarter\n",
       "    <span style=\"font-size: 0.8em; font-weight: bold; line-height: 1; border-radius: 0.35em; vertical-align: middle; margin-left: 0.5rem\">DATE</span>\n",
       "</mark>\n",
       " \n",
       "<mark class=\"entity\" style=\"background: #7aecec; padding: 0.45em 0.6em; margin: 0 0.25em; line-height: 1; border-radius: 0.35em;\">\n",
       "    Apple\n",
       "    <span style=\"font-size: 0.8em; font-weight: bold; line-height: 1; border-radius: 0.35em; vertical-align: middle; margin-left: 0.5rem\">ORG</span>\n",
       "</mark>\n",
       " sold \n",
       "<mark class=\"entity\" style=\"background: #e4e7d2; padding: 0.45em 0.6em; margin: 0 0.25em; line-height: 1; border-radius: 0.35em;\">\n",
       "    nearly 20 thousand\n",
       "    <span style=\"font-size: 0.8em; font-weight: bold; line-height: 1; border-radius: 0.35em; vertical-align: middle; margin-left: 0.5rem\">CARDINAL</span>\n",
       "</mark>\n",
       " iPhone for a profit of \n",
       "<mark class=\"entity\" style=\"background: #e4e7d2; padding: 0.45em 0.6em; margin: 0 0.25em; line-height: 1; border-radius: 0.35em;\">\n",
       "    $10 million\n",
       "    <span style=\"font-size: 0.8em; font-weight: bold; line-height: 1; border-radius: 0.35em; vertical-align: middle; margin-left: 0.5rem\">MONEY</span>\n",
       "</mark>\n",
       ".</div></span>"
      ],
      "text/plain": [
       "<IPython.core.display.HTML object>"
      ]
     },
     "metadata": {},
     "output_type": "display_data"
    }
   ],
   "source": [
    "doc = nlp(u'Over the last quarter Apple sold nearly 20 thousand iPhone for a profit of $10 million.')\n",
    "displacy.render(doc, style='ent', jupyter=True)"
   ]
  },
  {
   "cell_type": "code",
   "execution_count": null,
   "id": "39fc631d-ed83-435b-be61-1496dd67ba57",
   "metadata": {},
   "outputs": [],
   "source": []
  }
 ],
 "metadata": {
  "kernelspec": {
   "display_name": "Python 3 (ipykernel)",
   "language": "python",
   "name": "python3"
  },
  "language_info": {
   "codemirror_mode": {
    "name": "ipython",
    "version": 3
   },
   "file_extension": ".py",
   "mimetype": "text/x-python",
   "name": "python",
   "nbconvert_exporter": "python",
   "pygments_lexer": "ipython3",
   "version": "3.11.1"
  }
 },
 "nbformat": 4,
 "nbformat_minor": 5
}
