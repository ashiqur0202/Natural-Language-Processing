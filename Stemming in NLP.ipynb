{
 "cells": [
  {
   "cell_type": "markdown",
   "id": "8bbd8e30-1cd8-418a-99f2-9ac6f9e6f3ea",
   "metadata": {},
   "source": [
    "__Stemming in NLP__\n",
    "\n",
    "Stemming is a widely used technique in Natural Language Processing (NLP) that is used to reduce a word to its base or root form. The goal of stemming is to reduce a word to its base form so that similar words can be treated as the same word. This is particularly useful when we want to perform text analysis or search through large amounts of text data.\n",
    "\n",
    "There are various algorithms used for stemming, such as the Porter stemming algorithm, the Snowball stemming algorithm, and the Lancaster stemming algorithm. These algorithms work by applying a set of rules to the word in order to remove any suffixes or prefixes and bring the word to its base form.\n",
    "\n",
    "For example, the word \"jumping\" would be stemmed to \"jump\" using the Porter stemming algorithm. Similarly, the word \"amazing\" would be stemmed to \"amaz\" using the same algorithm.\n",
    "\n",
    "While stemming can be a useful technique in NLP, it is not always accurate. For example, the word \"run\" could be stemmed to \"run\" or \"ran\" depending on the context, and the algorithm may not always be able to accurately determine the appropriate base form. This is where lemmatization, a more advanced technique, can be used instead of stemming.\n",
    "\n",
    "Overall, stemming is a useful technique in NLP for reducing words to their base forms and enabling more efficient text analysis and search.\n",
    "\n",
    "\n",
    "\n",
    "\n",
    "\n"
   ]
  },
  {
   "cell_type": "markdown",
   "id": "09b5880e-9534-4566-a693-0a052881d005",
   "metadata": {},
   "source": [
    "### PorterStemmer"
   ]
  },
  {
   "cell_type": "code",
   "execution_count": 1,
   "id": "38a64bea-edad-4178-9b07-a12a66d9b3b8",
   "metadata": {
    "tags": []
   },
   "outputs": [
    {
     "name": "stdout",
     "output_type": "stream",
     "text": [
      "['studi', 'studi', 'studi', 'studi', 'wolv', 'cat', 'dog', 'run', 'runner', 'ran']\n"
     ]
    }
   ],
   "source": [
    "import nltk\n",
    "from nltk.stem import PorterStemmer\n",
    "\n",
    "# Instantiate the Porter stemmer\n",
    "porter = PorterStemmer()\n",
    "\n",
    "# Define a list of words to be stemmed\n",
    "words = ['studies', 'studying', 'studied', 'studies', 'wolves', 'cats', 'dogs', 'running', 'runner', 'ran']\n",
    "\n",
    "# Stem each word in the list\n",
    "stemmed_words = [porter.stem(word) for word in words]\n",
    "\n",
    "# Print the stemmed words\n",
    "print(stemmed_words)\n"
   ]
  },
  {
   "cell_type": "code",
   "execution_count": 4,
   "id": "609159e0-6849-4f9e-b7f8-98609a40cd5c",
   "metadata": {
    "tags": []
   },
   "outputs": [
    {
     "name": "stdout",
     "output_type": "stream",
     "text": [
      "studies -> studi\n",
      "studying -> studi\n",
      "studied -> studi\n",
      "studies -> studi\n",
      "wolves -> wolv\n",
      "cats -> cat\n",
      "dogs -> dog\n",
      "running -> run\n",
      "runner -> runner\n",
      "ran -> ran\n"
     ]
    }
   ],
   "source": [
    "import nltk\n",
    "from nltk.stem import PorterStemmer\n",
    "\n",
    "# Instantiate the Porter stemmer\n",
    "porter = PorterStemmer()\n",
    "\n",
    "# Define a list of words to be stemmed\n",
    "words = ['studies', 'studying', 'studied', 'studies', 'wolves', 'cats', 'dogs', 'running', 'runner', 'ran']\n",
    "\n",
    "# Stem each word in the list\n",
    "stemmed_words = [porter.stem(word) for word in words]\n",
    "\n",
    "# Print the original words and their stemmed versions\n",
    "for i in range(len(words)):\n",
    "    print(words[i], '->', stemmed_words[i])"
   ]
  },
  {
   "cell_type": "markdown",
   "id": "f40c85a8-8cd3-4489-95e4-16ed5481e113",
   "metadata": {},
   "source": [
    "### Snowball Stemming"
   ]
  },
  {
   "cell_type": "code",
   "execution_count": 2,
   "id": "303516f8-32a1-4a4c-9415-15b72fa78e4f",
   "metadata": {
    "tags": []
   },
   "outputs": [
    {
     "name": "stdout",
     "output_type": "stream",
     "text": [
      "running -> run\n",
      "runs -> run\n",
      "runner -> runner\n",
      "ran -> ran\n",
      "am -> am\n",
      "are -> are\n",
      "is -> is\n",
      "was -> was\n",
      "were -> were\n"
     ]
    }
   ],
   "source": [
    "import nltk\n",
    "from nltk.stem import SnowballStemmer\n",
    "\n",
    "# Instantiate the Snowball Stemmer\n",
    "stemmer = SnowballStemmer(language='english')\n",
    "\n",
    "# Define a list of words to stem\n",
    "words = ['running', 'runs', 'runner', 'ran', 'am', 'are', 'is', 'was', 'were']\n",
    "\n",
    "# Stem each word in the list using the Snowball Stemmer\n",
    "stemmed_words = [stemmer.stem(word) for word in words]\n",
    "\n",
    "# Print the original words and their stemmed versions\n",
    "for i in range(len(words)):\n",
    "    print(words[i], '->', stemmed_words[i])\n"
   ]
  },
  {
   "cell_type": "code",
   "execution_count": 3,
   "id": "270a9703-24e1-47ba-8537-1afa4f84e0d3",
   "metadata": {
    "tags": []
   },
   "outputs": [
    {
     "name": "stdout",
     "output_type": "stream",
     "text": [
      "['run', 'run', 'runner', 'ran', 'am', 'are', 'is', 'was', 'were']\n"
     ]
    }
   ],
   "source": [
    "import nltk\n",
    "from nltk.stem import SnowballStemmer\n",
    "\n",
    "# Instantiate the Snowball Stemmer\n",
    "stemmer = SnowballStemmer(language='english')\n",
    "\n",
    "# Define a list of words to stem\n",
    "words = ['running', 'runs', 'runner', 'ran', 'am', 'are', 'is', 'was', 'were']\n",
    "\n",
    "# Stem each word in the list using the Snowball Stemmer\n",
    "stemmed_words = [stemmer.stem(word) for word in words]\n",
    "\n",
    "# Print the original words and their stemmed versions\n",
    "print(stemmed_words)\n"
   ]
  }
 ],
 "metadata": {
  "kernelspec": {
   "display_name": "Python 3 (ipykernel)",
   "language": "python",
   "name": "python3"
  },
  "language_info": {
   "codemirror_mode": {
    "name": "ipython",
    "version": 3
   },
   "file_extension": ".py",
   "mimetype": "text/x-python",
   "name": "python",
   "nbconvert_exporter": "python",
   "pygments_lexer": "ipython3",
   "version": "3.11.1"
  }
 },
 "nbformat": 4,
 "nbformat_minor": 5
}
