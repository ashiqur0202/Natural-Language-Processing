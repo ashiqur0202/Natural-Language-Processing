{
 "cells": [
  {
   "cell_type": "markdown",
   "id": "0885c4e2-d6d7-4d79-ad51-d53eb609faf6",
   "metadata": {},
   "source": [
    "__Vocabulary and Phrase Matching__\n",
    "\n",
    "Vocabulary and phrase matching are two techniques used in natural language processing (NLP) to identify words and phrases that are relevant to a specific task, such as information retrieval or sentiment analysis.\n",
    "\n",
    "Vocabulary matching involves comparing a text document to a predefined list of words or terms that are relevant to the task at hand. This list of words is often referred to as a vocabulary or dictionary. The goal of vocabulary matching is to identify instances of the relevant words or terms in the text. This can be done using simple string matching techniques, such as checking if a word in the text is present in the vocabulary, or more complex methods, such as using regular expressions to match patterns of text.\n",
    "\n",
    "Phrase matching, on the other hand, involves identifying sequences of words that are relevant to the task. This can be done using a variety of techniques, including rule-based methods and statistical methods. In rule-based methods, patterns of text are defined using regular expressions or other syntax, and the system matches text that matches the defined patterns. In statistical methods, a model is trained on a corpus of text, and the model is used to identify relevant phrases in new text.\n",
    "\n",
    "Both vocabulary and phrase matching are important techniques in NLP, as they allow for the identification of relevant text in large volumes of data. They are used in a variety of applications, including information retrieval, sentiment analysis, and machine translation, among others."
   ]
  },
  {
   "cell_type": "markdown",
   "id": "acc12095-8c98-4e1b-bb62-bcb490b381e4",
   "metadata": {},
   "source": [
    "### Vocabulary Matcher"
   ]
  },
  {
   "cell_type": "code",
   "execution_count": null,
   "id": "2e2072bf-ca0d-49a1-af68-a41e9709c5e4",
   "metadata": {
    "tags": []
   },
   "outputs": [],
   "source": [
    "# Perform standard imports\n",
    "import spacy\n",
    "nlp = spacy.load('en_core_web_sm')"
   ]
  },
  {
   "cell_type": "code",
   "execution_count": null,
   "id": "9eea6971-e6a1-477f-9cb5-28bbfa93fe9d",
   "metadata": {
    "tags": []
   },
   "outputs": [],
   "source": [
    "from spacy.matcher import Matcher\n",
    "matcher = Matcher(nlp.vocab)"
   ]
  },
  {
   "cell_type": "code",
   "execution_count": null,
   "id": "8fbec959-ab7e-4902-8836-aba77e16fb53",
   "metadata": {
    "tags": []
   },
   "outputs": [],
   "source": [
    "# Creating patterns\n",
    "pattern1 = [{'LOWER': 'solarpower'}]\n",
    "pattern2 = [{'LOWER': 'solar'},{'LOWER':'power'}]\n",
    "pattern3 = [{'LOWER': 'solar'},{'IS_;UNCT':True}, {'LOWER':'power'}]\n",
    "pattern = [pattern1, pattern2, pattern3]\n",
    "matcher.add('SolarPower', None,  pattern)\n"
   ]
  },
  {
   "cell_type": "code",
   "execution_count": null,
   "id": "ff7df466-dc87-4fe6-8874-bd42e8a03f04",
   "metadata": {
    "tags": []
   },
   "outputs": [],
   "source": [
    "doc = nlp(u'The Solar Power industry containues to grow as demand \\ for solarpower increases. Solar-power cars are gaining popularrity.')"
   ]
  },
  {
   "cell_type": "code",
   "execution_count": null,
   "id": "2e17f9fb-4ebd-4542-8c70-96e6ce244bd0",
   "metadata": {
    "tags": []
   },
   "outputs": [],
   "source": [
    "found_matches = matcher(doc)\n",
    "print(found_matches)"
   ]
  },
  {
   "cell_type": "code",
   "execution_count": null,
   "id": "df25ebdf-29f2-40b6-a3dd-4c82954b264e",
   "metadata": {
    "tags": []
   },
   "outputs": [],
   "source": [
    "for match_id, start, end in found_matches:\n",
    "    string_id = nlp.vocab.strings[match_id]\n",
    "    span = doc[start:end]\n",
    "    print(match_id, string_id, start, end, span.text)"
   ]
  },
  {
   "cell_type": "code",
   "execution_count": null,
   "id": "c42eb163-e6f9-40a1-90a7-08abbc03a995",
   "metadata": {
    "tags": []
   },
   "outputs": [],
   "source": [
    "# Redefine the patterns\n",
    "pattern1 = [{'LOWER':'solarpower'}]\n",
    "pattern2 = [{'LOWER':'solar'}, {'IS_PUNCT': True, 'OP':'*'}, {'LOWER': 'power'}]\n",
    "\n",
    "# Remove the old patterns to avoid duplication\n",
    "matcher.remove('SolarPower')\n",
    "\n",
    "#Add the new set of patterns to the 'SolarPower' matcher\n",
    "matcher.add('SolarPower', None, pattern1, pattern2)"
   ]
  },
  {
   "cell_type": "code",
   "execution_count": null,
   "id": "e88c894d-eb89-46eb-9bd1-6510241eac42",
   "metadata": {
    "tags": []
   },
   "outputs": [],
   "source": [
    "found_matches = matcher(doc)\n",
    "print(found_matches)"
   ]
  },
  {
   "cell_type": "code",
   "execution_count": null,
   "id": "55f4c1ad-15b3-4e98-97b6-e9f52e1e5a5b",
   "metadata": {
    "tags": []
   },
   "outputs": [],
   "source": [
    "doc2 = nlp(u'Solar-powered energy runs solar-powered cars.')"
   ]
  },
  {
   "cell_type": "code",
   "execution_count": null,
   "id": "2b33c718-c342-4de6-b3c7-dc04646b69e7",
   "metadata": {
    "tags": []
   },
   "outputs": [],
   "source": [
    "found_matches = matcher(doc2)\n",
    "print(found_matches)"
   ]
  },
  {
   "cell_type": "markdown",
   "id": "a6c24774-1ae1-4355-82f7-215ee2162b65",
   "metadata": {},
   "source": [
    "### Phrase Matcher"
   ]
  },
  {
   "cell_type": "code",
   "execution_count": null,
   "id": "9dc1ae44-bf2f-4556-a61d-3357bb7abfc1",
   "metadata": {
    "tags": []
   },
   "outputs": [],
   "source": [
    "# Perform standard imports\n",
    "import spacy\n",
    "nlp = spacy.load('en_core_web_sm')"
   ]
  },
  {
   "cell_type": "code",
   "execution_count": null,
   "id": "2652c5df-866b-422b-95e0-c55ed2bb4d64",
   "metadata": {
    "tags": []
   },
   "outputs": [],
   "source": [
    "from spacy.matcher import PhraseMatcher\n",
    "matcher = PhraseMatcher(nlp.vocab, attr='LOWER')"
   ]
  },
  {
   "cell_type": "code",
   "execution_count": null,
   "id": "4c42a690-6ccd-401f-8ebd-7a72ace41071",
   "metadata": {
    "tags": []
   },
   "outputs": [],
   "source": [
    "TERMS = ['Galaxy Note', 'iPhone 11', 'iPhone XS', 'Google Pixel']\n",
    "patterns = [nlp(text) for text in terms]\n",
    "matcher.add('TerminologyList', None, *patterns)"
   ]
  },
  {
   "cell_type": "code",
   "execution_count": null,
   "id": "5ccc298b-a5ab-46d5-b2ea-ffde97cd6823",
   "metadata": {
    "tags": []
   },
   "outputs": [],
   "source": [
    "text_doc = nlp(\"text here you want to match\")\n",
    "matches = matcher(text_doc)\n",
    "print(matches)"
   ]
  }
 ],
 "metadata": {
  "kernelspec": {
   "display_name": "Python 3 (ipykernel)",
   "language": "python",
   "name": "python3"
  },
  "language_info": {
   "codemirror_mode": {
    "name": "ipython",
    "version": 3
   },
   "file_extension": ".py",
   "mimetype": "text/x-python",
   "name": "python",
   "nbconvert_exporter": "python",
   "pygments_lexer": "ipython3",
   "version": "3.11.1"
  }
 },
 "nbformat": 4,
 "nbformat_minor": 5
}
