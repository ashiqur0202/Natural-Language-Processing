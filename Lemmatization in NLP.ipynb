{
 "cells": [
  {
   "cell_type": "markdown",
   "id": "c194f5c9-515e-4e95-bbe2-5a86c5ee0156",
   "metadata": {},
   "source": [
    "__Lemmatization__\n",
    "\n",
    "Lemmatization is a text preprocessing technique in Natural Language Processing (NLP) that involves reducing a word to its base form, which is known as the lemma. The purpose of lemmatization is to normalize words so that different forms of the same word are treated as one, which helps improve the accuracy of NLP applications such as information retrieval, text classification, and sentiment analysis.\n",
    "\n",
    "For example, the lemma of the words \"running\", \"ran\", and \"run\" is \"run\". Therefore, if we apply lemmatization to a text that contains these words, they will all be reduced to \"run\", which can help improve the accuracy of NLP tasks that rely on identifying the underlying meaning of the text."
   ]
  },
  {
   "cell_type": "code",
   "execution_count": null,
   "id": "159051e6-18e5-4927-9347-d9b916474411",
   "metadata": {
    "tags": []
   },
   "outputs": [],
   "source": [
    "# Perform standard imports:\n",
    "import spacy\n",
    "nlp = spacy.load('en_core_web_sm')"
   ]
  },
  {
   "cell_type": "code",
   "execution_count": null,
   "id": "98898f52-c8bf-4edc-83e3-8d17bb6cddfe",
   "metadata": {
    "tags": []
   },
   "outputs": [],
   "source": [
    "var1=nlp(u\"John Adam is one the researcher who invent the direction of way towards\")\n",
    "\n",
    "for token in var1:\n",
    "    print(token.text, '\\t', token.pos_, '\\t',  token.lemma, '\\t', token.lemma_)"
   ]
  },
  {
   "cell_type": "code",
   "execution_count": null,
   "id": "28c5e614-b200-400c-aa8c-a9187c717ddf",
   "metadata": {
    "tags": []
   },
   "outputs": [],
   "source": [
    "def show_lemmas(text):\n",
    "    for token in text:\n",
    "        print(f'{token.text:{12}} {token.pos_:{6}}{token.lemma:<{22}} {token.lemma_}')\n"
   ]
  },
  {
   "cell_type": "code",
   "execution_count": null,
   "id": "0c7e09df-7cc9-48cd-8275-18a7bf6aa6c5",
   "metadata": {
    "tags": []
   },
   "outputs": [],
   "source": [
    "var2=nlp(u\"John Adam is one the researcher who invent the direction of way towards\")\n",
    "show_lemmas(var2)"
   ]
  },
  {
   "cell_type": "code",
   "execution_count": null,
   "id": "7a5a07cd-9529-4731-9649-044aea45e9ca",
   "metadata": {
    "tags": []
   },
   "outputs": [],
   "source": [
    "var3 = nlp(u\"I am meeting him tomorrow at the meeting.\")\n",
    "show_lemmas(var3)"
   ]
  },
  {
   "cell_type": "code",
   "execution_count": null,
   "id": "86e70579-226c-4087-b8d9-ada097173264",
   "metadata": {
    "tags": []
   },
   "outputs": [],
   "source": [
    "var4 = nlp(u\"That's of the greate person in the world\")\n",
    "show_lemmas(var4)"
   ]
  }
 ],
 "metadata": {
  "kernelspec": {
   "display_name": "Python 3 (ipykernel)",
   "language": "python",
   "name": "python3"
  },
  "language_info": {
   "codemirror_mode": {
    "name": "ipython",
    "version": 3
   },
   "file_extension": ".py",
   "mimetype": "text/x-python",
   "name": "python",
   "nbconvert_exporter": "python",
   "pygments_lexer": "ipython3",
   "version": "3.11.1"
  }
 },
 "nbformat": 4,
 "nbformat_minor": 5
}
