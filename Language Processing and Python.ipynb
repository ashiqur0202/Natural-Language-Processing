{
 "cells": [
  {
   "cell_type": "code",
   "execution_count": 43,
   "id": "b15e31f5-09e7-4476-8b92-b05c2fdf72bf",
   "metadata": {
    "tags": []
   },
   "outputs": [],
   "source": [
    "from nltk.book import *"
   ]
  },
  {
   "cell_type": "code",
   "execution_count": 3,
   "id": "5a7dea29-1d4f-45c4-8e99-96b3e5607c8a",
   "metadata": {
    "tags": []
   },
   "outputs": [
    {
     "data": {
      "text/plain": [
       "<Text: Moby Dick by Herman Melville 1851>"
      ]
     },
     "execution_count": 3,
     "metadata": {},
     "output_type": "execute_result"
    }
   ],
   "source": [
    "text1"
   ]
  },
  {
   "cell_type": "code",
   "execution_count": 4,
   "id": "bf32de10-ceb2-470e-bc28-daa2f5db960e",
   "metadata": {
    "tags": []
   },
   "outputs": [
    {
     "data": {
      "text/plain": [
       "<Text: Sense and Sensibility by Jane Austen 1811>"
      ]
     },
     "execution_count": 4,
     "metadata": {},
     "output_type": "execute_result"
    }
   ],
   "source": [
    "text2"
   ]
  },
  {
   "cell_type": "code",
   "execution_count": 5,
   "id": "6a6bc53d-e329-4007-b2cd-75f1a4d4a5bc",
   "metadata": {
    "tags": []
   },
   "outputs": [
    {
     "name": "stdout",
     "output_type": "stream",
     "text": [
      "Displaying 11 of 11 matches:\n",
      "ong the former , one was of a most monstrous size . ... This came towards us , \n",
      "ON OF THE PSALMS . \" Touching that monstrous bulk of the whale or ork we have r\n",
      "ll over with a heathenish array of monstrous clubs and spears . Some were thick\n",
      "d as you gazed , and wondered what monstrous cannibal and savage could ever hav\n",
      "that has survived the flood ; most monstrous and most mountainous ! That Himmal\n",
      "they might scout at Moby Dick as a monstrous fable , or still worse and more de\n",
      "th of Radney .'\" CHAPTER 55 Of the Monstrous Pictures of Whales . I shall ere l\n",
      "ing Scenes . In connexion with the monstrous pictures of whales , I am strongly\n",
      "ere to enter upon those still more monstrous stories of them which are to be fo\n",
      "ght have been rummaged out of this monstrous cabinet there is no telling . But \n",
      "of Whale - Bones ; for Whales of a monstrous size are oftentimes cast up dead u\n"
     ]
    }
   ],
   "source": [
    "text1.concordance(\"monstrous\")"
   ]
  },
  {
   "cell_type": "code",
   "execution_count": 8,
   "id": "f982badc-bd06-41e4-84bc-02d7fb65f1b2",
   "metadata": {
    "tags": []
   },
   "outputs": [
    {
     "name": "stdout",
     "output_type": "stream",
     "text": [
      "Displaying 25 of 79 matches:\n",
      ", however , and , as a mark of his affection for the three girls , he left them\n",
      "t . It was very well known that no affection was ever supposed to exist between\n",
      "deration of politeness or maternal affection on the side of the former , the tw\n",
      "d the suspicion -- the hope of his affection for me may warrant , without impru\n",
      "hich forbade the indulgence of his affection . She knew that his mother neither\n",
      "rd she gave one with still greater affection . Though her late conversation wit\n",
      " can never hope to feel or inspire affection again , and if her home be uncomfo\n",
      "m of the sense , elegance , mutual affection , and domestic comfort of the fami\n",
      ", and which recommended him to her affection beyond every thing else . His soci\n",
      "ween the parties might forward the affection of Mr . Willoughby , an equally st\n",
      " the most pointed assurance of her affection . Elinor could not be surprised at\n",
      "he natural consequence of a strong affection in a young and ardent mind . This \n",
      " opinion . But by an appeal to her affection for her mother , by representing t\n",
      " every alteration of a place which affection had established as perfect with hi\n",
      "e will always have one claim of my affection , which no other can possibly shar\n",
      "f the evening declared at once his affection and happiness . \" Shall we see you\n",
      "ause he took leave of us with less affection than his usual behaviour has shewn\n",
      "ness .\" \" I want no proof of their affection ,\" said Elinor ; \" but of their en\n",
      "onths , without telling her of his affection ;-- that they should part without \n",
      "ould be the natural result of your affection for her . She used to be all unres\n",
      "distinguished Elinor by no mark of affection . Marianne saw and listened with i\n",
      "th no inclination for expense , no affection for strangers , no profession , an\n",
      "till distinguished her by the same affection which once she had felt no doubt o\n",
      "al of her confidence in Edward ' s affection , to the remembrance of every mark\n",
      " was made ? Had he never owned his affection to yourself ?\" \" Oh , no ; but if \n"
     ]
    }
   ],
   "source": [
    "text2.concordance('affection')"
   ]
  },
  {
   "cell_type": "code",
   "execution_count": 7,
   "id": "6f3c297b-5a86-4fbb-a85b-b2f37872811c",
   "metadata": {
    "tags": []
   },
   "outputs": [
    {
     "name": "stdout",
     "output_type": "stream",
     "text": [
      "Displaying 25 of 38 matches:\n",
      "ay when they were created . And Adam lived an hundred and thirty years , and be\n",
      "ughters : And all the days that Adam lived were nine hundred and thirty yea and\n",
      "nd thirty yea and he died . And Seth lived an hundred and five years , and bega\n",
      "ve years , and begat Enos : And Seth lived after he begat Enos eight hundred an\n",
      "welve years : and he died . And Enos lived ninety years , and begat Cainan : An\n",
      " years , and begat Cainan : And Enos lived after he begat Cainan eight hundred \n",
      "ive years : and he died . And Cainan lived seventy years and begat Mahalaleel :\n",
      "rs and begat Mahalaleel : And Cainan lived after he begat Mahalaleel eight hund\n",
      "years : and he died . And Mahalaleel lived sixty and five years , and begat Jar\n",
      "s , and begat Jared : And Mahalaleel lived after he begat Jared eight hundred a\n",
      "and five yea and he died . And Jared lived an hundred sixty and two years , and\n",
      "o years , and he begat Eno And Jared lived after he begat Enoch eight hundred y\n",
      " and two yea and he died . And Enoch lived sixty and five years , and begat Met\n",
      " ; for God took him . And Methuselah lived an hundred eighty and seven years , \n",
      " , and begat Lamech . And Methuselah lived after he begat Lamech seven hundred \n",
      "nd nine yea and he died . And Lamech lived an hundred eighty and two years , an\n",
      "ch the LORD hath cursed . And Lamech lived after he begat Noah five hundred nin\n",
      "naan shall be his servant . And Noah lived after the flood three hundred and fi\n",
      "xad two years after the flo And Shem lived after he begat Arphaxad five hundred\n",
      "at sons and daughters . And Arphaxad lived five and thirty years , and begat Sa\n",
      "ars , and begat Salah : And Arphaxad lived after he begat Salah four hundred an\n",
      "begat sons and daughters . And Salah lived thirty years , and begat Eber : And \n",
      "y years , and begat Eber : And Salah lived after he begat Eber four hundred and\n",
      " begat sons and daughters . And Eber lived four and thirty years , and begat Pe\n",
      "y years , and begat Peleg : And Eber lived after he begat Peleg four hundred an\n"
     ]
    }
   ],
   "source": [
    "text3.concordance(\"lived\")"
   ]
  },
  {
   "cell_type": "code",
   "execution_count": 9,
   "id": "693d7661-d541-422c-88ed-73861697b958",
   "metadata": {
    "tags": []
   },
   "outputs": [
    {
     "name": "stdout",
     "output_type": "stream",
     "text": [
      "true contemptible christian abundant few part mean careful puzzled\n",
      "mystifying passing curious loving wise doleful gamesome singular\n",
      "delightfully perilous fearless\n"
     ]
    }
   ],
   "source": [
    "text1.similar(\"monstrous\")"
   ]
  },
  {
   "cell_type": "code",
   "execution_count": 10,
   "id": "40a9ab7e-d8c1-4e23-ab28-2fb3352c1ad0",
   "metadata": {
    "tags": []
   },
   "outputs": [
    {
     "name": "stdout",
     "output_type": "stream",
     "text": [
      "('The following word(s) were not found:', 'm o n s t r o u s')\n"
     ]
    }
   ],
   "source": [
    "text2.common_contexts(\"monstrous\", \"very\")"
   ]
  },
  {
   "cell_type": "code",
   "execution_count": 12,
   "id": "d443dc91-462d-4501-a532-e31f75925210",
   "metadata": {
    "tags": []
   },
   "outputs": [
    {
     "data": {
      "image/png": "[encoded data removed]",
      "text/plain": [
       "<Figure size 640x480 with 1 Axes>"
      ]
     },
     "metadata": {},
     "output_type": "display_data"
    }
   ],
   "source": [
    "text4.dispersion_plot([\"citizens\", \"democracy\", \"freedom\", \"duties\", \"America\"])"
   ]
  },
  {
   "cell_type": "code",
   "execution_count": 13,
   "id": "7f407130-e760-4a84-81de-65ea71405b4c",
   "metadata": {
    "tags": []
   },
   "outputs": [
    {
     "name": "stderr",
     "output_type": "stream",
     "text": [
      "Building ngram index...\n"
     ]
    },
    {
     "name": "stdout",
     "output_type": "stream",
     "text": [
      "laid by her , and said unto Cain , Where art thou , and said , Go to ,\n",
      "I will not do it for ten ' s sons ; we dreamed each man according to\n",
      "their generatio the firstborn said unto Laban , Because I said , Nay ,\n",
      "but Sarah shall her name be . , duke Elah , duke Shobal , and Akan .\n",
      "and looked upon my affliction . Bashemath Ishmael ' s blood , but Isra\n",
      "for as a prince hast thou found of all the cattle in the valley , and\n",
      "the wo The\n"
     ]
    },
    {
     "data": {
      "text/plain": [
       "\"laid by her , and said unto Cain , Where art thou , and said , Go to ,\\nI will not do it for ten ' s sons ; we dreamed each man according to\\ntheir generatio the firstborn said unto Laban , Because I said , Nay ,\\nbut Sarah shall her name be . , duke Elah , duke Shobal , and Akan .\\nand looked upon my affliction . Bashemath Ishmael ' s blood , but Isra\\nfor as a prince hast thou found of all the cattle in the valley , and\\nthe wo The\""
      ]
     },
     "execution_count": 13,
     "metadata": {},
     "output_type": "execute_result"
    }
   ],
   "source": [
    "text3.generate()"
   ]
  },
  {
   "cell_type": "markdown",
   "id": "46e13504-1b4d-4773-b0a2-e17d41081485",
   "metadata": {},
   "source": [
    "### Counting Vocabulary"
   ]
  },
  {
   "cell_type": "code",
   "execution_count": 14,
   "id": "3e5b462c-5335-435d-b071-c8e678591e55",
   "metadata": {
    "tags": []
   },
   "outputs": [
    {
     "data": {
      "text/plain": [
       "44764"
      ]
     },
     "execution_count": 14,
     "metadata": {},
     "output_type": "execute_result"
    }
   ],
   "source": [
    "len(text3)"
   ]
  },
  {
   "cell_type": "code",
   "execution_count": 15,
   "id": "aa7fbfe3-227a-4ffe-9145-680fc5fe1725",
   "metadata": {
    "tags": []
   },
   "outputs": [
    {
     "data": {
      "text/plain": [
       "260819"
      ]
     },
     "execution_count": 15,
     "metadata": {},
     "output_type": "execute_result"
    }
   ],
   "source": [
    "len(text1)"
   ]
  },
  {
   "cell_type": "code",
   "execution_count": 16,
   "id": "34d4182f-1a96-4e65-af56-a1c7c219f511",
   "metadata": {
    "tags": []
   },
   "outputs": [
    {
     "data": {
      "text/plain": [
       "['!',\n",
       " \"'\",\n",
       " '(',\n",
       " ')',\n",
       " ',',\n",
       " ',)',\n",
       " '.',\n",
       " '.)',\n",
       " ':',\n",
       " ';',\n",
       " ';)',\n",
       " '?',\n",
       " '?)',\n",
       " 'A',\n",
       " 'Abel',\n",
       " 'Abelmizraim',\n",
       " 'Abidah',\n",
       " 'Abide',\n",
       " 'Abimael',\n",
       " 'Abimelech',\n",
       " 'Abr',\n",
       " 'Abrah',\n",
       " 'Abraham',\n",
       " 'Abram',\n",
       " 'Accad',\n",
       " 'Achbor',\n",
       " 'Adah',\n",
       " 'Adam',\n",
       " 'Adbeel',\n",
       " 'Admah',\n",
       " 'Adullamite',\n",
       " 'After',\n",
       " 'Aholibamah',\n",
       " 'Ahuzzath',\n",
       " 'Ajah',\n",
       " 'Akan',\n",
       " 'All',\n",
       " 'Allonbachuth',\n",
       " 'Almighty',\n",
       " 'Almodad',\n",
       " 'Also',\n",
       " 'Alvah',\n",
       " 'Alvan',\n",
       " 'Am',\n",
       " 'Amal',\n",
       " 'Amalek',\n",
       " 'Amalekites',\n",
       " 'Ammon',\n",
       " 'Amorite',\n",
       " 'Amorites',\n",
       " 'Amraphel',\n",
       " 'An',\n",
       " 'Anah',\n",
       " 'Anamim',\n",
       " 'And',\n",
       " 'Aner',\n",
       " 'Angel',\n",
       " 'Appoint',\n",
       " 'Aram',\n",
       " 'Aran',\n",
       " 'Ararat',\n",
       " 'Arbah',\n",
       " 'Ard',\n",
       " 'Are',\n",
       " 'Areli',\n",
       " 'Arioch',\n",
       " 'Arise',\n",
       " 'Arkite',\n",
       " 'Arodi',\n",
       " 'Arphaxad',\n",
       " 'Art',\n",
       " 'Arvadite',\n",
       " 'As',\n",
       " 'Asenath',\n",
       " 'Ashbel',\n",
       " 'Asher',\n",
       " 'Ashkenaz',\n",
       " 'Ashteroth',\n",
       " 'Ask',\n",
       " 'Asshur',\n",
       " 'Asshurim',\n",
       " 'Assyr',\n",
       " 'Assyria',\n",
       " 'At',\n",
       " 'Atad',\n",
       " 'Avith',\n",
       " 'Baalhanan',\n",
       " 'Babel',\n",
       " 'Bashemath',\n",
       " 'Be',\n",
       " 'Because',\n",
       " 'Becher',\n",
       " 'Bedad',\n",
       " 'Beeri',\n",
       " 'Beerlahairoi',\n",
       " 'Beersheba',\n",
       " 'Behold',\n",
       " 'Bela',\n",
       " 'Belah',\n",
       " 'Benam',\n",
       " 'Benjamin',\n",
       " 'Beno',\n",
       " 'Beor',\n",
       " 'Bera',\n",
       " 'Bered',\n",
       " 'Beriah',\n",
       " 'Bethel',\n",
       " 'Bethlehem',\n",
       " 'Bethuel',\n",
       " 'Beware',\n",
       " 'Bilhah',\n",
       " 'Bilhan',\n",
       " 'Binding',\n",
       " 'Birsha',\n",
       " 'Bless',\n",
       " 'Blessed',\n",
       " 'Both',\n",
       " 'Bow',\n",
       " 'Bozrah',\n",
       " 'Bring',\n",
       " 'But',\n",
       " 'Buz',\n",
       " 'By',\n",
       " 'Cain',\n",
       " 'Cainan',\n",
       " 'Calah',\n",
       " 'Calneh',\n",
       " 'Can',\n",
       " 'Cana',\n",
       " 'Canaan',\n",
       " 'Canaanite',\n",
       " 'Canaanites',\n",
       " 'Canaanitish',\n",
       " 'Caphtorim',\n",
       " 'Carmi',\n",
       " 'Casluhim',\n",
       " 'Cast',\n",
       " 'Cause',\n",
       " 'Chaldees',\n",
       " 'Chedorlaomer',\n",
       " 'Cheran',\n",
       " 'Cherubims',\n",
       " 'Chesed',\n",
       " 'Chezib',\n",
       " 'Come',\n",
       " 'Cursed',\n",
       " 'Cush',\n",
       " 'Damascus',\n",
       " 'Dan',\n",
       " 'Day',\n",
       " 'Deborah',\n",
       " 'Dedan',\n",
       " 'Deliver',\n",
       " 'Diklah',\n",
       " 'Din',\n",
       " 'Dinah',\n",
       " 'Dinhabah',\n",
       " 'Discern',\n",
       " 'Dishan',\n",
       " 'Dishon',\n",
       " 'Do',\n",
       " 'Dodanim',\n",
       " 'Dothan',\n",
       " 'Drink',\n",
       " 'Duke',\n",
       " 'Dumah',\n",
       " 'Earth',\n",
       " 'Ebal',\n",
       " 'Eber',\n",
       " 'Edar',\n",
       " 'Eden',\n",
       " 'Edom',\n",
       " 'Edomites',\n",
       " 'Egy',\n",
       " 'Egypt',\n",
       " 'Egyptia',\n",
       " 'Egyptian',\n",
       " 'Egyptians',\n",
       " 'Ehi',\n",
       " 'Elah',\n",
       " 'Elam',\n",
       " 'Elbethel',\n",
       " 'Eldaah',\n",
       " 'EleloheIsrael',\n",
       " 'Eliezer',\n",
       " 'Eliphaz',\n",
       " 'Elishah',\n",
       " 'Ellasar',\n",
       " 'Elon',\n",
       " 'Elparan',\n",
       " 'Emins',\n",
       " 'En',\n",
       " 'Enmishpat',\n",
       " 'Eno',\n",
       " 'Enoch',\n",
       " 'Enos',\n",
       " 'Ephah',\n",
       " 'Epher',\n",
       " 'Ephra',\n",
       " 'Ephraim',\n",
       " 'Ephrath',\n",
       " 'Ephron',\n",
       " 'Er',\n",
       " 'Erech',\n",
       " 'Eri',\n",
       " 'Es',\n",
       " 'Esau',\n",
       " 'Escape',\n",
       " 'Esek',\n",
       " 'Eshban',\n",
       " 'Eshcol',\n",
       " 'Ethiopia',\n",
       " 'Euphrat',\n",
       " 'Euphrates',\n",
       " 'Eve',\n",
       " 'Even',\n",
       " 'Every',\n",
       " 'Except',\n",
       " 'Ezbon',\n",
       " 'Ezer',\n",
       " 'Fear',\n",
       " 'Feed',\n",
       " 'Fifteen',\n",
       " 'Fill',\n",
       " 'For',\n",
       " 'Forasmuch',\n",
       " 'Forgive',\n",
       " 'From',\n",
       " 'Fulfil',\n",
       " 'G',\n",
       " 'Gad',\n",
       " 'Gaham',\n",
       " 'Galeed',\n",
       " 'Gatam',\n",
       " 'Gather',\n",
       " 'Gaza',\n",
       " 'Gentiles',\n",
       " 'Gera',\n",
       " 'Gerar',\n",
       " 'Gershon',\n",
       " 'Get',\n",
       " 'Gether',\n",
       " 'Gihon',\n",
       " 'Gilead',\n",
       " 'Girgashites',\n",
       " 'Girgasite',\n",
       " 'Give',\n",
       " 'Go',\n",
       " 'God',\n",
       " 'Gomer',\n",
       " 'Gomorrah',\n",
       " 'Goshen',\n",
       " 'Guni',\n",
       " 'Hadad',\n",
       " 'Hadar',\n",
       " 'Hadoram',\n",
       " 'Hagar',\n",
       " 'Haggi',\n",
       " 'Hai',\n",
       " 'Ham',\n",
       " 'Hamathite',\n",
       " 'Hamor',\n",
       " 'Hamul',\n",
       " 'Hanoch',\n",
       " 'Happy',\n",
       " 'Haran',\n",
       " 'Hast',\n",
       " 'Haste',\n",
       " 'Have',\n",
       " 'Havilah',\n",
       " 'Hazarmaveth',\n",
       " 'Hazezontamar',\n",
       " 'Hazo',\n",
       " 'He',\n",
       " 'Hear',\n",
       " 'Heaven',\n",
       " 'Heber',\n",
       " 'Hebrew',\n",
       " 'Hebrews',\n",
       " 'Hebron',\n",
       " 'Hemam',\n",
       " 'Hemdan',\n",
       " 'Here',\n",
       " 'Hereby',\n",
       " 'Heth',\n",
       " 'Hezron',\n",
       " 'Hiddekel',\n",
       " 'Hinder',\n",
       " 'Hirah',\n",
       " 'His',\n",
       " 'Hitti',\n",
       " 'Hittite',\n",
       " 'Hittites',\n",
       " 'Hivite',\n",
       " 'Hobah',\n",
       " 'Hori',\n",
       " 'Horite',\n",
       " 'Horites',\n",
       " 'How',\n",
       " 'Hul',\n",
       " 'Huppim',\n",
       " 'Husham',\n",
       " 'Hushim',\n",
       " 'Huz',\n",
       " 'I',\n",
       " 'If',\n",
       " 'In',\n",
       " 'Irad',\n",
       " 'Iram',\n",
       " 'Is',\n",
       " 'Isa',\n",
       " 'Isaac',\n",
       " 'Iscah',\n",
       " 'Ishbak',\n",
       " 'Ishmael',\n",
       " 'Ishmeelites',\n",
       " 'Ishuah',\n",
       " 'Isra',\n",
       " 'Israel',\n",
       " 'Issachar',\n",
       " 'Isui',\n",
       " 'It',\n",
       " 'Ithran',\n",
       " 'Jaalam',\n",
       " 'Jabal',\n",
       " 'Jabbok',\n",
       " 'Jac',\n",
       " 'Jachin',\n",
       " 'Jacob',\n",
       " 'Jahleel',\n",
       " 'Jahzeel',\n",
       " 'Jamin',\n",
       " 'Japhe',\n",
       " 'Japheth',\n",
       " 'Jared',\n",
       " 'Javan',\n",
       " 'Jebusite',\n",
       " 'Jebusites',\n",
       " 'Jegarsahadutha',\n",
       " 'Jehovahjireh',\n",
       " 'Jemuel',\n",
       " 'Jerah',\n",
       " 'Jetheth',\n",
       " 'Jetur',\n",
       " 'Jeush',\n",
       " 'Jezer',\n",
       " 'Jidlaph',\n",
       " 'Jimnah',\n",
       " 'Job',\n",
       " 'Jobab',\n",
       " 'Jokshan',\n",
       " 'Joktan',\n",
       " 'Jordan',\n",
       " 'Joseph',\n",
       " 'Jubal',\n",
       " 'Judah',\n",
       " 'Judge',\n",
       " 'Judith',\n",
       " 'Kadesh',\n",
       " 'Kadmonites',\n",
       " 'Karnaim',\n",
       " 'Kedar',\n",
       " 'Kedemah',\n",
       " 'Kemuel',\n",
       " 'Kenaz',\n",
       " 'Kenites',\n",
       " 'Kenizzites',\n",
       " 'Keturah',\n",
       " 'Kiriathaim',\n",
       " 'Kirjatharba',\n",
       " 'Kittim',\n",
       " 'Know',\n",
       " 'Kohath',\n",
       " 'Kor',\n",
       " 'Korah',\n",
       " 'LO',\n",
       " 'LORD',\n",
       " 'Laban',\n",
       " 'Lahairoi',\n",
       " 'Lamech',\n",
       " 'Lasha',\n",
       " 'Lay',\n",
       " 'Leah',\n",
       " 'Lehabim',\n",
       " 'Lest',\n",
       " 'Let',\n",
       " 'Letushim',\n",
       " 'Leummim',\n",
       " 'Levi',\n",
       " 'Lie',\n",
       " 'Lift',\n",
       " 'Lo',\n",
       " 'Look',\n",
       " 'Lot',\n",
       " 'Lotan',\n",
       " 'Lud',\n",
       " 'Ludim',\n",
       " 'Luz',\n",
       " 'Maachah',\n",
       " 'Machir',\n",
       " 'Machpelah',\n",
       " 'Madai',\n",
       " 'Magdiel',\n",
       " 'Magog',\n",
       " 'Mahalaleel',\n",
       " 'Mahalath',\n",
       " 'Mahanaim',\n",
       " 'Make',\n",
       " 'Malchiel',\n",
       " 'Male',\n",
       " 'Mam',\n",
       " 'Mamre',\n",
       " 'Man',\n",
       " 'Manahath',\n",
       " 'Manass',\n",
       " 'Manasseh',\n",
       " 'Mash',\n",
       " 'Masrekah',\n",
       " 'Massa',\n",
       " 'Matred',\n",
       " 'Me',\n",
       " 'Medan',\n",
       " 'Mehetabel',\n",
       " 'Mehujael',\n",
       " 'Melchizedek',\n",
       " 'Merari',\n",
       " 'Mesha',\n",
       " 'Meshech',\n",
       " 'Mesopotamia',\n",
       " 'Methusa',\n",
       " 'Methusael',\n",
       " 'Methuselah',\n",
       " 'Mezahab',\n",
       " 'Mibsam',\n",
       " 'Mibzar',\n",
       " 'Midian',\n",
       " 'Midianites',\n",
       " 'Milcah',\n",
       " 'Mishma',\n",
       " 'Mizpah',\n",
       " 'Mizraim',\n",
       " 'Mizz',\n",
       " 'Moab',\n",
       " 'Moabites',\n",
       " 'Moreh',\n",
       " 'Moreover',\n",
       " 'Moriah',\n",
       " 'Muppim',\n",
       " 'My',\n",
       " 'Naamah',\n",
       " 'Naaman',\n",
       " 'Nahath',\n",
       " 'Nahor',\n",
       " 'Naphish',\n",
       " 'Naphtali',\n",
       " 'Naphtuhim',\n",
       " 'Nay',\n",
       " 'Nebajoth',\n",
       " 'Neither',\n",
       " 'Night',\n",
       " 'Nimrod',\n",
       " 'Nineveh',\n",
       " 'Noah',\n",
       " 'Nod',\n",
       " 'Not',\n",
       " 'Now',\n",
       " 'O',\n",
       " 'Obal',\n",
       " 'Of',\n",
       " 'Oh',\n",
       " 'Ohad',\n",
       " 'Omar',\n",
       " 'On',\n",
       " 'Onam',\n",
       " 'Onan',\n",
       " 'Only',\n",
       " 'Ophir',\n",
       " 'Our',\n",
       " 'Out',\n",
       " 'Padan',\n",
       " 'Padanaram',\n",
       " 'Paran',\n",
       " 'Pass',\n",
       " 'Pathrusim',\n",
       " 'Pau',\n",
       " 'Peace',\n",
       " 'Peleg',\n",
       " 'Peniel',\n",
       " 'Penuel',\n",
       " 'Peradventure',\n",
       " 'Perizzit',\n",
       " 'Perizzite',\n",
       " 'Perizzites',\n",
       " 'Phallu',\n",
       " 'Phara',\n",
       " 'Pharaoh',\n",
       " 'Pharez',\n",
       " 'Phichol',\n",
       " 'Philistim',\n",
       " 'Philistines',\n",
       " 'Phut',\n",
       " 'Phuvah',\n",
       " 'Pildash',\n",
       " 'Pinon',\n",
       " 'Pison',\n",
       " 'Potiphar',\n",
       " 'Potipherah',\n",
       " 'Put',\n",
       " 'Raamah',\n",
       " 'Rachel',\n",
       " 'Rameses',\n",
       " 'Rebek',\n",
       " 'Rebekah',\n",
       " 'Rehoboth',\n",
       " 'Remain',\n",
       " 'Rephaims',\n",
       " 'Resen',\n",
       " 'Return',\n",
       " 'Reu',\n",
       " 'Reub',\n",
       " 'Reuben',\n",
       " 'Reuel',\n",
       " 'Reumah',\n",
       " 'Riphath',\n",
       " 'Rosh',\n",
       " 'Sabtah',\n",
       " 'Sabtech',\n",
       " 'Said',\n",
       " 'Salah',\n",
       " 'Salem',\n",
       " 'Samlah',\n",
       " 'Sarah',\n",
       " 'Sarai',\n",
       " 'Saul',\n",
       " 'Save',\n",
       " 'Say',\n",
       " 'Se',\n",
       " 'Seba',\n",
       " 'See',\n",
       " 'Seeing',\n",
       " 'Seir',\n",
       " 'Sell',\n",
       " 'Send',\n",
       " 'Sephar',\n",
       " 'Serah',\n",
       " 'Sered',\n",
       " 'Serug',\n",
       " 'Set',\n",
       " 'Seth',\n",
       " 'Shalem',\n",
       " 'Shall',\n",
       " 'Shalt',\n",
       " 'Shammah',\n",
       " 'Shaul',\n",
       " 'Shaveh',\n",
       " 'She',\n",
       " 'Sheba',\n",
       " 'Shebah',\n",
       " 'Shechem',\n",
       " 'Shed',\n",
       " 'Shel',\n",
       " 'Shelah',\n",
       " 'Sheleph',\n",
       " 'Shem',\n",
       " 'Shemeber',\n",
       " 'Shepho',\n",
       " 'Shillem',\n",
       " 'Shiloh',\n",
       " 'Shimron',\n",
       " 'Shinab',\n",
       " 'Shinar',\n",
       " 'Shobal',\n",
       " 'Should',\n",
       " 'Shuah',\n",
       " 'Shuni',\n",
       " 'Shur',\n",
       " 'Sichem',\n",
       " 'Siddim',\n",
       " 'Sidon',\n",
       " 'Simeon',\n",
       " 'Sinite',\n",
       " 'Sitnah',\n",
       " 'Slay',\n",
       " 'So',\n",
       " 'Sod',\n",
       " 'Sodom',\n",
       " 'Sojourn',\n",
       " 'Some',\n",
       " 'Spake',\n",
       " 'Speak',\n",
       " 'Spirit',\n",
       " 'Stand',\n",
       " 'Succoth',\n",
       " 'Surely',\n",
       " 'Swear',\n",
       " 'Syrian',\n",
       " 'Take',\n",
       " 'Tamar',\n",
       " 'Tarshish',\n",
       " 'Tebah',\n",
       " 'Tell',\n",
       " 'Tema',\n",
       " 'Teman',\n",
       " 'Temani',\n",
       " 'Terah',\n",
       " 'Thahash',\n",
       " 'That',\n",
       " 'The',\n",
       " 'Then',\n",
       " 'There',\n",
       " 'Therefore',\n",
       " 'These',\n",
       " 'They',\n",
       " 'Thirty',\n",
       " 'This',\n",
       " 'Thorns',\n",
       " 'Thou',\n",
       " 'Thus',\n",
       " 'Thy',\n",
       " 'Tidal',\n",
       " 'Timna',\n",
       " 'Timnah',\n",
       " 'Timnath',\n",
       " 'Tiras',\n",
       " 'To',\n",
       " 'Togarmah',\n",
       " 'Tola',\n",
       " 'Tubal',\n",
       " 'Tubalcain',\n",
       " 'Twelve',\n",
       " 'Two',\n",
       " 'Unstable',\n",
       " 'Until',\n",
       " 'Unto',\n",
       " 'Up',\n",
       " 'Upon',\n",
       " 'Ur',\n",
       " 'Uz',\n",
       " 'Uzal',\n",
       " 'We',\n",
       " 'What',\n",
       " 'When',\n",
       " 'Whence',\n",
       " 'Where',\n",
       " 'Whereas',\n",
       " 'Wherefore',\n",
       " 'Which',\n",
       " 'While',\n",
       " 'Who',\n",
       " 'Whose',\n",
       " 'Whoso',\n",
       " 'Why',\n",
       " 'Wilt',\n",
       " 'With',\n",
       " 'Woman',\n",
       " 'Ye',\n",
       " 'Yea',\n",
       " 'Yet',\n",
       " 'Zaavan',\n",
       " 'Zaphnathpaaneah',\n",
       " 'Zar',\n",
       " 'Zarah',\n",
       " 'Zeboiim',\n",
       " 'Zeboim',\n",
       " 'Zebul',\n",
       " 'Zebulun',\n",
       " 'Zemarite',\n",
       " 'Zepho',\n",
       " 'Zerah',\n",
       " 'Zibeon',\n",
       " 'Zidon',\n",
       " 'Zillah',\n",
       " 'Zilpah',\n",
       " 'Zimran',\n",
       " 'Ziphion',\n",
       " 'Zo',\n",
       " 'Zoar',\n",
       " 'Zohar',\n",
       " 'Zuzims',\n",
       " 'a',\n",
       " 'abated',\n",
       " 'abide',\n",
       " 'able',\n",
       " 'abode',\n",
       " 'abomination',\n",
       " 'about',\n",
       " 'above',\n",
       " 'abroad',\n",
       " 'absent',\n",
       " 'abundantly',\n",
       " 'accept',\n",
       " 'accepted',\n",
       " 'according',\n",
       " 'acknowledged',\n",
       " 'activity',\n",
       " 'add',\n",
       " 'adder',\n",
       " 'afar',\n",
       " 'afflict',\n",
       " 'affliction',\n",
       " 'afraid',\n",
       " 'after',\n",
       " 'afterward',\n",
       " 'afterwards',\n",
       " 'aga',\n",
       " 'again',\n",
       " 'against',\n",
       " 'age',\n",
       " 'aileth',\n",
       " 'air',\n",
       " 'al',\n",
       " 'alive',\n",
       " 'all',\n",
       " 'almon',\n",
       " 'alo',\n",
       " 'alone',\n",
       " 'aloud',\n",
       " 'also',\n",
       " 'altar',\n",
       " 'altogether',\n",
       " 'always',\n",
       " 'am',\n",
       " 'among',\n",
       " 'amongst',\n",
       " 'an',\n",
       " 'and',\n",
       " 'angel',\n",
       " 'angels',\n",
       " 'anger',\n",
       " 'angry',\n",
       " 'anguish',\n",
       " 'anointedst',\n",
       " 'anoth',\n",
       " 'another',\n",
       " 'answer',\n",
       " 'answered',\n",
       " 'any',\n",
       " 'anything',\n",
       " 'appe',\n",
       " 'appear',\n",
       " 'appeared',\n",
       " 'appease',\n",
       " 'appoint',\n",
       " 'appointed',\n",
       " 'aprons',\n",
       " 'archer',\n",
       " 'archers',\n",
       " 'are',\n",
       " 'arise',\n",
       " 'ark',\n",
       " 'armed',\n",
       " 'arms',\n",
       " 'army',\n",
       " 'arose',\n",
       " 'arrayed',\n",
       " 'art',\n",
       " 'artificer',\n",
       " 'as',\n",
       " 'ascending',\n",
       " 'ash',\n",
       " 'ashamed',\n",
       " 'ask',\n",
       " 'asked',\n",
       " 'asketh',\n",
       " 'ass',\n",
       " 'assembly',\n",
       " 'asses',\n",
       " 'assigned',\n",
       " 'asswaged',\n",
       " 'at',\n",
       " 'attained',\n",
       " 'audience',\n",
       " 'avenged',\n",
       " 'aw',\n",
       " 'awaked',\n",
       " 'away',\n",
       " 'awoke',\n",
       " 'back',\n",
       " 'backward',\n",
       " 'bad',\n",
       " 'bade',\n",
       " 'badest',\n",
       " 'badne',\n",
       " 'bak',\n",
       " 'bake',\n",
       " 'bakemeats',\n",
       " 'baker',\n",
       " 'bakers',\n",
       " 'balm',\n",
       " 'bands',\n",
       " 'bank',\n",
       " 'bare',\n",
       " 'barr',\n",
       " 'barren',\n",
       " 'basket',\n",
       " 'baskets',\n",
       " 'battle',\n",
       " 'bdellium',\n",
       " 'be',\n",
       " 'bear',\n",
       " 'beari',\n",
       " 'bearing',\n",
       " 'beast',\n",
       " 'beasts',\n",
       " 'beautiful',\n",
       " 'became',\n",
       " 'because',\n",
       " 'become',\n",
       " 'bed',\n",
       " 'been',\n",
       " 'befall',\n",
       " 'befell',\n",
       " 'before',\n",
       " 'began',\n",
       " 'begat',\n",
       " 'beget',\n",
       " 'begettest',\n",
       " 'begin',\n",
       " 'beginning',\n",
       " 'begotten',\n",
       " 'beguiled',\n",
       " 'beheld',\n",
       " 'behind',\n",
       " 'behold',\n",
       " 'being',\n",
       " 'believed',\n",
       " 'belly',\n",
       " 'belong',\n",
       " 'beneath',\n",
       " 'bereaved',\n",
       " 'beside',\n",
       " 'besides',\n",
       " 'besought',\n",
       " 'best',\n",
       " 'betimes',\n",
       " 'better',\n",
       " 'between',\n",
       " 'betwixt',\n",
       " 'beyond',\n",
       " 'binding',\n",
       " 'bird',\n",
       " 'birds',\n",
       " 'birthday',\n",
       " 'birthright',\n",
       " 'biteth',\n",
       " 'bitter',\n",
       " 'blame',\n",
       " 'blameless',\n",
       " 'blasted',\n",
       " 'bless',\n",
       " 'blessed',\n",
       " 'blesseth',\n",
       " 'blessi',\n",
       " 'blessing',\n",
       " 'blessings',\n",
       " 'blindness',\n",
       " 'blood',\n",
       " 'blossoms',\n",
       " 'bodies',\n",
       " 'boldly',\n",
       " 'bondman',\n",
       " 'bondmen',\n",
       " 'bondwoman',\n",
       " 'bone',\n",
       " 'bones',\n",
       " 'book',\n",
       " 'booths',\n",
       " 'border',\n",
       " 'borders',\n",
       " 'born',\n",
       " 'bosom',\n",
       " 'both',\n",
       " 'bottle',\n",
       " 'bou',\n",
       " 'boug',\n",
       " 'bough',\n",
       " 'bought',\n",
       " 'bound',\n",
       " 'bow',\n",
       " 'bowed',\n",
       " 'bowels',\n",
       " 'bowing',\n",
       " 'boys',\n",
       " 'bracelets',\n",
       " 'branches',\n",
       " 'brass',\n",
       " 'bre',\n",
       " 'breach',\n",
       " 'bread',\n",
       " 'breadth',\n",
       " 'break',\n",
       " 'breaketh',\n",
       " 'breaking',\n",
       " 'breasts',\n",
       " 'breath',\n",
       " 'breathed',\n",
       " 'breed',\n",
       " 'brethren',\n",
       " 'brick',\n",
       " 'brimstone',\n",
       " 'bring',\n",
       " 'brink',\n",
       " 'broken',\n",
       " 'brook',\n",
       " 'broth',\n",
       " 'brother',\n",
       " 'brought',\n",
       " 'brown',\n",
       " 'bruise',\n",
       " 'budded',\n",
       " 'build',\n",
       " 'builded',\n",
       " 'built',\n",
       " 'bulls',\n",
       " 'bundle',\n",
       " 'bundles',\n",
       " 'burdens',\n",
       " 'buried',\n",
       " 'burn',\n",
       " 'burning',\n",
       " 'burnt',\n",
       " 'bury',\n",
       " 'buryingplace',\n",
       " 'business',\n",
       " 'but',\n",
       " 'butler',\n",
       " 'butlers',\n",
       " 'butlership',\n",
       " 'butter',\n",
       " 'buy',\n",
       " 'by',\n",
       " 'cakes',\n",
       " 'calf',\n",
       " 'call',\n",
       " 'called',\n",
       " 'came',\n",
       " 'camel',\n",
       " 'camels',\n",
       " 'camest',\n",
       " 'can',\n",
       " 'cannot',\n",
       " 'canst',\n",
       " 'captain',\n",
       " 'captive',\n",
       " 'captives',\n",
       " 'carcases',\n",
       " 'carried',\n",
       " 'carry',\n",
       " 'cast',\n",
       " 'castles',\n",
       " 'catt',\n",
       " 'cattle',\n",
       " 'caught',\n",
       " 'cause',\n",
       " 'caused',\n",
       " 'cave',\n",
       " 'cease',\n",
       " 'ceased',\n",
       " 'certain',\n",
       " 'certainly',\n",
       " 'chain',\n",
       " 'chamber',\n",
       " 'change',\n",
       " 'changed',\n",
       " 'changes',\n",
       " 'charge',\n",
       " 'charged',\n",
       " 'chariot',\n",
       " 'chariots',\n",
       " 'chesnut',\n",
       " 'chi',\n",
       " 'chief',\n",
       " 'child',\n",
       " 'childless',\n",
       " 'childr',\n",
       " 'children',\n",
       " 'chode',\n",
       " 'choice',\n",
       " 'chose',\n",
       " 'circumcis',\n",
       " 'circumcise',\n",
       " 'circumcised',\n",
       " 'citi',\n",
       " 'cities',\n",
       " 'city',\n",
       " 'clave',\n",
       " 'clean',\n",
       " 'clear',\n",
       " 'cleave',\n",
       " 'clo',\n",
       " 'closed',\n",
       " 'clothed',\n",
       " 'clothes',\n",
       " 'cloud',\n",
       " 'clusters',\n",
       " 'co',\n",
       " 'coat',\n",
       " 'coats',\n",
       " 'coffin',\n",
       " 'cold',\n",
       " ...]"
      ]
     },
     "execution_count": 16,
     "metadata": {},
     "output_type": "execute_result"
    }
   ],
   "source": [
    "sorted(set(text3))"
   ]
  },
  {
   "cell_type": "code",
   "execution_count": 17,
   "id": "66ccce76-02c4-42e6-9bb4-d1156294d748",
   "metadata": {
    "tags": []
   },
   "outputs": [
    {
     "data": {
      "text/plain": [
       "2789"
      ]
     },
     "execution_count": 17,
     "metadata": {},
     "output_type": "execute_result"
    }
   ],
   "source": [
    "len(set(text3))"
   ]
  },
  {
   "cell_type": "code",
   "execution_count": 18,
   "id": "e7587329-7fea-4c8c-a3a5-322358d94b14",
   "metadata": {
    "tags": []
   },
   "outputs": [
    {
     "data": {
      "text/plain": [
       "{'altar',\n",
       " 'assembly',\n",
       " 'hardly',\n",
       " 'bondwoman',\n",
       " 'Hinder',\n",
       " 'ladder',\n",
       " 'lands',\n",
       " 'Sinite',\n",
       " 'floc',\n",
       " 'scatter',\n",
       " 'deliver',\n",
       " 'Kenizzites',\n",
       " 'submit',\n",
       " 'it',\n",
       " 'take',\n",
       " 'cool',\n",
       " 'Save',\n",
       " 'spent',\n",
       " 'Zaphnathpaaneah',\n",
       " 'reign',\n",
       " 'Cause',\n",
       " 'na',\n",
       " 'nights',\n",
       " 'mist',\n",
       " 'Belah',\n",
       " 'dukes',\n",
       " 'images',\n",
       " 'Shel',\n",
       " 'cleave',\n",
       " 'drew',\n",
       " 'Amraphel',\n",
       " 'worse',\n",
       " 'trough',\n",
       " 'Jordan',\n",
       " 'proceedeth',\n",
       " 'wrapped',\n",
       " 'Ashkenaz',\n",
       " 'seven',\n",
       " 'going',\n",
       " 'still',\n",
       " 'possession',\n",
       " 'rightly',\n",
       " 'mi',\n",
       " 'grew',\n",
       " 'redeemed',\n",
       " 'there',\n",
       " 'street',\n",
       " 'eyed',\n",
       " 'garments',\n",
       " 'Not',\n",
       " 'grave',\n",
       " 'shot',\n",
       " 'Seba',\n",
       " 'beari',\n",
       " 'handmaids',\n",
       " 'seventeenth',\n",
       " 'every',\n",
       " 'now',\n",
       " 'folk',\n",
       " 'defiled',\n",
       " 'wearied',\n",
       " 'wounding',\n",
       " 'Shammah',\n",
       " 'Kadesh',\n",
       " 'couched',\n",
       " 'th',\n",
       " 'Upon',\n",
       " 'portion',\n",
       " 'Ehi',\n",
       " 'rams',\n",
       " 'born',\n",
       " 'menservants',\n",
       " 'persons',\n",
       " 'doer',\n",
       " 'meat',\n",
       " 'Hori',\n",
       " 'Melchizedek',\n",
       " 'Mibzar',\n",
       " 'fulfilled',\n",
       " 'gutters',\n",
       " 'Dan',\n",
       " 'whatsoever',\n",
       " 'drunken',\n",
       " 'fifty',\n",
       " 'bre',\n",
       " 'sakes',\n",
       " 'wells',\n",
       " 'touching',\n",
       " 'jud',\n",
       " 'begettest',\n",
       " 'Avith',\n",
       " 'Kittim',\n",
       " 'rode',\n",
       " 'assigned',\n",
       " 'stolen',\n",
       " 'sacrifice',\n",
       " 'Horites',\n",
       " 'ea',\n",
       " 'watch',\n",
       " 'receive',\n",
       " 'lamentati',\n",
       " 'caused',\n",
       " 'great',\n",
       " 'decreased',\n",
       " 'stead',\n",
       " 'Heber',\n",
       " 'did',\n",
       " 'walked',\n",
       " 'loveth',\n",
       " 'Kadmonites',\n",
       " 'Said',\n",
       " 'breaketh',\n",
       " 'ashamed',\n",
       " 'plenteousness',\n",
       " 'Lot',\n",
       " 'fly',\n",
       " 'dreamed',\n",
       " 'Almodad',\n",
       " 'magicians',\n",
       " 'pitch',\n",
       " 'though',\n",
       " 'isles',\n",
       " 'men',\n",
       " 'tak',\n",
       " 'lien',\n",
       " 'foreskin',\n",
       " 'chief',\n",
       " 'Jabal',\n",
       " 'Hobah',\n",
       " 'Abide',\n",
       " 'enough',\n",
       " 'beside',\n",
       " 'saved',\n",
       " 'everlasting',\n",
       " 'received',\n",
       " 'morter',\n",
       " 'shewed',\n",
       " 'conceal',\n",
       " 'Raamah',\n",
       " 'folly',\n",
       " 'fathers',\n",
       " 'Come',\n",
       " 'Arioch',\n",
       " 'Benam',\n",
       " 'Sitnah',\n",
       " 'require',\n",
       " 'wittingly',\n",
       " 'crieth',\n",
       " 'Bozrah',\n",
       " 'da',\n",
       " 'dainties',\n",
       " 'straw',\n",
       " 'how',\n",
       " 'slew',\n",
       " 'Do',\n",
       " 'his',\n",
       " 'separated',\n",
       " 'e',\n",
       " 'itself',\n",
       " 'measures',\n",
       " 'ask',\n",
       " 'mead',\n",
       " 'Erech',\n",
       " 'sojourned',\n",
       " 'Jeush',\n",
       " 'firmame',\n",
       " 'mischief',\n",
       " 'solemnly',\n",
       " 'but',\n",
       " 'Amorites',\n",
       " 'Anamim',\n",
       " 'frost',\n",
       " 'dress',\n",
       " 'Aram',\n",
       " 'throughout',\n",
       " 'Es',\n",
       " 'drink',\n",
       " 'gathered',\n",
       " 'Fear',\n",
       " 'became',\n",
       " 'Bethlehem',\n",
       " 'Arkite',\n",
       " 'lord',\n",
       " 'shepherds',\n",
       " 'mark',\n",
       " 'Shaul',\n",
       " 'mountain',\n",
       " 'perceived',\n",
       " 'restored',\n",
       " 'eleven',\n",
       " 'will',\n",
       " 'Shimron',\n",
       " 'visited',\n",
       " '.',\n",
       " 'servant',\n",
       " 'shore',\n",
       " 'thing',\n",
       " 'Carmi',\n",
       " 'famine',\n",
       " 'worthy',\n",
       " 'sight',\n",
       " 'Diklah',\n",
       " 'green',\n",
       " 'hundred',\n",
       " 'ward',\n",
       " 'gone',\n",
       " 'nakedness',\n",
       " 'earring',\n",
       " 'nine',\n",
       " 'denied',\n",
       " 'dunge',\n",
       " 'Babel',\n",
       " 'violence',\n",
       " 'spi',\n",
       " 'white',\n",
       " 'To',\n",
       " 'direct',\n",
       " 'know',\n",
       " 'Zibeon',\n",
       " 'Jobab',\n",
       " 'service',\n",
       " 'so',\n",
       " 'calf',\n",
       " 'sixth',\n",
       " 'bound',\n",
       " 'pleased',\n",
       " 'dim',\n",
       " 'Bela',\n",
       " 'troop',\n",
       " 'offering',\n",
       " 'provision',\n",
       " 'sojourn',\n",
       " 'herds',\n",
       " 'blessings',\n",
       " 'Allonbachuth',\n",
       " 'bones',\n",
       " 'fashion',\n",
       " 'lest',\n",
       " 'conceive',\n",
       " 'sand',\n",
       " 'Mahanaim',\n",
       " 'kneel',\n",
       " 'Bilhan',\n",
       " 'doubled',\n",
       " 'Both',\n",
       " 'leaf',\n",
       " 'liveth',\n",
       " 'G',\n",
       " 'Hamul',\n",
       " 'signet',\n",
       " 'precious',\n",
       " '!',\n",
       " 'discreet',\n",
       " 'feel',\n",
       " 'into',\n",
       " 'build',\n",
       " 'midst',\n",
       " 'Ard',\n",
       " 'Lamech',\n",
       " 'd',\n",
       " 'hunt',\n",
       " 'ships',\n",
       " 'distress',\n",
       " 'edge',\n",
       " 'southward',\n",
       " 'behold',\n",
       " 'cubit',\n",
       " 'true',\n",
       " 'Milcah',\n",
       " 'golden',\n",
       " 'kill',\n",
       " 'marriages',\n",
       " 'goest',\n",
       " 'enlarge',\n",
       " 'royal',\n",
       " 'west',\n",
       " 'Go',\n",
       " 'come',\n",
       " 'Shemeber',\n",
       " 'Rachel',\n",
       " 'host',\n",
       " 'sea',\n",
       " 'Sarai',\n",
       " 'Amal',\n",
       " 'Mibsam',\n",
       " 'mast',\n",
       " 'Earth',\n",
       " 'slaughter',\n",
       " 'grass',\n",
       " 'From',\n",
       " 'Thy',\n",
       " 'journeyed',\n",
       " 'fourscore',\n",
       " 'Phara',\n",
       " 'sweat',\n",
       " 'Bashemath',\n",
       " 'Therefore',\n",
       " 'Hanoch',\n",
       " 'charge',\n",
       " 'restore',\n",
       " 'spirit',\n",
       " 'of',\n",
       " 'gracious',\n",
       " 'too',\n",
       " 'hadst',\n",
       " 'Jetheth',\n",
       " 'overtake',\n",
       " 'mother',\n",
       " 'Hamathite',\n",
       " 'famished',\n",
       " 'reason',\n",
       " 'seeing',\n",
       " 'answer',\n",
       " 'Se',\n",
       " 'Onan',\n",
       " 'multiplied',\n",
       " 'beast',\n",
       " 'Woman',\n",
       " 'mine',\n",
       " 'spoken',\n",
       " 'Kiriathaim',\n",
       " 'wiv',\n",
       " 'glory',\n",
       " 'commanded',\n",
       " 'wept',\n",
       " 'journey',\n",
       " 'through',\n",
       " 'Manahath',\n",
       " 'enmity',\n",
       " 'ir',\n",
       " 'steal',\n",
       " 'searched',\n",
       " 'treasure',\n",
       " 'custom',\n",
       " 'anguish',\n",
       " 'Escape',\n",
       " 'clean',\n",
       " 'wouldest',\n",
       " 'window',\n",
       " 'withered',\n",
       " 'continually',\n",
       " 'la',\n",
       " 'staff',\n",
       " 'What',\n",
       " 'Hear',\n",
       " 'wrestlings',\n",
       " 'rib',\n",
       " 'pasture',\n",
       " 'Ishbak',\n",
       " 'oth',\n",
       " 'very',\n",
       " 'can',\n",
       " 'top',\n",
       " 'sustained',\n",
       " 'Shalem',\n",
       " 'dream',\n",
       " 'sac',\n",
       " 'Is',\n",
       " 'felt',\n",
       " 'ribs',\n",
       " 'whose',\n",
       " 'overdrive',\n",
       " 'end',\n",
       " 'Nay',\n",
       " 'ill',\n",
       " 'o',\n",
       " 'laugh',\n",
       " 'grief',\n",
       " 'Peniel',\n",
       " 'Midianites',\n",
       " 'urged',\n",
       " 'Canaan',\n",
       " 'Japhe',\n",
       " 'watered',\n",
       " 'as',\n",
       " 'ram',\n",
       " 'north',\n",
       " 'leaves',\n",
       " 'brother',\n",
       " 'bou',\n",
       " 'dost',\n",
       " 'gave',\n",
       " 'wor',\n",
       " 'wa',\n",
       " 'renown',\n",
       " 'Eliphaz',\n",
       " 'noon',\n",
       " 'Girgashites',\n",
       " 'pit',\n",
       " 'instead',\n",
       " 'having',\n",
       " 'halted',\n",
       " 'waxen',\n",
       " 'Moab',\n",
       " 'wealth',\n",
       " 'moon',\n",
       " 'we',\n",
       " 'fig',\n",
       " 'Behold',\n",
       " 'unleavened',\n",
       " 'person',\n",
       " 'Adah',\n",
       " 'sore',\n",
       " 'lade',\n",
       " 'stooped',\n",
       " 'no',\n",
       " 'Gether',\n",
       " 'Almighty',\n",
       " 'Eri',\n",
       " 'millions',\n",
       " 'cried',\n",
       " 'for',\n",
       " 'places',\n",
       " 'lords',\n",
       " 'enter',\n",
       " 'widowhood',\n",
       " 'Padan',\n",
       " 'Shebah',\n",
       " 'Shechem',\n",
       " 'wife',\n",
       " 'fruitful',\n",
       " 'herself',\n",
       " 'which',\n",
       " 'activity',\n",
       " 'beyond',\n",
       " 'tribes',\n",
       " 'hollow',\n",
       " 'hearken',\n",
       " 'Dedan',\n",
       " 'increased',\n",
       " 'plain',\n",
       " 'behind',\n",
       " 'salt',\n",
       " 'An',\n",
       " 'establish',\n",
       " 'light',\n",
       " 'gather',\n",
       " 'Isaac',\n",
       " 'Naphish',\n",
       " 'feast',\n",
       " 'tarried',\n",
       " 'circumcise',\n",
       " 'fou',\n",
       " 'son',\n",
       " 'sa',\n",
       " 'numbering',\n",
       " 'silv',\n",
       " 'dea',\n",
       " 'observed',\n",
       " 'appoint',\n",
       " 'bondman',\n",
       " 'boys',\n",
       " 'beautiful',\n",
       " 'goat',\n",
       " 'mention',\n",
       " 'couch',\n",
       " 'thou',\n",
       " 'virgin',\n",
       " 'lightly',\n",
       " 'lights',\n",
       " 'favour',\n",
       " 'embalm',\n",
       " 'Shur',\n",
       " 'harlot',\n",
       " 'habitations',\n",
       " 'abroad',\n",
       " 'whoredom',\n",
       " 'judge',\n",
       " 'Amalek',\n",
       " 'Hereby',\n",
       " 'remove',\n",
       " 'reigned',\n",
       " 'friend',\n",
       " 'sinew',\n",
       " 'teeth',\n",
       " 'Zaavan',\n",
       " 'generation',\n",
       " 'stars',\n",
       " 'me',\n",
       " 'Binding',\n",
       " 'onyx',\n",
       " 'seventh',\n",
       " 'he',\n",
       " 'gold',\n",
       " 'near',\n",
       " 'store',\n",
       " 'needeth',\n",
       " 'watering',\n",
       " 'shield',\n",
       " 'sat',\n",
       " 'seeth',\n",
       " 'besought',\n",
       " 'wherein',\n",
       " 'y',\n",
       " 'sacrifices',\n",
       " 'cloud',\n",
       " 'Shalt',\n",
       " 'Hazezontamar',\n",
       " 'Hittite',\n",
       " 'elder',\n",
       " 'Gather',\n",
       " 'dried',\n",
       " 'numbered',\n",
       " 'Ishuah',\n",
       " 'Tarshish',\n",
       " 'neither',\n",
       " 'Letushim',\n",
       " 'arise',\n",
       " 'Joktan',\n",
       " 'badest',\n",
       " 'third',\n",
       " 'feed',\n",
       " 'aga',\n",
       " 'following',\n",
       " 'softly',\n",
       " 'abated',\n",
       " 'Ashbel',\n",
       " 'Philistim',\n",
       " 'fell',\n",
       " 'hire',\n",
       " 'worth',\n",
       " 'summer',\n",
       " 'fellow',\n",
       " 'fourth',\n",
       " 'Zeboiim',\n",
       " 'Isra',\n",
       " 'Zeboim',\n",
       " 'Return',\n",
       " 'laden',\n",
       " 'blesseth',\n",
       " 'strove',\n",
       " 'milk',\n",
       " 'second',\n",
       " 'little',\n",
       " 'upright',\n",
       " 'lift',\n",
       " 'togeth',\n",
       " 'tongues',\n",
       " 'morning',\n",
       " 'goodly',\n",
       " 'absent',\n",
       " 'lean',\n",
       " 'salvation',\n",
       " 'Mehujael',\n",
       " 'and',\n",
       " 'Jared',\n",
       " 'knowledge',\n",
       " 'abide',\n",
       " 'Surely',\n",
       " 'Arbah',\n",
       " 'Asenath',\n",
       " 'concubines',\n",
       " 'draw',\n",
       " 'lodged',\n",
       " 'horse',\n",
       " 'meet',\n",
       " 'divided',\n",
       " 'smoke',\n",
       " 'giving',\n",
       " 'Nahor',\n",
       " 'protest',\n",
       " 'ford',\n",
       " 'Who',\n",
       " 'harp',\n",
       " 'Japheth',\n",
       " 'Casluhim',\n",
       " 'unawares',\n",
       " 'Hai',\n",
       " 'only',\n",
       " 'failed',\n",
       " 'Zerah',\n",
       " 'brick',\n",
       " 'perfect',\n",
       " 'pigeon',\n",
       " 'nativity',\n",
       " 'Zemarite',\n",
       " 'evening',\n",
       " 'digged',\n",
       " 'Goshen',\n",
       " 'should',\n",
       " 'regard',\n",
       " 'labour',\n",
       " 'toucheth',\n",
       " 'last',\n",
       " 'bow',\n",
       " 'Leummim',\n",
       " 'EleloheIsrael',\n",
       " 'doing',\n",
       " 'earing',\n",
       " 'honourable',\n",
       " 'weep',\n",
       " 'Pildash',\n",
       " 'Thirty',\n",
       " 'covered',\n",
       " 'burdens',\n",
       " 'therein',\n",
       " 'sevenfold',\n",
       " 'ripe',\n",
       " 'Cush',\n",
       " 'garmen',\n",
       " 'traffick',\n",
       " 'kid',\n",
       " 'cruelty',\n",
       " 'ash',\n",
       " 'foolishly',\n",
       " 'established',\n",
       " 'other',\n",
       " 'shadow',\n",
       " 'aloud',\n",
       " 'storehouses',\n",
       " 'Thorns',\n",
       " 'evil',\n",
       " 'forward',\n",
       " 'obeyed',\n",
       " 'strong',\n",
       " 'pluckt',\n",
       " 'moving',\n",
       " 'Shinab',\n",
       " 'Mam',\n",
       " 'Ephra',\n",
       " 'home',\n",
       " 'mocked',\n",
       " 'opened',\n",
       " 'love',\n",
       " 'lead',\n",
       " 'tidings',\n",
       " 'nuts',\n",
       " 'handmaid',\n",
       " 'Hagar',\n",
       " 'fowls',\n",
       " 'haven',\n",
       " 'separate',\n",
       " 'herd',\n",
       " 'Cain',\n",
       " 'small',\n",
       " 'putting',\n",
       " 'subdue',\n",
       " 'han',\n",
       " 'tree',\n",
       " 'Er',\n",
       " 'tabret',\n",
       " 'Zo',\n",
       " 'washed',\n",
       " 'few',\n",
       " 'pea',\n",
       " 'remember',\n",
       " 'fourteen',\n",
       " 'fourteenth',\n",
       " 'sepulchre',\n",
       " 'space',\n",
       " 'Deliver',\n",
       " 'midwife',\n",
       " 'speech',\n",
       " 'Beeri',\n",
       " 'truly',\n",
       " 'heir',\n",
       " 'Galeed',\n",
       " 'Naaman',\n",
       " 'breath',\n",
       " 'Art',\n",
       " 'Jebusites',\n",
       " 'Korah',\n",
       " 'then',\n",
       " 'horror',\n",
       " 'ungirded',\n",
       " 'clear',\n",
       " 'butlers',\n",
       " 'thoroughly',\n",
       " 'yield',\n",
       " 'handmaidens',\n",
       " 'asswaged',\n",
       " 'Cainan',\n",
       " 'continued',\n",
       " 'Ahuzzath',\n",
       " 'prayed',\n",
       " 'horses',\n",
       " 'governor',\n",
       " 'interpretations',\n",
       " 'Jubal',\n",
       " 'Deborah',\n",
       " 'Until',\n",
       " 'Cursed',\n",
       " 'delivered',\n",
       " 'Lay',\n",
       " 'heed',\n",
       " 'Rehoboth',\n",
       " 'water',\n",
       " 'whence',\n",
       " 'lighted',\n",
       " 'stink',\n",
       " 'returned',\n",
       " 'Bedad',\n",
       " 'against',\n",
       " 'drinking',\n",
       " 'till',\n",
       " 'money',\n",
       " 'plains',\n",
       " 'shoulders',\n",
       " 'creepeth',\n",
       " 'room',\n",
       " 'favoured',\n",
       " 'two',\n",
       " 'Kedemah',\n",
       " 'Even',\n",
       " 'Matred',\n",
       " 'while',\n",
       " 'Hazo',\n",
       " 'Abrah',\n",
       " 'her',\n",
       " 'eyes',\n",
       " 'boug',\n",
       " 'thyself',\n",
       " 'blame',\n",
       " 'war',\n",
       " 'quiver',\n",
       " 'quickly',\n",
       " 'spotted',\n",
       " 'Canaanite',\n",
       " 'tops',\n",
       " 'mayest',\n",
       " 'Girgasite',\n",
       " 'asked',\n",
       " 'wandering',\n",
       " 'entered',\n",
       " 'Hivite',\n",
       " 'fetched',\n",
       " 'stories',\n",
       " 'Midian',\n",
       " 'wrestled',\n",
       " 'army',\n",
       " 'reproa',\n",
       " 'Assyr',\n",
       " 'mou',\n",
       " 'Achbor',\n",
       " 'lamp',\n",
       " 'Meshech',\n",
       " 'Heaven',\n",
       " 'Speak',\n",
       " 'prison',\n",
       " 'freely',\n",
       " 'meadow',\n",
       " 'Rebek',\n",
       " 'Ask',\n",
       " 'afar',\n",
       " 'Bow',\n",
       " 'possessor',\n",
       " 'piece',\n",
       " 'hunting',\n",
       " 'choice',\n",
       " 'nig',\n",
       " 'sun',\n",
       " 'al',\n",
       " 'natio',\n",
       " 'risen',\n",
       " 'wentest',\n",
       " 'threshingfloor',\n",
       " 'It',\n",
       " 'called',\n",
       " 'ou',\n",
       " 'dearth',\n",
       " 'down',\n",
       " 'womb',\n",
       " 'He',\n",
       " 'power',\n",
       " 'Perizzit',\n",
       " 'errand',\n",
       " 'wickedly',\n",
       " ':',\n",
       " 'herdmen',\n",
       " 'Ajah',\n",
       " 'with',\n",
       " 'Amorite',\n",
       " 'Serah',\n",
       " 'stood',\n",
       " 'afraid',\n",
       " 'statutes',\n",
       " 'Chedorlaomer',\n",
       " 'double',\n",
       " 'female',\n",
       " 'commended',\n",
       " 'shrubs',\n",
       " 'Massa',\n",
       " 'afterward',\n",
       " 'silver',\n",
       " 'departed',\n",
       " 'saying',\n",
       " 'fled',\n",
       " 'enquire',\n",
       " 'camel',\n",
       " 'many',\n",
       " 'some',\n",
       " 'hold',\n",
       " 'therefore',\n",
       " 'why',\n",
       " 'planted',\n",
       " 'bad',\n",
       " 'Guni',\n",
       " 'fallen',\n",
       " 'thereby',\n",
       " 'wrath',\n",
       " 'Mesha',\n",
       " 'knead',\n",
       " 'ha',\n",
       " 'weary',\n",
       " 'duke',\n",
       " 'hearth',\n",
       " 'weig',\n",
       " 'morever',\n",
       " 'Calneh',\n",
       " 'corrupted',\n",
       " 'pottage',\n",
       " 'Baalhanan',\n",
       " 'Beersheba',\n",
       " 'Kohath',\n",
       " 'Jetur',\n",
       " 'their',\n",
       " 'yonder',\n",
       " 'died',\n",
       " 'land',\n",
       " 'grieved',\n",
       " 'waxed',\n",
       " 'meditate',\n",
       " 'city',\n",
       " 'bough',\n",
       " 'Pass',\n",
       " 'Canaanites',\n",
       " 'barr',\n",
       " 'thicket',\n",
       " 'grap',\n",
       " 'rewarded',\n",
       " 'wot',\n",
       " 'country',\n",
       " 'dry',\n",
       " 'dine',\n",
       " 'guilty',\n",
       " 'Amalekites',\n",
       " 'mess',\n",
       " 'health',\n",
       " 'grievous',\n",
       " 'oa',\n",
       " 'Hazarmaveth',\n",
       " 'There',\n",
       " 'the',\n",
       " 'master',\n",
       " 'brown',\n",
       " 'south',\n",
       " 'that',\n",
       " 'Thus',\n",
       " 'saving',\n",
       " 'doe',\n",
       " 'Which',\n",
       " 'either',\n",
       " 'fury',\n",
       " 'conceived',\n",
       " 'uppermost',\n",
       " 'yea',\n",
       " 'Bera',\n",
       " 'Hezron',\n",
       " 'tribute',\n",
       " 'dipped',\n",
       " 'quite',\n",
       " 'Shiloh',\n",
       " 'four',\n",
       " 'friends',\n",
       " 'fa',\n",
       " 'bundle',\n",
       " 'tents',\n",
       " 'savour',\n",
       " 'Shem',\n",
       " 'songs',\n",
       " 'seventy',\n",
       " 'Reuel',\n",
       " 'iniquity',\n",
       " 'sheepshearers',\n",
       " 'herb',\n",
       " '?',\n",
       " 'Esau',\n",
       " 'citi',\n",
       " 'Happy',\n",
       " 'ten',\n",
       " 'save',\n",
       " 'live',\n",
       " 'marry',\n",
       " 'heifer',\n",
       " 'Zoar',\n",
       " 'longeth',\n",
       " 'reward',\n",
       " 'Joseph',\n",
       " 'countenance',\n",
       " 'again',\n",
       " 'Moriah',\n",
       " 'be',\n",
       " 'Zuzims',\n",
       " 'him',\n",
       " 'forbid',\n",
       " 'Can',\n",
       " 'Rephaims',\n",
       " 'seen',\n",
       " 'dark',\n",
       " 'worshipped',\n",
       " 'gre',\n",
       " 'Bethel',\n",
       " 'wo',\n",
       " '.)',\n",
       " 'skins',\n",
       " 'descending',\n",
       " 'Take',\n",
       " 'order',\n",
       " 'else',\n",
       " 'themselv',\n",
       " 'cease',\n",
       " 'shut',\n",
       " 'concubi',\n",
       " 'Hiddekel',\n",
       " 'sle',\n",
       " 'am',\n",
       " 'harm',\n",
       " 'rained',\n",
       " 'By',\n",
       " 'Haggi',\n",
       " 'Togarmah',\n",
       " 'scarce',\n",
       " 'Spake',\n",
       " 'Cherubims',\n",
       " 'years',\n",
       " 'Neither',\n",
       " 'firmament',\n",
       " 'Zarah',\n",
       " 'hor',\n",
       " 'Zar',\n",
       " 'Gatam',\n",
       " 'was',\n",
       " 'deprived',\n",
       " 'imagination',\n",
       " 'His',\n",
       " 'Bethuel',\n",
       " 'provender',\n",
       " 'Kor',\n",
       " 'proved',\n",
       " 'Gaza',\n",
       " 'Abelmizraim',\n",
       " 'Laban',\n",
       " 'bird',\n",
       " 'remained',\n",
       " 'carry',\n",
       " 'belly',\n",
       " 'lives',\n",
       " 'Tidal',\n",
       " 'eat',\n",
       " 'Philistines',\n",
       " 'Ishmeelites',\n",
       " 'stopped',\n",
       " 'valley',\n",
       " 'Manasseh',\n",
       " 'purposing',\n",
       " 'ones',\n",
       " 'buy',\n",
       " 'Gerar',\n",
       " 'them',\n",
       " 'dwelt',\n",
       " 'shed',\n",
       " 'peradventure',\n",
       " 'took',\n",
       " 'pursue',\n",
       " 'thirteenth',\n",
       " 'shalt',\n",
       " 'hills',\n",
       " 'nation',\n",
       " 'Tubal',\n",
       " 'pleaseth',\n",
       " 'mean',\n",
       " 'shouldest',\n",
       " 'played',\n",
       " 'walking',\n",
       " 'rank',\n",
       " 'Kemuel',\n",
       " 'mercies',\n",
       " 'charged',\n",
       " 'displeased',\n",
       " 'twins',\n",
       " 'spilled',\n",
       " 'Jimnah',\n",
       " 'laid',\n",
       " 'hith',\n",
       " 'got',\n",
       " 'gro',\n",
       " 'horsemen',\n",
       " 'gotten',\n",
       " 'fearest',\n",
       " 'inhabitants',\n",
       " 'loins',\n",
       " 'fish',\n",
       " 'stay',\n",
       " 'Beware',\n",
       " 'guiltiness',\n",
       " 'Man',\n",
       " 'mistress',\n",
       " 'possess',\n",
       " 'grace',\n",
       " 'Are',\n",
       " ...}"
      ]
     },
     "execution_count": 18,
     "metadata": {},
     "output_type": "execute_result"
    }
   ],
   "source": [
    "set(text3)"
   ]
  },
  {
   "cell_type": "code",
   "execution_count": 22,
   "id": "39c22b55-7018-4608-8d69-24894715713c",
   "metadata": {
    "tags": []
   },
   "outputs": [
    {
     "data": {
      "text/plain": [
       "16.050197203298673"
      ]
     },
     "execution_count": 22,
     "metadata": {},
     "output_type": "execute_result"
    }
   ],
   "source": [
    "from __future__ import division\n",
    "len(text3)/len(set(text3))"
   ]
  },
  {
   "cell_type": "code",
   "execution_count": 23,
   "id": "f5e6f7ba-3cff-4fc1-a99f-fa0cdfab4127",
   "metadata": {
    "tags": []
   },
   "outputs": [
    {
     "data": {
      "text/plain": [
       "5"
      ]
     },
     "execution_count": 23,
     "metadata": {},
     "output_type": "execute_result"
    }
   ],
   "source": [
    "#text count\n",
    "text3.count(\"smote\")"
   ]
  },
  {
   "cell_type": "code",
   "execution_count": 24,
   "id": "0e306b5f-0acb-424b-9705-dbb757dba357",
   "metadata": {
    "tags": []
   },
   "outputs": [
    {
     "data": {
      "text/plain": [
       "1.457806031353621"
      ]
     },
     "execution_count": 24,
     "metadata": {},
     "output_type": "execute_result"
    }
   ],
   "source": [
    "# percentage of the total number of words in this text\n",
    "100*text4.count('a')/len(text4)"
   ]
  },
  {
   "cell_type": "code",
   "execution_count": 25,
   "id": "5ba7d028-08de-4a50-a254-69449b5f2a3c",
   "metadata": {
    "tags": []
   },
   "outputs": [
    {
     "data": {
      "text/plain": [
       "704"
      ]
     },
     "execution_count": 25,
     "metadata": {},
     "output_type": "execute_result"
    }
   ],
   "source": [
    "#text count\n",
    "text5.count('lol')"
   ]
  },
  {
   "cell_type": "code",
   "execution_count": 27,
   "id": "0608f7b6-413f-4f4f-b29f-fabdaa243a0d",
   "metadata": {
    "tags": []
   },
   "outputs": [
    {
     "data": {
      "text/plain": [
       "1.5640968673628082"
      ]
     },
     "execution_count": 27,
     "metadata": {},
     "output_type": "execute_result"
    }
   ],
   "source": [
    "# percentage of the total number of words in this text\n",
    "100*text5.count('lol')/len(text5)"
   ]
  },
  {
   "cell_type": "code",
   "execution_count": 37,
   "id": "ff12b220-cb15-4448-9e6f-9cb182c45718",
   "metadata": {
    "tags": []
   },
   "outputs": [],
   "source": [
    "# Calculating lenth and percentage using function"
   ]
  },
  {
   "cell_type": "code",
   "execution_count": 28,
   "id": "c0312775-984c-4dd3-b714-9729649ffd67",
   "metadata": {
    "tags": []
   },
   "outputs": [],
   "source": [
    "def lexical_diversity(text):\n",
    "    return len(text)/len(set(text))"
   ]
  },
  {
   "cell_type": "code",
   "execution_count": 29,
   "id": "8d445204-560f-4668-98c5-ce1a6eb11de4",
   "metadata": {
    "tags": []
   },
   "outputs": [],
   "source": [
    "def percentage(count, total):\n",
    "    return 100* count/total"
   ]
  },
  {
   "cell_type": "code",
   "execution_count": 30,
   "id": "3711cf28-4778-49fb-ad9f-7344bdf47529",
   "metadata": {
    "tags": []
   },
   "outputs": [
    {
     "data": {
      "text/plain": [
       "16.050197203298673"
      ]
     },
     "execution_count": 30,
     "metadata": {},
     "output_type": "execute_result"
    }
   ],
   "source": [
    "lexical_diversity(text3)"
   ]
  },
  {
   "cell_type": "code",
   "execution_count": 31,
   "id": "93f46b02-1246-415a-9c30-ca94c9428d53",
   "metadata": {
    "tags": []
   },
   "outputs": [
    {
     "data": {
      "text/plain": [
       "7.420046158918563"
      ]
     },
     "execution_count": 31,
     "metadata": {},
     "output_type": "execute_result"
    }
   ],
   "source": [
    "lexical_diversity(text5)"
   ]
  },
  {
   "cell_type": "code",
   "execution_count": 35,
   "id": "0e4d377a-70e5-4589-b345-8f3169404d07",
   "metadata": {
    "tags": []
   },
   "outputs": [
    {
     "data": {
      "text/plain": [
       "80.0"
      ]
     },
     "execution_count": 35,
     "metadata": {},
     "output_type": "execute_result"
    }
   ],
   "source": [
    "percentage(4,5)"
   ]
  },
  {
   "cell_type": "code",
   "execution_count": 36,
   "id": "8541fb58-79bb-4f7a-bcd9-66be56154af0",
   "metadata": {
    "tags": []
   },
   "outputs": [
    {
     "data": {
      "text/plain": [
       "1.457806031353621"
      ]
     },
     "execution_count": 36,
     "metadata": {},
     "output_type": "execute_result"
    }
   ],
   "source": [
    "percentage(text4.count('a'), len(text4))"
   ]
  },
  {
   "cell_type": "markdown",
   "id": "e31bae67-a8c5-42c1-9fba-77f83bb0c22a",
   "metadata": {},
   "source": [
    "### Texts as list of words"
   ]
  },
  {
   "cell_type": "code",
   "execution_count": 44,
   "id": "90fe130f-8153-4cc7-8215-5a359c863948",
   "metadata": {
    "tags": []
   },
   "outputs": [
    {
     "data": {
      "text/plain": [
       "['Call', 'me', 'Ishmael', '.']"
      ]
     },
     "execution_count": 44,
     "metadata": {},
     "output_type": "execute_result"
    }
   ],
   "source": [
    "sent1"
   ]
  },
  {
   "cell_type": "code",
   "execution_count": 40,
   "id": "83ee3e41-7a9e-4290-86f6-a1f802e2839f",
   "metadata": {
    "tags": []
   },
   "outputs": [
    {
     "data": {
      "text/plain": [
       "1.0"
      ]
     },
     "execution_count": 40,
     "metadata": {},
     "output_type": "execute_result"
    }
   ],
   "source": [
    "lexical_diversity(sent1)"
   ]
  },
  {
   "cell_type": "code",
   "execution_count": 41,
   "id": "6b0e8351-229e-4e35-8f50-115e650b1647",
   "metadata": {
    "tags": []
   },
   "outputs": [
    {
     "data": {
      "text/plain": [
       "['The',\n",
       " 'family',\n",
       " 'of',\n",
       " 'Dashwood',\n",
       " 'had',\n",
       " 'long',\n",
       " 'been',\n",
       " 'settled',\n",
       " 'in',\n",
       " 'Sussex',\n",
       " '.']"
      ]
     },
     "execution_count": 41,
     "metadata": {},
     "output_type": "execute_result"
    }
   ],
   "source": [
    "sent2"
   ]
  },
  {
   "cell_type": "code",
   "execution_count": 45,
   "id": "b589a361-8a9c-4249-adcb-35351ef34e16",
   "metadata": {
    "tags": []
   },
   "outputs": [
    {
     "data": {
      "text/plain": [
       "['In',\n",
       " 'the',\n",
       " 'beginning',\n",
       " 'God',\n",
       " 'created',\n",
       " 'the',\n",
       " 'heaven',\n",
       " 'and',\n",
       " 'the',\n",
       " 'earth',\n",
       " '.']"
      ]
     },
     "execution_count": 45,
     "metadata": {},
     "output_type": "execute_result"
    }
   ],
   "source": [
    "sent3"
   ]
  },
  {
   "cell_type": "code",
   "execution_count": 46,
   "id": "944cf9bf-5b8a-44e0-9b91-a55ae48b1fba",
   "metadata": {
    "tags": []
   },
   "outputs": [
    {
     "data": {
      "text/plain": [
       "['Fellow',\n",
       " '-',\n",
       " 'Citizens',\n",
       " 'of',\n",
       " 'the',\n",
       " 'Senate',\n",
       " 'and',\n",
       " 'of',\n",
       " 'the',\n",
       " 'House',\n",
       " 'of',\n",
       " 'Representatives',\n",
       " ':']"
      ]
     },
     "execution_count": 46,
     "metadata": {},
     "output_type": "execute_result"
    }
   ],
   "source": [
    "sent4"
   ]
  },
  {
   "cell_type": "code",
   "execution_count": 47,
   "id": "8674572e-99c6-4bb8-837a-a596dcde7fa5",
   "metadata": {
    "tags": []
   },
   "outputs": [
    {
     "data": {
      "text/plain": [
       "['THE',\n",
       " 'suburb',\n",
       " 'of',\n",
       " 'Saffron',\n",
       " 'Park',\n",
       " 'lay',\n",
       " 'on',\n",
       " 'the',\n",
       " 'sunset',\n",
       " 'side',\n",
       " 'of',\n",
       " 'London',\n",
       " ',',\n",
       " 'as',\n",
       " 'red',\n",
       " 'and',\n",
       " 'ragged',\n",
       " 'as',\n",
       " 'a',\n",
       " 'cloud',\n",
       " 'of',\n",
       " 'sunset',\n",
       " '.']"
      ]
     },
     "execution_count": 47,
     "metadata": {},
     "output_type": "execute_result"
    }
   ],
   "source": [
    "sent9"
   ]
  },
  {
   "cell_type": "code",
   "execution_count": 50,
   "id": "9b8465bb-c1cb-4344-873c-c35439e7f9bb",
   "metadata": {
    "tags": []
   },
   "outputs": [
    {
     "data": {
      "text/plain": [
       "['Fellow',\n",
       " '-',\n",
       " 'Citizens',\n",
       " 'of',\n",
       " 'the',\n",
       " 'Senate',\n",
       " 'and',\n",
       " 'of',\n",
       " 'the',\n",
       " 'House',\n",
       " 'of',\n",
       " 'Representatives',\n",
       " ':',\n",
       " 'Call',\n",
       " 'me',\n",
       " 'Ishmael',\n",
       " '.']"
      ]
     },
     "execution_count": 50,
     "metadata": {},
     "output_type": "execute_result"
    }
   ],
   "source": [
    "sent4 + sent1"
   ]
  },
  {
   "cell_type": "markdown",
   "id": "2044421b-cbbb-4963-a40e-85fec7d6b0d4",
   "metadata": {},
   "source": [
    "### Text slicing"
   ]
  },
  {
   "cell_type": "code",
   "execution_count": 51,
   "id": "bc22c401-1ccd-4bfc-a8cc-61a8a34feab8",
   "metadata": {
    "tags": []
   },
   "outputs": [],
   "source": [
    "sent1.append(\"Some\")"
   ]
  },
  {
   "cell_type": "code",
   "execution_count": 52,
   "id": "d21ff2a7-da71-41f2-8c31-1a897361d332",
   "metadata": {
    "tags": []
   },
   "outputs": [
    {
     "data": {
      "text/plain": [
       "['Call', 'me', 'Ishmael', '.', 'Some']"
      ]
     },
     "execution_count": 52,
     "metadata": {},
     "output_type": "execute_result"
    }
   ],
   "source": [
    "sent1"
   ]
  },
  {
   "cell_type": "code",
   "execution_count": 53,
   "id": "372a1bbe-8a01-427b-92dc-e3101bc3f4c9",
   "metadata": {
    "tags": []
   },
   "outputs": [
    {
     "data": {
      "text/plain": [
       "40"
      ]
     },
     "execution_count": 53,
     "metadata": {},
     "output_type": "execute_result"
    }
   ],
   "source": [
    "text1.count('heaven')"
   ]
  },
  {
   "cell_type": "code",
   "execution_count": 54,
   "id": "04e01bdd-e8df-44b3-8a7a-42b39639dd99",
   "metadata": {
    "tags": []
   },
   "outputs": [
    {
     "data": {
      "text/plain": [
       "'my'"
      ]
     },
     "execution_count": 54,
     "metadata": {},
     "output_type": "execute_result"
    }
   ],
   "source": [
    "text4[165]"
   ]
  },
  {
   "cell_type": "code",
   "execution_count": 55,
   "id": "503b743d-5b07-4ad0-96d5-a022656394ba",
   "metadata": {
    "tags": []
   },
   "outputs": [
    {
     "data": {
      "text/plain": [
       "'PART'"
      ]
     },
     "execution_count": 55,
     "metadata": {},
     "output_type": "execute_result"
    }
   ],
   "source": [
    "text5[110]"
   ]
  },
  {
   "cell_type": "code",
   "execution_count": 56,
   "id": "c858a03c-735d-48e6-b9c1-1d41db8ac956",
   "metadata": {
    "tags": []
   },
   "outputs": [
    {
     "data": {
      "text/plain": [
       "173"
      ]
     },
     "execution_count": 56,
     "metadata": {},
     "output_type": "execute_result"
    }
   ],
   "source": [
    "text4.index('awaken')"
   ]
  },
  {
   "cell_type": "code",
   "execution_count": 57,
   "id": "b4e7b5fc-81cc-4214-81fb-65742d499263",
   "metadata": {
    "tags": []
   },
   "outputs": [
    {
     "data": {
      "text/plain": [
       "['to', 'hell', 'lol', 'U7', 'JOIN', 'any', 'texas', 'girls', 'in', 'here', '?']"
      ]
     },
     "execution_count": 57,
     "metadata": {},
     "output_type": "execute_result"
    }
   ],
   "source": [
    "text5[1566:1577]"
   ]
  },
  {
   "cell_type": "code",
   "execution_count": 60,
   "id": "9333e840-76aa-4ba3-9cd4-e1b0d0b3445a",
   "metadata": {
    "tags": []
   },
   "outputs": [
    {
     "data": {
      "text/plain": [
       "['Lol', '.', 'ACTION', 'laughs', '.', 'i', 'got', 'a', 'first']"
      ]
     },
     "execution_count": 60,
     "metadata": {},
     "output_type": "execute_result"
    }
   ],
   "source": [
    "text5[1555:1564]"
   ]
  },
  {
   "cell_type": "markdown",
   "id": "17b9857d-7b3c-4d0c-956e-98cc7cf8176b",
   "metadata": {},
   "source": [
    "### Variable"
   ]
  },
  {
   "cell_type": "code",
   "execution_count": 62,
   "id": "1d2d266e-260b-4ca3-a614-2eca67fd0467",
   "metadata": {
    "tags": []
   },
   "outputs": [],
   "source": [
    "my_sent=['Bravely', 'Bold', 'sir']"
   ]
  },
  {
   "cell_type": "code",
   "execution_count": 63,
   "id": "1cad0f12-7f67-4ecc-8077-785b59ef550c",
   "metadata": {
    "tags": []
   },
   "outputs": [
    {
     "data": {
      "text/plain": [
       "['Bravely', 'Bold', 'sir']"
      ]
     },
     "execution_count": 63,
     "metadata": {},
     "output_type": "execute_result"
    }
   ],
   "source": [
    "my_sent"
   ]
  },
  {
   "cell_type": "code",
   "execution_count": 64,
   "id": "d08d69a3-7b59-4a3f-91c9-9ec9b7413916",
   "metadata": {
    "tags": []
   },
   "outputs": [],
   "source": [
    "vocab = set(text1)\n",
    "vocab_size= len(text1)"
   ]
  },
  {
   "cell_type": "code",
   "execution_count": 66,
   "id": "8b058e1c-830c-4bbd-a918-de93cf5b1577",
   "metadata": {
    "tags": []
   },
   "outputs": [
    {
     "data": {
      "text/plain": [
       "260819"
      ]
     },
     "execution_count": 66,
     "metadata": {},
     "output_type": "execute_result"
    }
   ],
   "source": [
    "vocab_size"
   ]
  },
  {
   "cell_type": "markdown",
   "id": "3d244f5e-d5b4-45e0-b01e-c108df5a8bf9",
   "metadata": {},
   "source": [
    "### String"
   ]
  },
  {
   "cell_type": "code",
   "execution_count": 67,
   "id": "28cf51c9-4c6d-49f2-892e-b80ca2f963c5",
   "metadata": {
    "tags": []
   },
   "outputs": [],
   "source": [
    "name=\"Monty\""
   ]
  },
  {
   "cell_type": "code",
   "execution_count": 68,
   "id": "f4a71a38-3b04-4f91-8b40-96e3722c302f",
   "metadata": {
    "tags": []
   },
   "outputs": [
    {
     "data": {
      "text/plain": [
       "'M'"
      ]
     },
     "execution_count": 68,
     "metadata": {},
     "output_type": "execute_result"
    }
   ],
   "source": [
    "name[0]"
   ]
  },
  {
   "cell_type": "code",
   "execution_count": 69,
   "id": "5128fa00-bf28-4000-a297-5a71b97e4aa9",
   "metadata": {
    "tags": []
   },
   "outputs": [
    {
     "data": {
      "text/plain": [
       "'Mon'"
      ]
     },
     "execution_count": 69,
     "metadata": {},
     "output_type": "execute_result"
    }
   ],
   "source": [
    "name[:3]"
   ]
  },
  {
   "cell_type": "markdown",
   "id": "6deed5e7-5ae0-4e9e-a746-85c84f2c3b6e",
   "metadata": {},
   "source": [
    "### Simple Statistics"
   ]
  },
  {
   "cell_type": "code",
   "execution_count": 71,
   "id": "2068d3ea-838c-481c-b404-ee93c1b967a3",
   "metadata": {
    "tags": []
   },
   "outputs": [],
   "source": [
    "saying = ['After', 'all', 'is', 'said', 'and', 'done', 'more', 'is', 'said', 'than', 'done']"
   ]
  },
  {
   "cell_type": "code",
   "execution_count": 73,
   "id": "48e68c5d-dc38-482b-9327-ed0a64bb8cfe",
   "metadata": {
    "tags": []
   },
   "outputs": [
    {
     "data": {
      "text/plain": [
       "['After', 'all', 'and', 'done', 'is', 'more', 'said', 'than']"
      ]
     },
     "execution_count": 73,
     "metadata": {},
     "output_type": "execute_result"
    }
   ],
   "source": [
    "tokens = set(saying)\n",
    "tokens=sorted(tokens)\n",
    "tokens"
   ]
  },
  {
   "cell_type": "code",
   "execution_count": 74,
   "id": "65c5e8b2-e5b8-4788-b62a-179d94dd65d1",
   "metadata": {
    "tags": []
   },
   "outputs": [
    {
     "data": {
      "text/plain": [
       "['said', 'than']"
      ]
     },
     "execution_count": 74,
     "metadata": {},
     "output_type": "execute_result"
    }
   ],
   "source": [
    "tokens[-2:]"
   ]
  },
  {
   "cell_type": "markdown",
   "id": "8a675131-a35d-4f80-8421-b1d5d8c69ffe",
   "metadata": {},
   "source": [
    "### Frequency Distributions"
   ]
  },
  {
   "cell_type": "code",
   "execution_count": 75,
   "id": "6e0cce83-203a-40b7-9be1-8a75eddc2459",
   "metadata": {
    "tags": []
   },
   "outputs": [],
   "source": [
    "fdist1 = FreqDist(text1)"
   ]
  },
  {
   "cell_type": "code",
   "execution_count": 76,
   "id": "acfe063f-ab27-4130-bf99-2227ec44c783",
   "metadata": {
    "tags": []
   },
   "outputs": [
    {
     "data": {
      "text/plain": [
       "FreqDist({',': 18713, 'the': 13721, '.': 6862, 'of': 6536, 'and': 6024, 'a': 4569, 'to': 4542, ';': 4072, 'in': 3916, 'that': 2982, ...})"
      ]
     },
     "execution_count": 76,
     "metadata": {},
     "output_type": "execute_result"
    }
   ],
   "source": [
    "fdist1"
   ]
  },
  {
   "cell_type": "code",
   "execution_count": 80,
   "id": "1eb67ba3-d8df-4a13-a1f5-7f572a6853c0",
   "metadata": {
    "tags": []
   },
   "outputs": [],
   "source": [
    "vocabulary1=fdist1.keys()\n"
   ]
  },
  {
   "cell_type": "code",
   "execution_count": 91,
   "id": "ccb7942e-5ad7-460e-964a-99429c74efc8",
   "metadata": {
    "tags": []
   },
   "outputs": [
    {
     "data": {
      "text/plain": [
       "['[',\n",
       " 'Moby',\n",
       " 'Dick',\n",
       " 'by',\n",
       " 'Herman',\n",
       " 'Melville',\n",
       " '1851',\n",
       " ']',\n",
       " 'ETYMOLOGY',\n",
       " '.']"
      ]
     },
     "execution_count": 91,
     "metadata": {},
     "output_type": "execute_result"
    }
   ],
   "source": [
    "list(fdist1.keys())[:10]"
   ]
  },
  {
   "cell_type": "code",
   "execution_count": 88,
   "id": "1d099ab6-f1ea-4a16-824e-81b67244567b",
   "metadata": {
    "tags": []
   },
   "outputs": [
    {
     "data": {
      "text/plain": [
       "['[', 'Moby', 'Dick', 'by', 'Herman']"
      ]
     },
     "execution_count": 88,
     "metadata": {},
     "output_type": "execute_result"
    }
   ],
   "source": [
    "list(vocabulary1)[:5]"
   ]
  },
  {
   "cell_type": "code",
   "execution_count": 85,
   "id": "aa242891-3ad4-42de-915c-fc54843e9dae",
   "metadata": {
    "tags": []
   },
   "outputs": [
    {
     "data": {
      "text/plain": [
       "906"
      ]
     },
     "execution_count": 85,
     "metadata": {},
     "output_type": "execute_result"
    }
   ],
   "source": [
    "fdist1['whale']"
   ]
  },
  {
   "cell_type": "code",
   "execution_count": 92,
   "id": "476c6745-59fa-4df5-91ec-e9c5d7d855d4",
   "metadata": {
    "tags": []
   },
   "outputs": [
    {
     "data": {
      "image/png": "[encoded data removed]",
      "text/plain": [
       "<Figure size 640x480 with 1 Axes>"
      ]
     },
     "metadata": {},
     "output_type": "display_data"
    },
    {
     "data": {
      "text/plain": [
       "<AxesSubplot: xlabel='Samples', ylabel='Cumulative Counts'>"
      ]
     },
     "execution_count": 92,
     "metadata": {},
     "output_type": "execute_result"
    }
   ],
   "source": [
    "fdist1.plot(50, cumulative=True)"
   ]
  },
  {
   "cell_type": "code",
   "execution_count": 93,
   "id": "123aa9b9-50ba-46f1-ab2c-07be31a1a6eb",
   "metadata": {
    "tags": []
   },
   "outputs": [],
   "source": [
    "v = set(text1)"
   ]
  },
  {
   "cell_type": "code",
   "execution_count": 94,
   "id": "c1e49831-fc3e-48a4-a43e-dcc42cfc8b3a",
   "metadata": {
    "tags": []
   },
   "outputs": [
    {
     "data": {
      "text/plain": [
       "['CIRCUMNAVIGATION',\n",
       " 'Physiognomically',\n",
       " 'apprehensiveness',\n",
       " 'cannibalistically',\n",
       " 'characteristically',\n",
       " 'circumnavigating',\n",
       " 'circumnavigation',\n",
       " 'circumnavigations',\n",
       " 'comprehensiveness',\n",
       " 'hermaphroditical',\n",
       " 'indiscriminately',\n",
       " 'indispensableness',\n",
       " 'irresistibleness',\n",
       " 'physiognomically',\n",
       " 'preternaturalness',\n",
       " 'responsibilities',\n",
       " 'simultaneousness',\n",
       " 'subterraneousness',\n",
       " 'supernaturalness',\n",
       " 'superstitiousness',\n",
       " 'uncomfortableness',\n",
       " 'uncompromisedness',\n",
       " 'undiscriminating',\n",
       " 'uninterpenetratingly']"
      ]
     },
     "execution_count": 94,
     "metadata": {},
     "output_type": "execute_result"
    }
   ],
   "source": [
    "long_words = [w for w in v if len(w) > 15]\n",
    "sorted(long_words)"
   ]
  },
  {
   "cell_type": "code",
   "execution_count": 96,
   "id": "0ae393c5-0050-4523-905f-4c5da9097b6d",
   "metadata": {
    "tags": []
   },
   "outputs": [
    {
     "data": {
      "text/plain": [
       "['#14-19teens',\n",
       " '#talkcity_adults',\n",
       " '((((((((((',\n",
       " '........',\n",
       " 'Question',\n",
       " 'actually',\n",
       " 'anything',\n",
       " 'computer',\n",
       " 'cute.-ass',\n",
       " 'everyone',\n",
       " 'football',\n",
       " 'innocent',\n",
       " 'listening',\n",
       " 'remember',\n",
       " 'seriously',\n",
       " 'something',\n",
       " 'together',\n",
       " 'tomorrow',\n",
       " 'watching']"
      ]
     },
     "execution_count": 96,
     "metadata": {},
     "output_type": "execute_result"
    }
   ],
   "source": [
    "fdist5 = FreqDist(text5)\n",
    "sorted([w for w in set(text5) if len(w) > 7 and fdist5[w] > 7])"
   ]
  },
  {
   "cell_type": "code",
   "execution_count": 98,
   "id": "a6886b8c-bd34-4838-a0ac-58ef6bd89218",
   "metadata": {
    "tags": []
   },
   "outputs": [
    {
     "name": "stdout",
     "output_type": "stream",
     "text": [
      "United States; fellow citizens; years ago; four years; Federal\n",
      "Government; General Government; American people; Vice President; God\n",
      "bless; Chief Justice; one another; fellow Americans; Old World;\n",
      "Almighty God; Fellow citizens; Chief Magistrate; every citizen; Indian\n",
      "tribes; public debt; foreign nations\n"
     ]
    }
   ],
   "source": [
    "text4.collocations()"
   ]
  },
  {
   "cell_type": "markdown",
   "id": "59e3e2ca-f567-489d-bd99-e08fbe7229f6",
   "metadata": {},
   "source": [
    "### Counting Other Thing"
   ]
  },
  {
   "cell_type": "code",
   "execution_count": 100,
   "id": "9c31a2fc-dedf-4a5f-90a3-fa3fd35c778d",
   "metadata": {
    "tags": []
   },
   "outputs": [],
   "source": [
    "# [len(w) for w in text1]"
   ]
  },
  {
   "cell_type": "code",
   "execution_count": 101,
   "id": "e281195f-6969-49d2-aa82-4cf28ff8aad8",
   "metadata": {
    "tags": []
   },
   "outputs": [
    {
     "data": {
      "text/plain": [
       "FreqDist({3: 50223, 1: 47933, 4: 42345, 2: 38513, 5: 26597, 6: 17111, 7: 14399, 8: 9966, 9: 6428, 10: 3528, ...})"
      ]
     },
     "execution_count": 101,
     "metadata": {},
     "output_type": "execute_result"
    }
   ],
   "source": [
    "fdist = FreqDist([len(w) for w in text1]) \n",
    "fdist"
   ]
  },
  {
   "cell_type": "code",
   "execution_count": 102,
   "id": "6b232f5e-de33-4c98-8c5a-5d55c7641e46",
   "metadata": {
    "tags": []
   },
   "outputs": [
    {
     "data": {
      "text/plain": [
       "dict_keys([1, 4, 2, 6, 8, 9, 11, 5, 7, 3, 10, 12, 13, 14, 16, 15, 17, 18, 20])"
      ]
     },
     "execution_count": 102,
     "metadata": {},
     "output_type": "execute_result"
    }
   ],
   "source": [
    "fdist.keys()"
   ]
  },
  {
   "cell_type": "code",
   "execution_count": 103,
   "id": "a051382e-7bca-4c7b-8d22-8f359a0f9a3e",
   "metadata": {
    "tags": []
   },
   "outputs": [
    {
     "data": {
      "text/plain": [
       "dict_items([(1, 47933), (4, 42345), (2, 38513), (6, 17111), (8, 9966), (9, 6428), (11, 1873), (5, 26597), (7, 14399), (3, 50223), (10, 3528), (12, 1053), (13, 567), (14, 177), (16, 22), (15, 70), (17, 12), (18, 1), (20, 1)])"
      ]
     },
     "execution_count": 103,
     "metadata": {},
     "output_type": "execute_result"
    }
   ],
   "source": [
    "fdist.items()"
   ]
  },
  {
   "cell_type": "code",
   "execution_count": 104,
   "id": "67bf5b14-345c-4fef-9617-0f6922a34aa9",
   "metadata": {
    "tags": []
   },
   "outputs": [
    {
     "data": {
      "text/plain": [
       "3"
      ]
     },
     "execution_count": 104,
     "metadata": {},
     "output_type": "execute_result"
    }
   ],
   "source": [
    "fdist.max()"
   ]
  },
  {
   "cell_type": "code",
   "execution_count": 105,
   "id": "74d47bb1-4369-4d43-b581-9f9c4f98d4d1",
   "metadata": {
    "tags": []
   },
   "outputs": [
    {
     "data": {
      "text/plain": [
       "50223"
      ]
     },
     "execution_count": 105,
     "metadata": {},
     "output_type": "execute_result"
    }
   ],
   "source": [
    "fdist[3]"
   ]
  },
  {
   "cell_type": "code",
   "execution_count": 106,
   "id": "ee5dce98-4a62-439e-a371-8a36918628c7",
   "metadata": {
    "tags": []
   },
   "outputs": [
    {
     "data": {
      "text/plain": [
       "0.19255882431878046"
      ]
     },
     "execution_count": 106,
     "metadata": {},
     "output_type": "execute_result"
    }
   ],
   "source": [
    "fdist.freq(3)"
   ]
  },
  {
   "cell_type": "markdown",
   "id": "383126ac-02d1-459a-a68a-37ac14275e5c",
   "metadata": {},
   "source": [
    "Example Description\n",
    "\n",
    "fdist = FreqDist(samples)  =>  Create a frequency distribution containing the given samples\n",
    "\n",
    "fdist.inc(sample)   =>  Increment the count for this sample\n",
    "\n",
    "fdist['monstrous']  =>   Count of the number of times a given sample occurred\n",
    "\n",
    "fdist.freq('monstrous')   =>  Frequency of a given sample\n",
    "\n",
    "fdist.N()   =>  Total number of samples\n",
    "\n",
    "fdist.keys()  =>   The samples sorted in order of decreasing frequency\n",
    "\n",
    "for sample in fdist:   =>  Iterate over the samples, in order of decreasing frequency\n",
    "\n",
    "fdist.max()  =>   Sample with the greatest count\n",
    "\n",
    "fdist.tabulate()   =>  Tabulate the frequency distribution\n",
    "\n",
    "fdist.plot()   =>  Graphical plot of the frequency distribution\n",
    "\n",
    "fdist.plot(cumulative=True)   =>  Cumulative plot of the frequency distribution\n",
    "\n",
    "fdist1 < fdist2   =>  Test if samples in fdist1 occur less frequently than in fdist2"
   ]
  },
  {
   "cell_type": "markdown",
   "id": "dc64e16b-b5b5-493f-a14f-da1e1ff8f72b",
   "metadata": {},
   "source": [
    "### Making decisions and taking controls"
   ]
  },
  {
   "cell_type": "markdown",
   "id": "c8938d7e-c6b0-4f21-90b3-715d231fc0eb",
   "metadata": {},
   "source": [
    "<\n",
    "\n",
    "<=\n",
    "\n",
    "==\n",
    "\n",
    "!=\n",
    "\n",
    ">\n",
    "\n",
    ">="
   ]
  },
  {
   "cell_type": "code",
   "execution_count": 107,
   "id": "9fde66ce-075a-42c2-a286-9f0db5656434",
   "metadata": {
    "tags": []
   },
   "outputs": [
    {
     "data": {
      "text/plain": [
       "['Pierre',\n",
       " 'Vinken',\n",
       " ',',\n",
       " '61',\n",
       " 'years',\n",
       " 'old',\n",
       " ',',\n",
       " 'will',\n",
       " 'join',\n",
       " 'the',\n",
       " 'board',\n",
       " 'as',\n",
       " 'a',\n",
       " 'nonexecutive',\n",
       " 'director',\n",
       " 'Nov.',\n",
       " '29',\n",
       " '.']"
      ]
     },
     "execution_count": 107,
     "metadata": {},
     "output_type": "execute_result"
    }
   ],
   "source": [
    "sent7"
   ]
  },
  {
   "cell_type": "code",
   "execution_count": 108,
   "id": "40273cf4-f992-4ad2-b177-6d70c955152d",
   "metadata": {
    "tags": []
   },
   "outputs": [
    {
     "data": {
      "text/plain": [
       "[',', '61', 'old', ',', 'the', 'as', 'a', '29', '.']"
      ]
     },
     "execution_count": 108,
     "metadata": {},
     "output_type": "execute_result"
    }
   ],
   "source": [
    "[w for w in sent7 if len(w) < 4]"
   ]
  },
  {
   "cell_type": "code",
   "execution_count": 109,
   "id": "b8ce04f9-84ae-4c63-a0e2-7eef6a4c9459",
   "metadata": {
    "tags": []
   },
   "outputs": [
    {
     "data": {
      "text/plain": [
       "[',', '61', 'old', ',', 'will', 'join', 'the', 'as', 'a', 'Nov.', '29', '.']"
      ]
     },
     "execution_count": 109,
     "metadata": {},
     "output_type": "execute_result"
    }
   ],
   "source": [
    "[w for w in sent7 if len(w) <= 4]"
   ]
  },
  {
   "cell_type": "code",
   "execution_count": 110,
   "id": "81f04847-3be9-4767-9a63-9c1dc93bab08",
   "metadata": {
    "tags": []
   },
   "outputs": [
    {
     "data": {
      "text/plain": [
       "['will', 'join', 'Nov.']"
      ]
     },
     "execution_count": 110,
     "metadata": {},
     "output_type": "execute_result"
    }
   ],
   "source": [
    "[w for w in sent7 if len(w) == 4]"
   ]
  },
  {
   "cell_type": "code",
   "execution_count": 111,
   "id": "9e47373e-b9fd-473a-b384-f237e3f4a04b",
   "metadata": {
    "tags": []
   },
   "outputs": [
    {
     "data": {
      "text/plain": [
       "['Pierre',\n",
       " 'Vinken',\n",
       " ',',\n",
       " '61',\n",
       " 'years',\n",
       " 'old',\n",
       " ',',\n",
       " 'the',\n",
       " 'board',\n",
       " 'as',\n",
       " 'a',\n",
       " 'nonexecutive',\n",
       " 'director',\n",
       " '29',\n",
       " '.']"
      ]
     },
     "execution_count": 111,
     "metadata": {},
     "output_type": "execute_result"
    }
   ],
   "source": [
    "[w for w in sent7 if len(w) != 4]"
   ]
  },
  {
   "cell_type": "code",
   "execution_count": 112,
   "id": "86067d51-57e8-49b1-8a02-1129ac6e42d0",
   "metadata": {
    "tags": []
   },
   "outputs": [
    {
     "data": {
      "text/plain": [
       "['comfortableness',\n",
       " 'honourableness',\n",
       " 'immutableness',\n",
       " 'indispensableness',\n",
       " 'indomitableness',\n",
       " 'intolerableness',\n",
       " 'palpableness',\n",
       " 'reasonableness',\n",
       " 'uncomfortableness']"
      ]
     },
     "execution_count": 112,
     "metadata": {},
     "output_type": "execute_result"
    }
   ],
   "source": [
    "sorted([w for w in set(text1) if w.endswith('ableness')])"
   ]
  },
  {
   "cell_type": "code",
   "execution_count": 116,
   "id": "48cc157a-aeff-452b-8e9a-9ae8ec2ffd56",
   "metadata": {
    "tags": []
   },
   "outputs": [],
   "source": [
    "# sorted([w for w in set(text1) if w.isupper()])"
   ]
  },
  {
   "cell_type": "code",
   "execution_count": 117,
   "id": "4176796d-a617-4062-81e5-4df9fb6e4495",
   "metadata": {
    "tags": []
   },
   "outputs": [
    {
     "data": {
      "text/plain": [
       "['ancient',\n",
       " 'ceiling',\n",
       " 'conceit',\n",
       " 'conceited',\n",
       " 'conceive',\n",
       " 'conscience',\n",
       " 'conscientious',\n",
       " 'conscientiously',\n",
       " 'deceitful',\n",
       " 'deceive',\n",
       " 'deceived',\n",
       " 'deceiving',\n",
       " 'deficiencies',\n",
       " 'deficiency',\n",
       " 'deficient',\n",
       " 'delicacies',\n",
       " 'excellencies',\n",
       " 'fancied',\n",
       " 'insufficiency',\n",
       " 'insufficient',\n",
       " 'legacies',\n",
       " 'perceive',\n",
       " 'perceived',\n",
       " 'perceiving',\n",
       " 'prescience',\n",
       " 'prophecies',\n",
       " 'receipt',\n",
       " 'receive',\n",
       " 'received',\n",
       " 'receiving',\n",
       " 'society',\n",
       " 'species',\n",
       " 'sufficient',\n",
       " 'sufficiently',\n",
       " 'undeceive',\n",
       " 'undeceiving']"
      ]
     },
     "execution_count": 117,
     "metadata": {},
     "output_type": "execute_result"
    }
   ],
   "source": [
    "sorted([t for t in set(text2) if 'cie' in t or 'cei' in t])"
   ]
  },
  {
   "cell_type": "code",
   "execution_count": 119,
   "id": "eec2e2cf-ce23-49c5-a7b2-6c250669e3d6",
   "metadata": {
    "tags": []
   },
   "outputs": [],
   "source": [
    "# [len(w) for w in text1]"
   ]
  },
  {
   "cell_type": "code",
   "execution_count": 121,
   "id": "adb8c84f-50ad-4168-840a-813b5b5be3b0",
   "metadata": {
    "tags": []
   },
   "outputs": [],
   "source": [
    "# [w.upper() for w in text1]"
   ]
  },
  {
   "cell_type": "code",
   "execution_count": 122,
   "id": "596384c2-b122-4ccf-96f5-353e430a03bf",
   "metadata": {
    "tags": []
   },
   "outputs": [
    {
     "data": {
      "text/plain": [
       "260819"
      ]
     },
     "execution_count": 122,
     "metadata": {},
     "output_type": "execute_result"
    }
   ],
   "source": [
    "len(text1)"
   ]
  },
  {
   "cell_type": "code",
   "execution_count": 123,
   "id": "000a9ebb-7654-41c2-94ff-d5a367d46dbc",
   "metadata": {
    "tags": []
   },
   "outputs": [
    {
     "data": {
      "text/plain": [
       "19317"
      ]
     },
     "execution_count": 123,
     "metadata": {},
     "output_type": "execute_result"
    }
   ],
   "source": [
    "len(set(text1))"
   ]
  },
  {
   "cell_type": "code",
   "execution_count": 124,
   "id": "2139ce80-bc6e-44b2-bff1-9dbc040fe8d8",
   "metadata": {
    "tags": []
   },
   "outputs": [
    {
     "data": {
      "text/plain": [
       "17231"
      ]
     },
     "execution_count": 124,
     "metadata": {},
     "output_type": "execute_result"
    }
   ],
   "source": [
    "len(set([word.lower() for word in text1]))"
   ]
  },
  {
   "cell_type": "code",
   "execution_count": 125,
   "id": "1a818c21-699a-4b77-a713-33e32759e25b",
   "metadata": {
    "tags": []
   },
   "outputs": [
    {
     "data": {
      "text/plain": [
       "16948"
      ]
     },
     "execution_count": 125,
     "metadata": {},
     "output_type": "execute_result"
    }
   ],
   "source": [
    "len(set([word.lower() for word in text1 if word.isalpha()]))\n"
   ]
  },
  {
   "cell_type": "markdown",
   "id": "c79b0634-a478-4de2-a65d-9733ea1edb42",
   "metadata": {},
   "source": [
    "### Nested code blocks"
   ]
  },
  {
   "cell_type": "code",
   "execution_count": 126,
   "id": "7f6f3068-c15a-4b17-b945-91aca96af152",
   "metadata": {
    "tags": []
   },
   "outputs": [
    {
     "name": "stdout",
     "output_type": "stream",
     "text": [
      "Word length is less than 5\n"
     ]
    }
   ],
   "source": [
    "word = 'cat'\n",
    "if len(word) < 5:\n",
    "    print(\"Word length is less than 5\")"
   ]
  },
  {
   "cell_type": "code",
   "execution_count": 127,
   "id": "b893beaf-408b-4504-adfd-93661db3ab82",
   "metadata": {
    "tags": []
   },
   "outputs": [
    {
     "name": "stdout",
     "output_type": "stream",
     "text": [
      "call\n",
      "me\n",
      "ashiq\n"
     ]
    }
   ],
   "source": [
    "for word in ['call', 'me', 'ashiq']:\n",
    "    print(word)"
   ]
  },
  {
   "cell_type": "code",
   "execution_count": 128,
   "id": "c77057fc-4559-49ae-9403-5d56dde22d9c",
   "metadata": {
    "tags": []
   },
   "outputs": [
    {
     "data": {
      "text/plain": [
       "['Call', 'me', 'Ishmael', '.', 'Some']"
      ]
     },
     "execution_count": 128,
     "metadata": {},
     "output_type": "execute_result"
    }
   ],
   "source": [
    "sent1"
   ]
  },
  {
   "cell_type": "code",
   "execution_count": 131,
   "id": "3ca98274-cbd5-4fb3-a124-4292d2801cac",
   "metadata": {
    "tags": []
   },
   "outputs": [
    {
     "name": "stdout",
     "output_type": "stream",
     "text": [
      "Call\n",
      "Ishmael\n"
     ]
    }
   ],
   "source": [
    "sent1=['Call', 'me', 'Ishmael', '.', 'Some']\n",
    "for xyzzy in sent1:\n",
    "    if xyzzy.endswith('l'):\n",
    "        print(xyzzy)"
   ]
  },
  {
   "cell_type": "code",
   "execution_count": 134,
   "id": "9e335437-3226-46b6-a591-cf31a960944f",
   "metadata": {
    "tags": []
   },
   "outputs": [
    {
     "name": "stdout",
     "output_type": "stream",
     "text": [
      "Call is a titlecase word\n",
      "me is a lowercase word\n",
      "Ishmael is a titlecase word\n",
      ". is punctuation\n",
      "Some is a titlecase word\n"
     ]
    }
   ],
   "source": [
    "for token in sent1:\n",
    "    if token.islower():\n",
    "        print(token, 'is a lowercase word')\n",
    "    elif token.istitle():\n",
    "        print(token, 'is a titlecase word')\n",
    "    else:\n",
    "        print(token, 'is punctuation')"
   ]
  },
  {
   "cell_type": "code",
   "execution_count": 135,
   "id": "f2906aca-8d11-4889-8b1d-2b00a4379a24",
   "metadata": {
    "tags": []
   },
   "outputs": [
    {
     "name": "stdout",
     "output_type": "stream",
     "text": [
      "ancient\n",
      "ceiling\n",
      "conceit\n",
      "conceited\n",
      "conceive\n",
      "conscience\n",
      "conscientious\n",
      "conscientiously\n",
      "deceitful\n",
      "deceive\n",
      "deceived\n",
      "deceiving\n",
      "deficiencies\n",
      "deficiency\n",
      "deficient\n",
      "delicacies\n",
      "excellencies\n",
      "fancied\n",
      "insufficiency\n",
      "insufficient\n",
      "legacies\n",
      "perceive\n",
      "perceived\n",
      "perceiving\n",
      "prescience\n",
      "prophecies\n",
      "receipt\n",
      "receive\n",
      "received\n",
      "receiving\n",
      "society\n",
      "species\n",
      "sufficient\n",
      "sufficiently\n",
      "undeceive\n",
      "undeceiving\n"
     ]
    }
   ],
   "source": [
    "tricky = sorted([w for w in set(text2) if 'cie' in w or 'cei' in w])\n",
    "for word in tricky:\n",
    "    print(word)"
   ]
  },
  {
   "cell_type": "markdown",
   "id": "3ae8de0b-ee19-4fe2-9c3c-9c4e0e781cc9",
   "metadata": {},
   "source": [
    "### Automatic Natural Language Understanding"
   ]
  },
  {
   "cell_type": "code",
   "execution_count": 138,
   "id": "82b03e33-79c7-4097-9027-36c3a95835b3",
   "metadata": {
    "tags": []
   },
   "outputs": [
    {
     "ename": "NameError",
     "evalue": "name 'babelize_shell' is not defined",
     "output_type": "error",
     "traceback": [
      "\u001b[1;31m---------------------------------------------------------------------------\u001b[0m",
      "\u001b[1;31mNameError\u001b[0m                                 Traceback (most recent call last)",
      "Cell \u001b[1;32mIn[138], line 1\u001b[0m\n\u001b[1;32m----> 1\u001b[0m \u001b[43mbabelize_shell\u001b[49m()\n",
      "\u001b[1;31mNameError\u001b[0m: name 'babelize_shell' is not defined"
     ]
    }
   ],
   "source": [
    "babelize_shell()"
   ]
  },
  {
   "cell_type": "code",
   "execution_count": null,
   "id": "9a6c1ad3-0a3f-4b37-8239-201df236abb6",
   "metadata": {},
   "outputs": [],
   "source": []
  },
  {
   "cell_type": "code",
   "execution_count": null,
   "id": "62479814-9ae3-48cd-b01c-826ae0b3f609",
   "metadata": {},
   "outputs": [],
   "source": []
  }
 ],
 "metadata": {
  "kernelspec": {
   "display_name": "Python 3 (ipykernel)",
   "language": "python",
   "name": "python3"
  },
  "language_info": {
   "codemirror_mode": {
    "name": "ipython",
    "version": 3
   },
   "file_extension": ".py",
   "mimetype": "text/x-python",
   "name": "python",
   "nbconvert_exporter": "python",
   "pygments_lexer": "ipython3",
   "version": "3.11.1"
  }
 },
 "nbformat": 4,
 "nbformat_minor": 5
}
